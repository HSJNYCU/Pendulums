{
 "cells": [
  {
   "cell_type": "markdown",
   "id": "40944de1",
   "metadata": {},
   "source": [
    "參考文章為:Modelling and control of actuated lower limb exoskeletons : a mathematical application using central pattern generators and nonlinear feedback control techniques"
   ]
  },
  {
   "cell_type": "code",
   "execution_count": 1,
   "id": "7b02180c",
   "metadata": {},
   "outputs": [],
   "source": [
    "# 定義需要用到的函式\n",
    "from sympy import symbols, Matrix, cos, sin, simplify, diff\n",
    "from sympy.physics.mechanics import dynamicsymbols"
   ]
  },
  {
   "cell_type": "code",
   "execution_count": 2,
   "id": "9277a874",
   "metadata": {},
   "outputs": [],
   "source": [
    "# th1 = theta1\n",
    "# _d0 = 0次微分, _d1 = 1次微分, _d2 = 2次微分\n",
    "th1_d0, th2_d0, th3_d0, th4_d0, th5_d0 = dynamicsymbols('theta1 theta2 theta3 theta4 theta5')\n",
    "th1_d1, th2_d1, th3_d1, th4_d1, th5_d1 = dynamicsymbols('theta1 theta2 theta3 theta4 theta5',1)\n",
    "th1_d2, th2_d2, th3_d2, th4_d2, th5_d2 = dynamicsymbols('theta1 theta2 theta3 theta4 theta5',2)"
   ]
  },
  {
   "cell_type": "code",
   "execution_count": 3,
   "id": "2ca13e20",
   "metadata": {},
   "outputs": [],
   "source": [
    "# define scalars\n",
    "t, g = symbols('t g') # time, gravity\n",
    "ms, mt, mb = symbols('m_s  m_t  m_b') # mass of shank, thigh, body\n",
    "Ls, Lt, Lb = symbols('L_s  L_t  L_b') # length of shank, thigh, body\n",
    "Is, It, Ib = symbols('I_s  I_t  I_b') # moment of inertia of shank, thigh, body\n",
    "LGs, LGt, LGb = symbols('LG_s  LG_t  LG_b') # length of c.g. of shank, thigh, body"
   ]
  },
  {
   "cell_type": "markdown",
   "id": "765a7151",
   "metadata": {},
   "source": [
    "座標定義: 向右為+x, 向上為+z, 入射紙面為+y\n",
    "$$\\hat{z} \\times \\hat{x} = \\hat{y}$$"
   ]
  },
  {
   "cell_type": "markdown",
   "id": "a78c2ee1",
   "metadata": {},
   "source": [
    "<img src=\"figures/Ajayi_Model.png\" alt=\"Drawing\" style=\"width: 400px;\"/>"
   ]
  },
  {
   "cell_type": "code",
   "execution_count": 4,
   "id": "d40f44f6",
   "metadata": {},
   "outputs": [],
   "source": [
    "xc1 = LGs*sin(th1_d0)\n",
    "zc1 = LGs*cos(th1_d0)\n",
    "\n",
    "xc2 = Ls*sin(th1_d0) + LGt*sin(th2_d0)\n",
    "zc2 = Ls*cos(th1_d0) + LGt*cos(th2_d0)\n",
    "\n",
    "xc3 = Ls*sin(th1_d0) + Lt*sin(th2_d0) + LGb*sin(th3_d0)\n",
    "zc3 = Ls*cos(th1_d0) + Lt*cos(th2_d0) + LGb*cos(th3_d0)\n",
    "\n",
    "xc4 = Ls*sin(th1_d0) + Lt*sin(th2_d0) + (Lt - LGt)*sin(th4_d0)\n",
    "zc4 = Ls*cos(th1_d0) + Lt*cos(th2_d0) - (Lt - LGt)*cos(th4_d0)\n",
    "\n",
    "xc5 = Ls*sin(th1_d0) + Lt*sin(th2_d0) + Lt*sin(th4_d0) + (Ls - LGs)*sin(th5_d0)\n",
    "zc5 = Ls*cos(th1_d0) + Lt*cos(th2_d0) - Lt*cos(th4_d0) - (Ls - LGs)*cos(th5_d0)"
   ]
  },
  {
   "cell_type": "code",
   "execution_count": 5,
   "id": "8ad5beef",
   "metadata": {},
   "outputs": [],
   "source": [
    "vc1 = diff(Matrix([[xc1],[0],[zc1]]),t)\n",
    "vc2 = diff(Matrix([[xc2],[0],[zc2]]),t)\n",
    "vc3 = diff(Matrix([[xc3],[0],[zc3]]),t)\n",
    "vc4 = diff(Matrix([[xc4],[0],[zc4]]),t)\n",
    "vc5 = diff(Matrix([[xc5],[0],[zc5]]),t)"
   ]
  },
  {
   "cell_type": "markdown",
   "id": "52b03163",
   "metadata": {},
   "source": [
    "## Kinetic Energy K"
   ]
  },
  {
   "cell_type": "code",
   "execution_count": 6,
   "id": "dacd5605",
   "metadata": {},
   "outputs": [],
   "source": [
    "# Translational kinetic energy\n",
    "K_stand_shank = ms*vc1.T.dot(vc1)/2\n",
    "K_stand_thigh = mt*vc2.T.dot(vc2)/2\n",
    "K_body        = mb*vc3.T.dot(vc3)/2\n",
    "K_swing_thigh = mt*vc4.T.dot(vc4)/2\n",
    "K_swing_shank = ms*vc5.T.dot(vc5)/2\n",
    "\n",
    "# Rotational kinetic energy\n",
    "K_rotation = Is*th1_d1**2/2 + It*th2_d1**2/2 + Ib*th3_d1**2/2 + It*th4_d1**2/2 + Is*th5_d1**2/2\n",
    "\n",
    "# Total kinetic energy\n",
    "K_total = K_stand_shank+K_stand_thigh+K_body+K_swing_thigh+K_swing_shank+K_rotation"
   ]
  },
  {
   "cell_type": "markdown",
   "id": "2c97e2b4",
   "metadata": {},
   "source": [
    "## Potential Energy U"
   ]
  },
  {
   "cell_type": "code",
   "execution_count": 7,
   "id": "9e4b4702",
   "metadata": {},
   "outputs": [],
   "source": [
    "U_stand_shank = ms*g*zc1\n",
    "U_stand_thigh = mt*g*zc2\n",
    "U_body        = mb*g*zc3\n",
    "U_swing_thigh = mt*g*zc4\n",
    "U_swing_shank = ms*g*zc5\n",
    "\n",
    "U_total = U_stand_shank+U_stand_thigh+U_body+U_swing_thigh+U_swing_shank"
   ]
  },
  {
   "cell_type": "markdown",
   "id": "56b08e43",
   "metadata": {},
   "source": [
    "## Lagrangian"
   ]
  },
  {
   "cell_type": "code",
   "execution_count": 8,
   "id": "3ab3193e",
   "metadata": {},
   "outputs": [],
   "source": [
    "system_L = K_total - U_total"
   ]
  },
  {
   "cell_type": "markdown",
   "id": "0bd17c15",
   "metadata": {},
   "source": [
    "## Calculate EoM"
   ]
  },
  {
   "cell_type": "code",
   "execution_count": 9,
   "id": "63c44888",
   "metadata": {},
   "outputs": [],
   "source": [
    "from sympy.physics.mechanics import LagrangesMethod, Lagrangian\n",
    "\n",
    "system_LM = LagrangesMethod(system_L, [th1_d0, th2_d0, th3_d0, th4_d0, th5_d0])\n",
    "system_EoM = system_LM.form_lagranges_equations()"
   ]
  },
  {
   "cell_type": "markdown",
   "id": "7d4cad0f",
   "metadata": {},
   "source": [
    "### Check equations\n",
    "\n",
    "首先檢查mass matrix, 論文中的mass matrix依序為\n",
    "\n",
    "<img src=\"figures/Ajayi_MM_11to15.png\" alt=\"Drawing\" style=\"height: 120px;\"/>"
   ]
  },
  {
   "cell_type": "code",
   "execution_count": 10,
   "id": "260fda2f",
   "metadata": {},
   "outputs": [],
   "source": [
    "system_MM = simplify(system_LM.mass_matrix)"
   ]
  },
  {
   "cell_type": "code",
   "execution_count": 11,
   "id": "42f545bf",
   "metadata": {},
   "outputs": [
    {
     "data": {
      "text/latex": [
       "$\\displaystyle I_{s} + LG_{s}^{2} m_{s} + L_{s}^{2} m_{b} + L_{s}^{2} m_{s} + 2 L_{s}^{2} m_{t}$"
      ],
      "text/plain": [
       "I_s + LG_s**2*m_s + L_s**2*m_b + L_s**2*m_s + 2*L_s**2*m_t"
      ]
     },
     "execution_count": 11,
     "metadata": {},
     "output_type": "execute_result"
    }
   ],
   "source": [
    "system_MM[0,0]"
   ]
  },
  {
   "cell_type": "code",
   "execution_count": 12,
   "id": "84f5d413",
   "metadata": {},
   "outputs": [
    {
     "data": {
      "text/latex": [
       "$\\displaystyle L_{s} \\left(LG_{t} m_{t} + L_{t} m_{b} + L_{t} m_{s} + L_{t} m_{t}\\right) \\cos{\\left(\\theta_{1}{\\left(t \\right)} - \\theta_{2}{\\left(t \\right)} \\right)}$"
      ],
      "text/plain": [
       "L_s*(LG_t*m_t + L_t*m_b + L_t*m_s + L_t*m_t)*cos(theta1(t) - theta2(t))"
      ]
     },
     "execution_count": 12,
     "metadata": {},
     "output_type": "execute_result"
    }
   ],
   "source": [
    "system_MM[0,1]"
   ]
  },
  {
   "cell_type": "code",
   "execution_count": 13,
   "id": "af3e9fec",
   "metadata": {},
   "outputs": [
    {
     "data": {
      "text/latex": [
       "$\\displaystyle LG_{b} L_{s} m_{b} \\cos{\\left(\\theta_{1}{\\left(t \\right)} - \\theta_{3}{\\left(t \\right)} \\right)}$"
      ],
      "text/plain": [
       "LG_b*L_s*m_b*cos(theta1(t) - theta3(t))"
      ]
     },
     "execution_count": 13,
     "metadata": {},
     "output_type": "execute_result"
    }
   ],
   "source": [
    "system_MM[0,2]"
   ]
  },
  {
   "cell_type": "code",
   "execution_count": 14,
   "id": "d4d88837",
   "metadata": {},
   "outputs": [
    {
     "data": {
      "text/latex": [
       "$\\displaystyle L_{s} \\left(L_{t} m_{s} - m_{t} \\left(LG_{t} - L_{t}\\right)\\right) \\cos{\\left(\\theta_{1}{\\left(t \\right)} + \\theta_{4}{\\left(t \\right)} \\right)}$"
      ],
      "text/plain": [
       "L_s*(L_t*m_s - m_t*(LG_t - L_t))*cos(theta1(t) + theta4(t))"
      ]
     },
     "execution_count": 14,
     "metadata": {},
     "output_type": "execute_result"
    }
   ],
   "source": [
    "system_MM[0,3]"
   ]
  },
  {
   "cell_type": "code",
   "execution_count": 15,
   "id": "e834cd63",
   "metadata": {},
   "outputs": [
    {
     "data": {
      "text/latex": [
       "$\\displaystyle - L_{s} m_{s} \\left(LG_{s} - L_{s}\\right) \\cos{\\left(\\theta_{1}{\\left(t \\right)} + \\theta_{5}{\\left(t \\right)} \\right)}$"
      ],
      "text/plain": [
       "-L_s*m_s*(LG_s - L_s)*cos(theta1(t) + theta5(t))"
      ]
     },
     "execution_count": 15,
     "metadata": {},
     "output_type": "execute_result"
    }
   ],
   "source": [
    "system_MM[0,4]"
   ]
  },
  {
   "cell_type": "markdown",
   "id": "e614bf31",
   "metadata": {},
   "source": [
    "<img src=\"figures/Ajayi_MM_21to25.png\" alt=\"Drawing\" style=\"height: 120px;\"/>"
   ]
  },
  {
   "cell_type": "code",
   "execution_count": 18,
   "id": "e25290f5",
   "metadata": {},
   "outputs": [
    {
     "data": {
      "text/latex": [
       "$\\displaystyle L_{s} \\left(LG_{t} m_{t} + L_{t} m_{b} + L_{t} m_{s} + L_{t} m_{t}\\right) \\cos{\\left(\\theta_{1}{\\left(t \\right)} - \\theta_{2}{\\left(t \\right)} \\right)}$"
      ],
      "text/plain": [
       "L_s*(LG_t*m_t + L_t*m_b + L_t*m_s + L_t*m_t)*cos(theta1(t) - theta2(t))"
      ]
     },
     "execution_count": 18,
     "metadata": {},
     "output_type": "execute_result"
    }
   ],
   "source": [
    "system_MM[1,0]"
   ]
  },
  {
   "cell_type": "code",
   "execution_count": 19,
   "id": "dbcc6783",
   "metadata": {},
   "outputs": [
    {
     "data": {
      "text/latex": [
       "$\\displaystyle I_{t} + LG_{t}^{2} m_{t} + L_{t}^{2} m_{b} + L_{t}^{2} m_{s} + L_{t}^{2} m_{t}$"
      ],
      "text/plain": [
       "I_t + LG_t**2*m_t + L_t**2*m_b + L_t**2*m_s + L_t**2*m_t"
      ]
     },
     "execution_count": 19,
     "metadata": {},
     "output_type": "execute_result"
    }
   ],
   "source": [
    "system_MM[1,1]"
   ]
  },
  {
   "cell_type": "code",
   "execution_count": 20,
   "id": "ae168ca9",
   "metadata": {},
   "outputs": [
    {
     "data": {
      "text/latex": [
       "$\\displaystyle LG_{b} L_{t} m_{b} \\cos{\\left(\\theta_{2}{\\left(t \\right)} - \\theta_{3}{\\left(t \\right)} \\right)}$"
      ],
      "text/plain": [
       "LG_b*L_t*m_b*cos(theta2(t) - theta3(t))"
      ]
     },
     "execution_count": 20,
     "metadata": {},
     "output_type": "execute_result"
    }
   ],
   "source": [
    "system_MM[1,2]"
   ]
  },
  {
   "cell_type": "code",
   "execution_count": 21,
   "id": "b589b1db",
   "metadata": {},
   "outputs": [
    {
     "data": {
      "text/latex": [
       "$\\displaystyle L_{t} \\left(L_{t} m_{s} - m_{t} \\left(LG_{t} - L_{t}\\right)\\right) \\cos{\\left(\\theta_{2}{\\left(t \\right)} + \\theta_{4}{\\left(t \\right)} \\right)}$"
      ],
      "text/plain": [
       "L_t*(L_t*m_s - m_t*(LG_t - L_t))*cos(theta2(t) + theta4(t))"
      ]
     },
     "execution_count": 21,
     "metadata": {},
     "output_type": "execute_result"
    }
   ],
   "source": [
    "system_MM[1,3]"
   ]
  },
  {
   "cell_type": "code",
   "execution_count": 22,
   "id": "2b0c1cac",
   "metadata": {},
   "outputs": [
    {
     "data": {
      "text/latex": [
       "$\\displaystyle - L_{t} m_{s} \\left(LG_{s} - L_{s}\\right) \\cos{\\left(\\theta_{2}{\\left(t \\right)} + \\theta_{5}{\\left(t \\right)} \\right)}$"
      ],
      "text/plain": [
       "-L_t*m_s*(LG_s - L_s)*cos(theta2(t) + theta5(t))"
      ]
     },
     "execution_count": 22,
     "metadata": {},
     "output_type": "execute_result"
    }
   ],
   "source": [
    "system_MM[1,4]"
   ]
  },
  {
   "cell_type": "markdown",
   "id": "3e3d5144",
   "metadata": {},
   "source": [
    "可以確定計算基本無誤"
   ]
  },
  {
   "cell_type": "code",
   "execution_count": 24,
   "id": "4f10c9c3",
   "metadata": {},
   "outputs": [],
   "source": [
    "system_TotalForce = -system_LM.forcing\n",
    "system_ForceMatrix = simplify(system_TotalForce - diff(system_TotalForce, g)*g)"
   ]
  },
  {
   "cell_type": "code",
   "execution_count": 25,
   "id": "9a3bae00",
   "metadata": {},
   "outputs": [
    {
     "data": {
      "text/latex": [
       "$\\displaystyle \\left[\\begin{matrix}- g \\left(LG_{s} m_{s} + L_{s} m_{b} + L_{s} m_{s} + 2 L_{s} m_{t}\\right) \\sin{\\left(\\theta_{1}{\\left(t \\right)} \\right)}\\\\- g \\left(LG_{t} m_{t} + L_{t} m_{b} + L_{t} m_{s} + L_{t} m_{t}\\right) \\sin{\\left(\\theta_{2}{\\left(t \\right)} \\right)}\\\\- LG_{b} g m_{b} \\sin{\\left(\\theta_{3}{\\left(t \\right)} \\right)}\\\\g \\left(L_{t} m_{s} - m_{t} \\left(LG_{t} - L_{t}\\right)\\right) \\sin{\\left(\\theta_{4}{\\left(t \\right)} \\right)}\\\\g m_{s} \\left(- LG_{s} + L_{s}\\right) \\sin{\\left(\\theta_{5}{\\left(t \\right)} \\right)}\\end{matrix}\\right]$"
      ],
      "text/plain": [
       "Matrix([\n",
       "[-g*(LG_s*m_s + L_s*m_b + L_s*m_s + 2*L_s*m_t)*sin(theta1(t))],\n",
       "[  -g*(LG_t*m_t + L_t*m_b + L_t*m_s + L_t*m_t)*sin(theta2(t))],\n",
       "[                                  -LG_b*g*m_b*sin(theta3(t))],\n",
       "[               g*(L_t*m_s - m_t*(LG_t - L_t))*sin(theta4(t))],\n",
       "[                          g*m_s*(-LG_s + L_s)*sin(theta5(t))]])"
      ]
     },
     "execution_count": 25,
     "metadata": {},
     "output_type": "execute_result"
    }
   ],
   "source": [
    "system_GravityMatrix = simplify(diff(system_TotalForce,g)*g)\n",
    "system_GravityMatrix"
   ]
  }
 ],
 "metadata": {
  "kernelspec": {
   "display_name": "Python 3",
   "language": "python",
   "name": "python3"
  },
  "language_info": {
   "codemirror_mode": {
    "name": "ipython",
    "version": 3
   },
   "file_extension": ".py",
   "mimetype": "text/x-python",
   "name": "python",
   "nbconvert_exporter": "python",
   "pygments_lexer": "ipython3",
   "version": "3.7.3"
  }
 },
 "nbformat": 4,
 "nbformat_minor": 5
}
