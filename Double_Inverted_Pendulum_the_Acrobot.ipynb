{
 "cells": [
  {
   "cell_type": "markdown",
   "id": "ab479091",
   "metadata": {},
   "source": [
    "# Double Pendulums\n",
    "## Introduction\n",
    "This document introduce the well-known physical double-inverted-pendulum, or the \"Acrobot\" by [Mark W. Spong's paper](https://ieeexplore.ieee.org/document/341864)."
   ]
  },
  {
   "cell_type": "markdown",
   "id": "1ff37760",
   "metadata": {},
   "source": [
    "## Acrobot - The physical double inverted pendulum\n",
    "<img src=\"figures/Acrobot_Double_Inverted_Pendulum.png\" alt=\"Drawing\" style=\"width: 400px;\"/>"
   ]
  },
  {
   "cell_type": "markdown",
   "id": "8600ef55",
   "metadata": {},
   "source": [
    "The equations of motion in Spong's paper is given by\n",
    "\n",
    "$$\n",
    "\\begin{align}\n",
    "&\\begin{bmatrix} \n",
    "m_1 l_{c1}^2 + m_2(l_1^2 + l_{c2}^2 + 2 l_1 l_{c2} C_{q2}) + I_1 + I_2  \n",
    "&& \n",
    "m_2( l_{c2}^2 + l_1 l_{c2} C_{q2} + I_2)\n",
    "\\\\\n",
    "m_2( l_{c2}^2 + l_1 l_{c2} C_{q2} + I_2)\n",
    "&&\n",
    "m_2 l_{c2}^2 + I_2\n",
    "\\end{bmatrix}\n",
    "\\begin{bmatrix}\n",
    "\\ddot{q}_1 \\\\\n",
    "\\ddot{q}_2\n",
    "\\end{bmatrix}\n",
    "\\\\\n",
    "+\n",
    "&\\begin{bmatrix}\n",
    "-m_2 l_1 l_{c2} S_{q2} \\dot{q}_2^2 - 2 m_1 l_1 l_{c2} S_{q2} \\dot{q}_1 \\dot{q}_2\n",
    "\\\\\n",
    "m_2 l_1 l_{c2} S_{q2} \\dot{q}_1^2\n",
    "\\end{bmatrix}\n",
    "+\n",
    "\\begin{bmatrix}\n",
    "(m_1 l_{c1} + m_2 l_1)g C_{q1} + m_2 l_{c2} g C_{q1+q2}\n",
    "\\\\\n",
    "m_2 l_{c2}gC_{q1 + q2}\n",
    "\\end{bmatrix}\n",
    "=\n",
    "\\begin{bmatrix}\n",
    "\\tau_1 \n",
    "\\\\\n",
    "\\tau_2\n",
    "\\end{bmatrix}\n",
    "\\end{align}\n",
    "$$"
   ]
  },
  {
   "cell_type": "code",
   "execution_count": 1,
   "id": "90fedd01",
   "metadata": {},
   "outputs": [],
   "source": [
    "# import libraries\n",
    "from sympy.physics.vector import dynamicsymbols\n",
    "from sympy import symbols\n",
    "from sympy import Matrix, cos, sin, diff\n",
    "from sympy import simplify\n",
    "\n",
    "# lazy method\n",
    "# from sympy import *"
   ]
  },
  {
   "cell_type": "markdown",
   "id": "48be2f94",
   "metadata": {},
   "source": [
    "### Define Arcobot's Symbols\n",
    "\n",
    "First define the symbols we will use later."
   ]
  },
  {
   "cell_type": "code",
   "execution_count": 2,
   "id": "db7ead76",
   "metadata": {},
   "outputs": [],
   "source": [
    "# Time dependent symbols\n",
    "q1, q2 = dynamicsymbols('q_1 q_2')  # angle\n",
    "dq1, dq2 = dynamicsymbols('q_1 q_2',1)  # angular velocity\n",
    "ddq1, ddq2 = dynamicsymbols('q_1 q_2',2)  # angular acceleration\n",
    "\n",
    "# Scalar symbols\n",
    "m1, m2, l1, l2, lc1, lc2, I1, I2, t, g = symbols('m_1 m_2 l_1 l_2 l_c1 l_c2 I_1 I_2 t g ')"
   ]
  },
  {
   "cell_type": "markdown",
   "id": "f9a0c292",
   "metadata": {},
   "source": [
    "### Define the displacement and velocity vector of the Acrobot\n",
    "\n",
    "The displacement vector of Arcobot is given by\n",
    "$$\n",
    "\\vec{r}_1 = \n",
    "\\begin{bmatrix} \n",
    "l_{c1} C_{q1} \\\\\n",
    "l_{c1} S_{q1}\n",
    "\\end{bmatrix}\n",
    "~~~~~~~~~\n",
    "\\vec{r}_2 = \n",
    "\\begin{bmatrix} \n",
    "l_{1} C_{q1} + l_{c2}C_{q1+q2} \\\\\n",
    "l_{1} S_{q1} + l_{c2}S_{q1+q2}\n",
    "\\end{bmatrix}\n",
    "$$\n",
    "\n",
    "where $C_{q1}=\\cos{q_1},~S_{q1}=\\sin{q_1}$"
   ]
  },
  {
   "cell_type": "code",
   "execution_count": 3,
   "id": "82450add",
   "metadata": {},
   "outputs": [],
   "source": [
    "r1 = Matrix([[lc1*cos(q1)], \n",
    "             [lc1*sin(q1)]])\n",
    "\n",
    "r2 = Matrix([[l1*cos(q1) + lc2*cos(q1+q2)], \n",
    "             [l1*sin(q1) + lc2*sin(q1+q2)]])"
   ]
  },
  {
   "cell_type": "markdown",
   "id": "91a2ce62",
   "metadata": {},
   "source": [
    "We then differentiate the displacement vectors $r_1,~r_2$ to obtain velocity vectors $v_1,~v_2$\n",
    "\n",
    "$$\n",
    "\\begin{align}\n",
    "&\\vec{v}_1 = \\frac{d}{dt}\\vec{r}_1 = \n",
    "\\begin{bmatrix}\n",
    "-l_{c1} S_{q1} \\dot{q}_1 \\\\\n",
    "l_{c1} C_{q1} \\dot{q}_1\n",
    "\\end{bmatrix}\n",
    "\\\\\n",
    "&\\vec{v}_2 = \\frac{d}{dt}\\vec{r}_2 = \n",
    "\\begin{bmatrix} \n",
    "-l_{1} S_{q1} \\dot{q}_1 - l_{c2}S_{q1+q2}(\\dot{q}_1 + \\dot{q}_2) \\\\\n",
    " l_{1} C_{q1} \\dot{q}_1 + l_{c2}C_{q1+q2}(\\dot{q}_1 + \\dot{q}_2)\n",
    "\\end{bmatrix}\n",
    "\\end{align}\n",
    "$$"
   ]
  },
  {
   "cell_type": "code",
   "execution_count": 4,
   "id": "798b03fc",
   "metadata": {},
   "outputs": [
    {
     "data": {
      "text/latex": [
       "$\\displaystyle \\left[\\begin{matrix}- l_{c1} \\sin{\\left(\\operatorname{q_{1}}{\\left(t \\right)} \\right)} \\frac{d}{d t} \\operatorname{q_{1}}{\\left(t \\right)}\\\\l_{c1} \\cos{\\left(\\operatorname{q_{1}}{\\left(t \\right)} \\right)} \\frac{d}{d t} \\operatorname{q_{1}}{\\left(t \\right)}\\end{matrix}\\right]$"
      ],
      "text/plain": [
       "Matrix([\n",
       "[-l_c1*sin(q_1(t))*Derivative(q_1(t), t)],\n",
       "[ l_c1*cos(q_1(t))*Derivative(q_1(t), t)]])"
      ]
     },
     "execution_count": 4,
     "metadata": {},
     "output_type": "execute_result"
    }
   ],
   "source": [
    "v1 = diff(r1, t)\n",
    "simplify(v1)"
   ]
  },
  {
   "cell_type": "code",
   "execution_count": 5,
   "id": "ab972925",
   "metadata": {},
   "outputs": [
    {
     "data": {
      "text/latex": [
       "$\\displaystyle \\left[\\begin{matrix}- l_{1} \\sin{\\left(\\operatorname{q_{1}}{\\left(t \\right)} \\right)} \\frac{d}{d t} \\operatorname{q_{1}}{\\left(t \\right)} - l_{c2} \\left(\\frac{d}{d t} \\operatorname{q_{1}}{\\left(t \\right)} + \\frac{d}{d t} \\operatorname{q_{2}}{\\left(t \\right)}\\right) \\sin{\\left(\\operatorname{q_{1}}{\\left(t \\right)} + \\operatorname{q_{2}}{\\left(t \\right)} \\right)}\\\\l_{1} \\cos{\\left(\\operatorname{q_{1}}{\\left(t \\right)} \\right)} \\frac{d}{d t} \\operatorname{q_{1}}{\\left(t \\right)} + l_{c2} \\left(\\frac{d}{d t} \\operatorname{q_{1}}{\\left(t \\right)} + \\frac{d}{d t} \\operatorname{q_{2}}{\\left(t \\right)}\\right) \\cos{\\left(\\operatorname{q_{1}}{\\left(t \\right)} + \\operatorname{q_{2}}{\\left(t \\right)} \\right)}\\end{matrix}\\right]$"
      ],
      "text/plain": [
       "Matrix([\n",
       "[-l_1*sin(q_1(t))*Derivative(q_1(t), t) - l_c2*(Derivative(q_1(t), t) + Derivative(q_2(t), t))*sin(q_1(t) + q_2(t))],\n",
       "[ l_1*cos(q_1(t))*Derivative(q_1(t), t) + l_c2*(Derivative(q_1(t), t) + Derivative(q_2(t), t))*cos(q_1(t) + q_2(t))]])"
      ]
     },
     "execution_count": 5,
     "metadata": {},
     "output_type": "execute_result"
    }
   ],
   "source": [
    "v2 = diff(r2, t)\n",
    "simplify(v2)"
   ]
  },
  {
   "cell_type": "markdown",
   "id": "e3daa65a",
   "metadata": {},
   "source": [
    "### Find the Lagrangian $\\mathcal{L}$\n",
    "\n",
    "We first obtain the translational velocity and the rotational velocity. The translational velocity is simply $v1,~v2$ we obtained before.\n",
    "\n",
    "\n",
    "The rotational velocity of Acrobot is given by\n",
    "\n",
    "$$\n",
    "\\begin{align}\n",
    "&\\omega_1 = \\dot{q}_1\n",
    "\\\\\n",
    "&\\omega_2 = \\dot{q}_1 + \\dot{q}_2\n",
    "\\end{align}\n",
    "$$"
   ]
  },
  {
   "cell_type": "code",
   "execution_count": 6,
   "id": "687ba37e",
   "metadata": {},
   "outputs": [],
   "source": [
    "w1 = dq1\n",
    "w2 = dq1 + dq2"
   ]
  },
  {
   "cell_type": "markdown",
   "id": "19ff5eee",
   "metadata": {},
   "source": [
    "Then calculate the kinematic energy $K_e$, which is kinetic energy + rotational energy(總動能=移動動能+旋轉動能)\n",
    "\n",
    "$$K_e = \\frac{1}{2} m v^2 + \\frac{1}{2} I \\omega^2$$"
   ]
  },
  {
   "cell_type": "code",
   "execution_count": 7,
   "id": "cc785135",
   "metadata": {},
   "outputs": [
    {
     "data": {
      "text/latex": [
       "$\\displaystyle \\frac{I_{1} \\left(\\frac{d}{d t} \\operatorname{q_{1}}{\\left(t \\right)}\\right)^{2}}{2} + \\frac{I_{2} \\left(\\frac{d}{d t} \\operatorname{q_{1}}{\\left(t \\right)} + \\frac{d}{d t} \\operatorname{q_{2}}{\\left(t \\right)}\\right)^{2}}{2} + \\frac{l_{c1}^{2} m_{1} \\left(\\frac{d}{d t} \\operatorname{q_{1}}{\\left(t \\right)}\\right)^{2}}{2} + \\frac{m_{2} \\left(l_{1}^{2} \\left(\\frac{d}{d t} \\operatorname{q_{1}}{\\left(t \\right)}\\right)^{2} + 2 l_{1} l_{c2} \\cos{\\left(\\operatorname{q_{2}}{\\left(t \\right)} \\right)} \\left(\\frac{d}{d t} \\operatorname{q_{1}}{\\left(t \\right)}\\right)^{2} + 2 l_{1} l_{c2} \\cos{\\left(\\operatorname{q_{2}}{\\left(t \\right)} \\right)} \\frac{d}{d t} \\operatorname{q_{1}}{\\left(t \\right)} \\frac{d}{d t} \\operatorname{q_{2}}{\\left(t \\right)} + l_{c2}^{2} \\left(\\frac{d}{d t} \\operatorname{q_{1}}{\\left(t \\right)}\\right)^{2} + 2 l_{c2}^{2} \\frac{d}{d t} \\operatorname{q_{1}}{\\left(t \\right)} \\frac{d}{d t} \\operatorname{q_{2}}{\\left(t \\right)} + l_{c2}^{2} \\left(\\frac{d}{d t} \\operatorname{q_{2}}{\\left(t \\right)}\\right)^{2}\\right)}{2}$"
      ],
      "text/plain": [
       "I_1*Derivative(q_1(t), t)**2/2 + I_2*(Derivative(q_1(t), t) + Derivative(q_2(t), t))**2/2 + l_c1**2*m_1*Derivative(q_1(t), t)**2/2 + m_2*(l_1**2*Derivative(q_1(t), t)**2 + 2*l_1*l_c2*cos(q_2(t))*Derivative(q_1(t), t)**2 + 2*l_1*l_c2*cos(q_2(t))*Derivative(q_1(t), t)*Derivative(q_2(t), t) + l_c2**2*Derivative(q_1(t), t)**2 + 2*l_c2**2*Derivative(q_1(t), t)*Derivative(q_2(t), t) + l_c2**2*Derivative(q_2(t), t)**2)/2"
      ]
     },
     "execution_count": 7,
     "metadata": {},
     "output_type": "execute_result"
    }
   ],
   "source": [
    "from sympy.physics.vector.functions import dot\n",
    "\n",
    "# kinematic energy\n",
    "Ke = m1*v1.T.dot(v1)/2 + m2*v2.T.dot(v2)/2 + I1*w1**2/2 + I2*w2**2/2\n",
    "simplify(Ke)"
   ]
  },
  {
   "cell_type": "markdown",
   "id": "16b7db72",
   "metadata": {},
   "source": [
    "Then calculate the potential energy of the system"
   ]
  },
  {
   "cell_type": "code",
   "execution_count": 8,
   "id": "705d9ac7",
   "metadata": {},
   "outputs": [
    {
     "data": {
      "text/latex": [
       "$\\displaystyle g \\left(l_{c1} m_{1} \\sin{\\left(\\operatorname{q_{1}}{\\left(t \\right)} \\right)} + m_{2} \\left(l_{1} \\sin{\\left(\\operatorname{q_{1}}{\\left(t \\right)} \\right)} + l_{c2} \\sin{\\left(\\operatorname{q_{1}}{\\left(t \\right)} + \\operatorname{q_{2}}{\\left(t \\right)} \\right)}\\right)\\right)$"
      ],
      "text/plain": [
       "g*(l_c1*m_1*sin(q_1(t)) + m_2*(l_1*sin(q_1(t)) + l_c2*sin(q_1(t) + q_2(t))))"
      ]
     },
     "execution_count": 8,
     "metadata": {},
     "output_type": "execute_result"
    }
   ],
   "source": [
    "# potential energy\n",
    "Pe = m1*g*lc1*sin(q1) + m2*g*( l1*sin(q1)+lc2*sin(q1+q2) )\n",
    "simplify(Pe)"
   ]
  },
  {
   "cell_type": "markdown",
   "id": "19608994",
   "metadata": {},
   "source": [
    "Finally obtain the Lagrangian"
   ]
  },
  {
   "cell_type": "code",
   "execution_count": 9,
   "id": "62830f39",
   "metadata": {},
   "outputs": [],
   "source": [
    "# Lagrangian\n",
    "Lang = Ke - Pe"
   ]
  },
  {
   "cell_type": "markdown",
   "id": "240c3b24",
   "metadata": {},
   "source": [
    "### Calculate Acrobot's Equations of Motion\n",
    "\n",
    "There are several method in Sympy to obtain equations of motion(EoM) of a holonomic system.\n",
    "\n",
    "#### 1. Calculate Lagrange EoM directly\n",
    "Just directly calculate $$ \\frac{d}{dt} \\frac{\\partial \\mathcal{L}}{\\partial \\dot{q}} - \\frac{\\partial \\mathcal{L}}{\\partial q} =0$$\n",
    "\n",
    "#### 2. Use Sympy built-in function \"LagrangesMethod\"\n",
    "\n",
    "#### 3. Use Sympy built-in function \"KanesMethod\""
   ]
  },
  {
   "cell_type": "markdown",
   "id": "27bd1a78",
   "metadata": {},
   "source": [
    "#### Method 1"
   ]
  },
  {
   "cell_type": "code",
   "execution_count": 10,
   "id": "76c19911",
   "metadata": {},
   "outputs": [
    {
     "data": {
      "text/latex": [
       "$\\displaystyle \\left[\\begin{matrix}I_{1} + I_{2} + l_{c1}^{2} m_{1} + m_{2} \\left(l_{1}^{2} + 2 l_{1} l_{c2} \\cos{\\left(\\operatorname{q_{2}}{\\left(t \\right)} \\right)} + l_{c2}^{2}\\right) & I_{2} + l_{c2} m_{2} \\left(l_{1} \\cos{\\left(\\operatorname{q_{2}}{\\left(t \\right)} \\right)} + l_{c2}\\right)\\\\I_{2} + l_{1} l_{c2} m_{2} \\cos{\\left(\\operatorname{q_{2}}{\\left(t \\right)} \\right)} + l_{c2}^{2} m_{2} & I_{2} + l_{c2}^{2} m_{2}\\end{matrix}\\right]$"
      ],
      "text/plain": [
       "Matrix([\n",
       "[I_1 + I_2 + l_c1**2*m_1 + m_2*(l_1**2 + 2*l_1*l_c2*cos(q_2(t)) + l_c2**2), I_2 + l_c2*m_2*(l_1*cos(q_2(t)) + l_c2)],\n",
       "[                             I_2 + l_1*l_c2*m_2*cos(q_2(t)) + l_c2**2*m_2,                       I_2 + l_c2**2*m_2]])"
      ]
     },
     "execution_count": 10,
     "metadata": {},
     "output_type": "execute_result"
    }
   ],
   "source": [
    "# Method 1\n",
    "\n",
    "# Calculate equations\n",
    "eqq1 = simplify(diff(diff(Lang, dq1), t) - diff(Lang, q1))\n",
    "eqq2 = simplify(diff(diff(Lang, dq2), t) - diff(Lang, q2))\n",
    "\n",
    "# Obtain mass matrix\n",
    "Mass_11 = simplify(diff(eqq1, ddq1))\n",
    "Mass_12 = simplify(diff(eqq1, ddq2))\n",
    "Mass_21 = simplify(diff(eqq2, ddq1))\n",
    "Mass_22 = simplify(diff(eqq2, ddq2))\n",
    "MassMatrix = Matrix([ [Mass_11, Mass_12], [Mass_21, Mass_22] ])\n",
    "\n",
    "simplify(MassMatrix)"
   ]
  },
  {
   "cell_type": "code",
   "execution_count": 11,
   "id": "5b28effc",
   "metadata": {},
   "outputs": [
    {
     "data": {
      "text/latex": [
       "$\\displaystyle \\left[\\begin{matrix}- l_{1} l_{c2} m_{2} \\left(2 \\frac{d}{d t} \\operatorname{q_{1}}{\\left(t \\right)} + \\frac{d}{d t} \\operatorname{q_{2}}{\\left(t \\right)}\\right) \\sin{\\left(\\operatorname{q_{2}}{\\left(t \\right)} \\right)} \\frac{d}{d t} \\operatorname{q_{2}}{\\left(t \\right)}\\\\l_{1} l_{c2} m_{2} \\sin{\\left(\\operatorname{q_{2}}{\\left(t \\right)} \\right)} \\left(\\frac{d}{d t} \\operatorname{q_{1}}{\\left(t \\right)}\\right)^{2}\\end{matrix}\\right]$"
      ],
      "text/plain": [
       "Matrix([\n",
       "[-l_1*l_c2*m_2*(2*Derivative(q_1(t), t) + Derivative(q_2(t), t))*sin(q_2(t))*Derivative(q_2(t), t)],\n",
       "[                                                l_1*l_c2*m_2*sin(q_2(t))*Derivative(q_1(t), t)**2]])"
      ]
     },
     "execution_count": 11,
     "metadata": {},
     "output_type": "execute_result"
    }
   ],
   "source": [
    "Force_tmp = Matrix([[eqq1 - Mass_11*ddq1 - Mass_12*ddq2], [eqq2 - Mass_21*ddq1 - Mass_22*ddq2]])\n",
    "ForceMatrix = simplify(Force_tmp - diff(Force_tmp, g)*g)\n",
    "ForceMatrix"
   ]
  },
  {
   "cell_type": "code",
   "execution_count": 12,
   "id": "935f7fc1",
   "metadata": {},
   "outputs": [
    {
     "data": {
      "text/latex": [
       "$\\displaystyle \\left[\\begin{matrix}g \\left(l_{c1} m_{1} \\cos{\\left(\\operatorname{q_{1}}{\\left(t \\right)} \\right)} + m_{2} \\left(l_{1} \\cos{\\left(\\operatorname{q_{1}}{\\left(t \\right)} \\right)} + l_{c2} \\cos{\\left(\\operatorname{q_{1}}{\\left(t \\right)} + \\operatorname{q_{2}}{\\left(t \\right)} \\right)}\\right)\\right)\\\\g l_{c2} m_{2} \\cos{\\left(\\operatorname{q_{1}}{\\left(t \\right)} + \\operatorname{q_{2}}{\\left(t \\right)} \\right)}\\end{matrix}\\right]$"
      ],
      "text/plain": [
       "Matrix([\n",
       "[g*(l_c1*m_1*cos(q_1(t)) + m_2*(l_1*cos(q_1(t)) + l_c2*cos(q_1(t) + q_2(t))))],\n",
       "[                                             g*l_c2*m_2*cos(q_1(t) + q_2(t))]])"
      ]
     },
     "execution_count": 12,
     "metadata": {},
     "output_type": "execute_result"
    }
   ],
   "source": [
    "GravityMatrix = simplify( diff(Force_tmp, g)*g )\n",
    "GravityMatrix"
   ]
  },
  {
   "cell_type": "markdown",
   "id": "b9a210e7",
   "metadata": {},
   "source": [
    "Recall the Acrobot EoM\n",
    "\n",
    "\n",
    "$$\n",
    "\\begin{align}\n",
    "&\\begin{bmatrix} \n",
    "m_1 l_{c1}^2 + m_2(l_1^2 + l_{c2}^2 + 2 l_1 l_{c2} C_{q2}) + I_1 + I_2  \n",
    "&& \n",
    "m_2( l_{c2}^2 + l_1 l_{c2} C_{q2} + I_2)\n",
    "\\\\\n",
    "m_2( l_{c2}^2 + l_1 l_{c2} C_{q2} + I_2)\n",
    "&&\n",
    "m_2 l_{c2}^2 + I_2\n",
    "\\end{bmatrix}\n",
    "\\begin{bmatrix}\n",
    "\\ddot{q}_1 \\\\\n",
    "\\ddot{q}_2\n",
    "\\end{bmatrix}\n",
    "\\\\\n",
    "+\n",
    "&\\begin{bmatrix}\n",
    "-m_2 l_1 l_{c2} S_{q2} \\dot{q}_2^2 - 2 m_1 l_1 l_{c2} S_{q2} \\dot{q}_1 \\dot{q}_2\n",
    "\\\\\n",
    "m_2 l_1 l_{c2} S_{q2} \\dot{q}_1^2\n",
    "\\end{bmatrix}\n",
    "+\n",
    "\\begin{bmatrix}\n",
    "(m_1 l_{c1} + m_2 l_1)g C_{q1} + m_2 l_{c2} g C_{q1+q2}\n",
    "\\\\\n",
    "m_2 l_{c2}gC_{q1 + q2}\n",
    "\\end{bmatrix}\n",
    "=\n",
    "\\begin{bmatrix}\n",
    "\\tau_1 \n",
    "\\\\\n",
    "\\tau_2\n",
    "\\end{bmatrix}\n",
    "\\end{align}\n",
    "$$"
   ]
  },
  {
   "cell_type": "markdown",
   "id": "24f4d6c1",
   "metadata": {},
   "source": [
    "#### Method 2"
   ]
  },
  {
   "cell_type": "code",
   "execution_count": 13,
   "id": "080bfeaf",
   "metadata": {},
   "outputs": [],
   "source": [
    "from sympy.physics.mechanics import LagrangesMethod\n",
    "\n",
    "LM = LagrangesMethod(Lang, [q1, q2])"
   ]
  },
  {
   "cell_type": "markdown",
   "id": "9a08f4d3",
   "metadata": {},
   "source": [
    "The Sympy built-in function LagrangesMethod calculate the EoM. We can check it by comparing it to eqq1, eqq2."
   ]
  },
  {
   "cell_type": "code",
   "execution_count": 14,
   "id": "7dbcb9f2",
   "metadata": {},
   "outputs": [
    {
     "data": {
      "text/latex": [
       "$\\displaystyle \\left[\\begin{matrix}I_{1} \\frac{d^{2}}{d t^{2}} \\operatorname{q_{1}}{\\left(t \\right)} + I_{2} \\left(\\frac{d^{2}}{d t^{2}} \\operatorname{q_{1}}{\\left(t \\right)} + \\frac{d^{2}}{d t^{2}} \\operatorname{q_{2}}{\\left(t \\right)}\\right) + g l_{c1} m_{1} \\cos{\\left(\\operatorname{q_{1}}{\\left(t \\right)} \\right)} + g m_{2} \\left(l_{1} \\cos{\\left(\\operatorname{q_{1}}{\\left(t \\right)} \\right)} + l_{c2} \\cos{\\left(\\operatorname{q_{1}}{\\left(t \\right)} + \\operatorname{q_{2}}{\\left(t \\right)} \\right)}\\right) + l_{c1}^{2} m_{1} \\frac{d^{2}}{d t^{2}} \\operatorname{q_{1}}{\\left(t \\right)} + m_{2} \\left(l_{1}^{2} \\frac{d^{2}}{d t^{2}} \\operatorname{q_{1}}{\\left(t \\right)} - 2 l_{1} l_{c2} \\sin{\\left(\\operatorname{q_{2}}{\\left(t \\right)} \\right)} \\frac{d}{d t} \\operatorname{q_{1}}{\\left(t \\right)} \\frac{d}{d t} \\operatorname{q_{2}}{\\left(t \\right)} - l_{1} l_{c2} \\sin{\\left(\\operatorname{q_{2}}{\\left(t \\right)} \\right)} \\left(\\frac{d}{d t} \\operatorname{q_{2}}{\\left(t \\right)}\\right)^{2} + 2 l_{1} l_{c2} \\cos{\\left(\\operatorname{q_{2}}{\\left(t \\right)} \\right)} \\frac{d^{2}}{d t^{2}} \\operatorname{q_{1}}{\\left(t \\right)} + l_{1} l_{c2} \\cos{\\left(\\operatorname{q_{2}}{\\left(t \\right)} \\right)} \\frac{d^{2}}{d t^{2}} \\operatorname{q_{2}}{\\left(t \\right)} + l_{c2}^{2} \\frac{d^{2}}{d t^{2}} \\operatorname{q_{1}}{\\left(t \\right)} + l_{c2}^{2} \\frac{d^{2}}{d t^{2}} \\operatorname{q_{2}}{\\left(t \\right)}\\right)\\\\I_{2} \\frac{d^{2}}{d t^{2}} \\operatorname{q_{1}}{\\left(t \\right)} + I_{2} \\frac{d^{2}}{d t^{2}} \\operatorname{q_{2}}{\\left(t \\right)} + g l_{c2} m_{2} \\cos{\\left(\\operatorname{q_{1}}{\\left(t \\right)} + \\operatorname{q_{2}}{\\left(t \\right)} \\right)} + l_{1} l_{c2} m_{2} \\sin{\\left(\\operatorname{q_{2}}{\\left(t \\right)} \\right)} \\left(\\frac{d}{d t} \\operatorname{q_{1}}{\\left(t \\right)}\\right)^{2} + l_{1} l_{c2} m_{2} \\cos{\\left(\\operatorname{q_{2}}{\\left(t \\right)} \\right)} \\frac{d^{2}}{d t^{2}} \\operatorname{q_{1}}{\\left(t \\right)} + l_{c2}^{2} m_{2} \\frac{d^{2}}{d t^{2}} \\operatorname{q_{1}}{\\left(t \\right)} + l_{c2}^{2} m_{2} \\frac{d^{2}}{d t^{2}} \\operatorname{q_{2}}{\\left(t \\right)}\\end{matrix}\\right]$"
      ],
      "text/plain": [
       "Matrix([\n",
       "[I_1*Derivative(q_1(t), (t, 2)) + I_2*(Derivative(q_1(t), (t, 2)) + Derivative(q_2(t), (t, 2))) + g*l_c1*m_1*cos(q_1(t)) + g*m_2*(l_1*cos(q_1(t)) + l_c2*cos(q_1(t) + q_2(t))) + l_c1**2*m_1*Derivative(q_1(t), (t, 2)) + m_2*(l_1**2*Derivative(q_1(t), (t, 2)) - 2*l_1*l_c2*sin(q_2(t))*Derivative(q_1(t), t)*Derivative(q_2(t), t) - l_1*l_c2*sin(q_2(t))*Derivative(q_2(t), t)**2 + 2*l_1*l_c2*cos(q_2(t))*Derivative(q_1(t), (t, 2)) + l_1*l_c2*cos(q_2(t))*Derivative(q_2(t), (t, 2)) + l_c2**2*Derivative(q_1(t), (t, 2)) + l_c2**2*Derivative(q_2(t), (t, 2)))],\n",
       "[                                                                                                                                                                                                                                                                        I_2*Derivative(q_1(t), (t, 2)) + I_2*Derivative(q_2(t), (t, 2)) + g*l_c2*m_2*cos(q_1(t) + q_2(t)) + l_1*l_c2*m_2*sin(q_2(t))*Derivative(q_1(t), t)**2 + l_1*l_c2*m_2*cos(q_2(t))*Derivative(q_1(t), (t, 2)) + l_c2**2*m_2*Derivative(q_1(t), (t, 2)) + l_c2**2*m_2*Derivative(q_2(t), (t, 2))]])"
      ]
     },
     "execution_count": 14,
     "metadata": {},
     "output_type": "execute_result"
    }
   ],
   "source": [
    "LM_Lagrange_eq = simplify(LM.form_lagranges_equations())\n",
    "LM_Lagrange_eq"
   ]
  },
  {
   "cell_type": "markdown",
   "id": "5976ab15",
   "metadata": {},
   "source": [
    "The EoM obtained by LagrangesMethod is equal to our previous result."
   ]
  },
  {
   "cell_type": "code",
   "execution_count": 15,
   "id": "e34fda70",
   "metadata": {},
   "outputs": [
    {
     "data": {
      "text/latex": [
       "$\\displaystyle 0$"
      ],
      "text/plain": [
       "0"
      ]
     },
     "execution_count": 15,
     "metadata": {},
     "output_type": "execute_result"
    }
   ],
   "source": [
    "simplify(LM_Lagrange_eq[0] - eqq1) # [0] means first equation"
   ]
  },
  {
   "cell_type": "code",
   "execution_count": 16,
   "id": "501979cb",
   "metadata": {},
   "outputs": [
    {
     "data": {
      "text/latex": [
       "$\\displaystyle 0$"
      ],
      "text/plain": [
       "0"
      ]
     },
     "execution_count": 16,
     "metadata": {},
     "output_type": "execute_result"
    }
   ],
   "source": [
    "simplify(LM_Lagrange_eq[1] - eqq2)"
   ]
  },
  {
   "cell_type": "markdown",
   "id": "8b84954a",
   "metadata": {},
   "source": [
    "We then obtain the mass matrix, force matrix, gravity matrix\n",
    "\n",
    "#### Be really careful that sympy's LagrangesMethod calculate the equations by\n",
    "\n",
    "$$\\text{LM.mass_matrix} \\cdot \\ddot{q} = \\text{LM.forcing}$$\n",
    "\n",
    "The EoM in this article is applied by the form\n",
    "\n",
    "$$M(q)\\ddot{q} + F(q, \\dot{q}) + G(q) = \\tau$$\n",
    "\n",
    "Therefore we know $F(q, \\dot{q}) + G(q)$ = -1*LM.forcing\n",
    "\n",
    "#### Be really careful the negative in LM.forcing"
   ]
  },
  {
   "cell_type": "code",
   "execution_count": 17,
   "id": "0c588e48",
   "metadata": {},
   "outputs": [
    {
     "data": {
      "text/latex": [
       "$\\displaystyle \\left[\\begin{matrix}I_{1} + I_{2} + l_{c1}^{2} m_{1} + m_{2} \\left(l_{1}^{2} + 2 l_{1} l_{c2} \\cos{\\left(\\operatorname{q_{2}}{\\left(t \\right)} \\right)} + l_{c2}^{2}\\right) & I_{2} + l_{c2} m_{2} \\left(l_{1} \\cos{\\left(\\operatorname{q_{2}}{\\left(t \\right)} \\right)} + l_{c2}\\right)\\\\I_{2} + l_{c2} m_{2} \\left(l_{1} \\cos{\\left(\\operatorname{q_{2}}{\\left(t \\right)} \\right)} + l_{c2}\\right) & I_{2} + l_{c2}^{2} m_{2}\\end{matrix}\\right]$"
      ],
      "text/plain": [
       "Matrix([\n",
       "[I_1 + I_2 + l_c1**2*m_1 + m_2*(l_1**2 + 2*l_1*l_c2*cos(q_2(t)) + l_c2**2), I_2 + l_c2*m_2*(l_1*cos(q_2(t)) + l_c2)],\n",
       "[                                  I_2 + l_c2*m_2*(l_1*cos(q_2(t)) + l_c2),                       I_2 + l_c2**2*m_2]])"
      ]
     },
     "execution_count": 17,
     "metadata": {},
     "output_type": "execute_result"
    }
   ],
   "source": [
    "LM_MassMatrix = simplify(LM.mass_matrix);\n",
    "LM_MassMatrix"
   ]
  },
  {
   "cell_type": "code",
   "execution_count": 18,
   "id": "cca74a5d",
   "metadata": {},
   "outputs": [
    {
     "data": {
      "text/latex": [
       "$\\displaystyle \\left[\\begin{matrix}- l_{1} l_{c2} m_{2} \\left(2 \\frac{d}{d t} \\operatorname{q_{1}}{\\left(t \\right)} + \\frac{d}{d t} \\operatorname{q_{2}}{\\left(t \\right)}\\right) \\sin{\\left(\\operatorname{q_{2}}{\\left(t \\right)} \\right)} \\frac{d}{d t} \\operatorname{q_{2}}{\\left(t \\right)}\\\\l_{1} l_{c2} m_{2} \\sin{\\left(\\operatorname{q_{2}}{\\left(t \\right)} \\right)} \\left(\\frac{d}{d t} \\operatorname{q_{1}}{\\left(t \\right)}\\right)^{2}\\end{matrix}\\right]$"
      ],
      "text/plain": [
       "Matrix([\n",
       "[-l_1*l_c2*m_2*(2*Derivative(q_1(t), t) + Derivative(q_2(t), t))*sin(q_2(t))*Derivative(q_2(t), t)],\n",
       "[                                                l_1*l_c2*m_2*sin(q_2(t))*Derivative(q_1(t), t)**2]])"
      ]
     },
     "execution_count": 18,
     "metadata": {},
     "output_type": "execute_result"
    }
   ],
   "source": [
    "LM_TotalForce = -LM.forcing\n",
    "LM_ForceMatrix = simplify(LM_TotalForce - diff(LM_TotalForce, g)*g)\n",
    "LM_ForceMatrix"
   ]
  },
  {
   "cell_type": "code",
   "execution_count": 19,
   "id": "59127aa9",
   "metadata": {},
   "outputs": [
    {
     "data": {
      "text/latex": [
       "$\\displaystyle \\left[\\begin{matrix}g \\left(l_{c1} m_{1} \\cos{\\left(\\operatorname{q_{1}}{\\left(t \\right)} \\right)} + m_{2} \\left(l_{1} \\cos{\\left(\\operatorname{q_{1}}{\\left(t \\right)} \\right)} + l_{c2} \\cos{\\left(\\operatorname{q_{1}}{\\left(t \\right)} + \\operatorname{q_{2}}{\\left(t \\right)} \\right)}\\right)\\right)\\\\g l_{c2} m_{2} \\cos{\\left(\\operatorname{q_{1}}{\\left(t \\right)} + \\operatorname{q_{2}}{\\left(t \\right)} \\right)}\\end{matrix}\\right]$"
      ],
      "text/plain": [
       "Matrix([\n",
       "[g*(l_c1*m_1*cos(q_1(t)) + m_2*(l_1*cos(q_1(t)) + l_c2*cos(q_1(t) + q_2(t))))],\n",
       "[                                             g*l_c2*m_2*cos(q_1(t) + q_2(t))]])"
      ]
     },
     "execution_count": 19,
     "metadata": {},
     "output_type": "execute_result"
    }
   ],
   "source": [
    "LM_GravityMatrix = simplify(diff(LM_TotalForce,g)*g)\n",
    "LM_GravityMatrix"
   ]
  },
  {
   "cell_type": "markdown",
   "id": "a3a13d84",
   "metadata": {},
   "source": [
    "Recall the Acrobot EoM\n",
    "\n",
    "\n",
    "$$\n",
    "\\begin{align}\n",
    "&\\begin{bmatrix} \n",
    "m_1 l_{c1}^2 + m_2(l_1^2 + l_{c2}^2 + 2 l_1 l_{c2} C_{q2}) + I_1 + I_2  \n",
    "&& \n",
    "m_2( l_{c2}^2 + l_1 l_{c2} C_{q2} + I_2)\n",
    "\\\\\n",
    "m_2( l_{c2}^2 + l_1 l_{c2} C_{q2} + I_2)\n",
    "&&\n",
    "m_2 l_{c2}^2 + I_2\n",
    "\\end{bmatrix}\n",
    "\\begin{bmatrix}\n",
    "\\ddot{q}_1 \\\\\n",
    "\\ddot{q}_2\n",
    "\\end{bmatrix}\n",
    "\\\\\n",
    "+\n",
    "&\\begin{bmatrix}\n",
    "-m_2 l_1 l_{c2} S_{q2} \\dot{q}_2^2 - 2 m_1 l_1 l_{c2} S_{q2} \\dot{q}_1 \\dot{q}_2\n",
    "\\\\\n",
    "m_2 l_1 l_{c2} S_{q2} \\dot{q}_1^2\n",
    "\\end{bmatrix}\n",
    "+\n",
    "\\begin{bmatrix}\n",
    "(m_1 l_{c1} + m_2 l_1)g C_{q1} + m_2 l_{c2} g C_{q1+q2}\n",
    "\\\\\n",
    "m_2 l_{c2}gC_{q1 + q2}\n",
    "\\end{bmatrix}\n",
    "=\n",
    "\\begin{bmatrix}\n",
    "\\tau_1 \n",
    "\\\\\n",
    "\\tau_2\n",
    "\\end{bmatrix}\n",
    "\\end{align}\n",
    "$$"
   ]
  },
  {
   "cell_type": "markdown",
   "id": "71572513",
   "metadata": {},
   "source": [
    "### Convert Sympy result to Matlab acceptable code"
   ]
  },
  {
   "cell_type": "code",
   "execution_count": 20,
   "id": "caaacf7c",
   "metadata": {},
   "outputs": [],
   "source": [
    "q1t, q2t = symbols('q1t q2t') # define new symbols to replace the dynamicalsymbol q(t)\n",
    "\n",
    "MassMatrix_Matlab = LM_MassMatrix.replace(q1, q1t)\n",
    "MassMatrix_Matlab = MassMatrix_Matlab.replace(q2, q2t)"
   ]
  },
  {
   "cell_type": "markdown",
   "id": "b11021ae",
   "metadata": {},
   "source": [
    "#### Convert Code"
   ]
  },
  {
   "cell_type": "code",
   "execution_count": 21,
   "id": "ba658bb1",
   "metadata": {},
   "outputs": [
    {
     "data": {
      "text/plain": [
       "'I_1 + I_2 + l_c1.^2.*m_1 + m_2.*(l_1.^2 + 2*l_1.*l_c2.*cos(q2t) + l_c2.^2)'"
      ]
     },
     "execution_count": 21,
     "metadata": {},
     "output_type": "execute_result"
    }
   ],
   "source": [
    "from sympy import octave_code\n",
    "\n",
    "octave_code(MassMatrix_Matlab[0,0])"
   ]
  },
  {
   "cell_type": "code",
   "execution_count": 22,
   "id": "07773fc5",
   "metadata": {},
   "outputs": [
    {
     "data": {
      "text/plain": [
       "'I_2 + l_c2.*m_2.*(l_1.*cos(q2t) + l_c2)'"
      ]
     },
     "execution_count": 22,
     "metadata": {},
     "output_type": "execute_result"
    }
   ],
   "source": [
    "octave_code(MassMatrix_Matlab[0,1])"
   ]
  },
  {
   "cell_type": "code",
   "execution_count": 23,
   "id": "1e0299b1",
   "metadata": {},
   "outputs": [
    {
     "data": {
      "text/plain": [
       "'I_2 + l_c2.*m_2.*(l_1.*cos(q2t) + l_c2)'"
      ]
     },
     "execution_count": 23,
     "metadata": {},
     "output_type": "execute_result"
    }
   ],
   "source": [
    "octave_code(MassMatrix_Matlab[1,0])"
   ]
  },
  {
   "cell_type": "code",
   "execution_count": 24,
   "id": "ed7d69f7",
   "metadata": {},
   "outputs": [
    {
     "data": {
      "text/plain": [
       "'I_2 + l_c2.^2.*m_2'"
      ]
     },
     "execution_count": 24,
     "metadata": {},
     "output_type": "execute_result"
    }
   ],
   "source": [
    "octave_code(MassMatrix_Matlab[1,1])"
   ]
  },
  {
   "cell_type": "markdown",
   "id": "27178e15",
   "metadata": {},
   "source": [
    "#### Convert \"total\" force matrix"
   ]
  },
  {
   "cell_type": "code",
   "execution_count": 25,
   "id": "d524b99b",
   "metadata": {},
   "outputs": [],
   "source": [
    "dq1t, dq2t = symbols('dq1t dq2t')\n",
    "\n",
    "\n",
    "from sympy import Derivative\n",
    "\n",
    "LM_TotalForce = simplify(LM_TotalForce)\n",
    "\n",
    "ForceMatrix_Matlab = LM_TotalForce.replace(q1, q1t)\n",
    "ForceMatrix_Matlab = ForceMatrix_Matlab.replace(q2, q2t)\n",
    "ForceMatrix_Matlab = ForceMatrix_Matlab.replace(Derivative(q1t,t), dq1t)\n",
    "ForceMatrix_Matlab = ForceMatrix_Matlab.replace(Derivative(q2t,t), dq2t)"
   ]
  },
  {
   "cell_type": "code",
   "execution_count": 26,
   "id": "28fc2998",
   "metadata": {},
   "outputs": [
    {
     "data": {
      "text/latex": [
       "$\\displaystyle \\left[\\begin{matrix}g l_{c1} m_{1} \\cos{\\left(\\operatorname{q_{1}}{\\left(t \\right)} \\right)} + g m_{2} \\left(l_{1} \\cos{\\left(\\operatorname{q_{1}}{\\left(t \\right)} \\right)} + l_{c2} \\cos{\\left(\\operatorname{q_{1}}{\\left(t \\right)} + \\operatorname{q_{2}}{\\left(t \\right)} \\right)}\\right) - l_{1} l_{c2} m_{2} \\left(2 \\frac{d}{d t} \\operatorname{q_{1}}{\\left(t \\right)} + \\frac{d}{d t} \\operatorname{q_{2}}{\\left(t \\right)}\\right) \\sin{\\left(\\operatorname{q_{2}}{\\left(t \\right)} \\right)} \\frac{d}{d t} \\operatorname{q_{2}}{\\left(t \\right)}\\\\l_{c2} m_{2} \\left(g \\cos{\\left(\\operatorname{q_{1}}{\\left(t \\right)} + \\operatorname{q_{2}}{\\left(t \\right)} \\right)} + l_{1} \\sin{\\left(\\operatorname{q_{2}}{\\left(t \\right)} \\right)} \\left(\\frac{d}{d t} \\operatorname{q_{1}}{\\left(t \\right)}\\right)^{2}\\right)\\end{matrix}\\right]$"
      ],
      "text/plain": [
       "Matrix([\n",
       "[g*l_c1*m_1*cos(q_1(t)) + g*m_2*(l_1*cos(q_1(t)) + l_c2*cos(q_1(t) + q_2(t))) - l_1*l_c2*m_2*(2*Derivative(q_1(t), t) + Derivative(q_2(t), t))*sin(q_2(t))*Derivative(q_2(t), t)],\n",
       "[                                                                                                   l_c2*m_2*(g*cos(q_1(t) + q_2(t)) + l_1*sin(q_2(t))*Derivative(q_1(t), t)**2)]])"
      ]
     },
     "execution_count": 26,
     "metadata": {},
     "output_type": "execute_result"
    }
   ],
   "source": [
    "LM_TotalForce"
   ]
  },
  {
   "cell_type": "code",
   "execution_count": 27,
   "id": "e3491a29",
   "metadata": {},
   "outputs": [
    {
     "data": {
      "text/latex": [
       "$\\displaystyle \\left[\\begin{matrix}- dq2t l_{1} l_{c2} m_{2} \\left(2 dq1t + dq2t\\right) \\sin{\\left(q2t \\right)} + g l_{c1} m_{1} \\cos{\\left(q1t \\right)} + g m_{2} \\left(l_{1} \\cos{\\left(q1t \\right)} + l_{c2} \\cos{\\left(q1t + q2t \\right)}\\right)\\\\l_{c2} m_{2} \\left(dq1t^{2} l_{1} \\sin{\\left(q2t \\right)} + g \\cos{\\left(q1t + q2t \\right)}\\right)\\end{matrix}\\right]$"
      ],
      "text/plain": [
       "Matrix([\n",
       "[-dq2t*l_1*l_c2*m_2*(2*dq1t + dq2t)*sin(q2t) + g*l_c1*m_1*cos(q1t) + g*m_2*(l_1*cos(q1t) + l_c2*cos(q1t + q2t))],\n",
       "[                                                            l_c2*m_2*(dq1t**2*l_1*sin(q2t) + g*cos(q1t + q2t))]])"
      ]
     },
     "execution_count": 27,
     "metadata": {},
     "output_type": "execute_result"
    }
   ],
   "source": [
    "ForceMatrix_Matlab"
   ]
  },
  {
   "cell_type": "code",
   "execution_count": 28,
   "id": "a736796b",
   "metadata": {},
   "outputs": [
    {
     "data": {
      "text/plain": [
       "'-dq2t.*l_1.*l_c2.*m_2.*(2*dq1t + dq2t).*sin(q2t) + g.*l_c1.*m_1.*cos(q1t) + g.*m_2.*(l_1.*cos(q1t) + l_c2.*cos(q1t + q2t))'"
      ]
     },
     "execution_count": 28,
     "metadata": {},
     "output_type": "execute_result"
    }
   ],
   "source": [
    "octave_code(ForceMatrix_Matlab[0])"
   ]
  },
  {
   "cell_type": "code",
   "execution_count": 29,
   "id": "ee1d026c",
   "metadata": {},
   "outputs": [
    {
     "data": {
      "text/plain": [
       "'l_c2.*m_2.*(dq1t.^2.*l_1.*sin(q2t) + g.*cos(q1t + q2t))'"
      ]
     },
     "execution_count": 29,
     "metadata": {},
     "output_type": "execute_result"
    }
   ],
   "source": [
    "octave_code(ForceMatrix_Matlab[1])"
   ]
  }
 ],
 "metadata": {
  "kernelspec": {
   "display_name": "Python 3",
   "language": "python",
   "name": "python3"
  },
  "language_info": {
   "codemirror_mode": {
    "name": "ipython",
    "version": 3
   },
   "file_extension": ".py",
   "mimetype": "text/x-python",
   "name": "python",
   "nbconvert_exporter": "python",
   "pygments_lexer": "ipython3",
   "version": "3.8.8"
  }
 },
 "nbformat": 4,
 "nbformat_minor": 5
}
