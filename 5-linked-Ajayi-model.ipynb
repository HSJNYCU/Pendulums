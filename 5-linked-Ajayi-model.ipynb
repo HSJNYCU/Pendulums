{
 "cells": [
  {
   "cell_type": "markdown",
   "id": "40944de1",
   "metadata": {},
   "source": [
    "參考文章為:Modelling and control of actuated lower limb exoskeletons : a mathematical application using central pattern generators and nonlinear feedback control techniques"
   ]
  },
  {
   "cell_type": "code",
   "execution_count": 1,
   "id": "7b02180c",
   "metadata": {},
   "outputs": [],
   "source": [
    "# 定義需要用到的函式\n",
    "from sympy import symbols, Matrix, cos, sin, simplify, diff, expand\n",
    "from sympy.physics.mechanics import dynamicsymbols"
   ]
  },
  {
   "cell_type": "code",
   "execution_count": 2,
   "id": "9277a874",
   "metadata": {},
   "outputs": [],
   "source": [
    "# th1 = theta1\n",
    "# _d0 = 0次微分, _d1 = 1次微分, _d2 = 2次微分\n",
    "th1_d0, th2_d0, th3_d0, th4_d0, th5_d0 = dynamicsymbols('theta1 theta2 theta3 theta4 theta5')\n",
    "th1_d1, th2_d1, th3_d1, th4_d1, th5_d1 = dynamicsymbols('theta1 theta2 theta3 theta4 theta5',1)\n",
    "th1_d2, th2_d2, th3_d2, th4_d2, th5_d2 = dynamicsymbols('theta1 theta2 theta3 theta4 theta5',2)"
   ]
  },
  {
   "cell_type": "code",
   "execution_count": 3,
   "id": "2ca13e20",
   "metadata": {},
   "outputs": [],
   "source": [
    "# define scalars\n",
    "t, g = symbols('t g') # time, gravity\n",
    "m1, m2, m3, m4, m5 = symbols('m_1 m_2 m_3 m_4 m_5')\n",
    "l1, l2, l3, l4, l5 = symbols('l_1 l_2 l_3 l_4 l_5')\n",
    "lc1, lc2, lc3, lc4, lc5 = symbols('lc_1 lc_2 lc_3 lc_4 lc_5') \n",
    "I1, I2, I3, I4, I5 = symbols('I_1  I_2  I_3  I_4  I_5')"
   ]
  },
  {
   "cell_type": "markdown",
   "id": "765a7151",
   "metadata": {},
   "source": [
    "座標定義: 向右為+x, 向上為+z, 入射紙面為+y\n",
    "$$\\hat{z} \\times \\hat{x} = \\hat{y}$$"
   ]
  },
  {
   "cell_type": "markdown",
   "id": "a78c2ee1",
   "metadata": {},
   "source": [
    "<img src=\"figures/Ajayi_Model.png\" alt=\"Drawing\" style=\"width: 400px;\"/>"
   ]
  },
  {
   "cell_type": "code",
   "execution_count": 4,
   "id": "d40f44f6",
   "metadata": {},
   "outputs": [],
   "source": [
    "xc1 = lc1*sin(th1_d0)\n",
    "zc1 = lc1*cos(th1_d0)\n",
    "\n",
    "xc2 = l1*sin(th1_d0) + lc2*sin(th2_d0)\n",
    "zc2 = l1*cos(th1_d0) + lc2*cos(th2_d0)\n",
    "\n",
    "xc3 = l1*sin(th1_d0) + l2*sin(th2_d0) + lc3*sin(th3_d0)\n",
    "zc3 = l1*cos(th1_d0) + l2*cos(th2_d0) + lc3*cos(th3_d0)\n",
    "\n",
    "xc4 = l1*sin(th1_d0) + l2*sin(th2_d0) + (l4-lc4)*sin(th4_d0)\n",
    "zc4 = l1*cos(th1_d0) + l2*cos(th2_d0) - (l4-lc4)*cos(th4_d0)\n",
    "\n",
    "xc5 = l1*sin(th1_d0) + l2*sin(th2_d0) + l4*sin(th4_d0) + (l5-lc5)*sin(th5_d0)\n",
    "zc5 = l1*cos(th1_d0) + l2*cos(th2_d0) - l4*cos(th4_d0) - (l5-lc5)*cos(th5_d0)"
   ]
  },
  {
   "cell_type": "code",
   "execution_count": 5,
   "id": "8ad5beef",
   "metadata": {},
   "outputs": [],
   "source": [
    "vc1 = diff(Matrix([[xc1],[0],[zc1]]),t)\n",
    "vc2 = diff(Matrix([[xc2],[0],[zc2]]),t)\n",
    "vc3 = diff(Matrix([[xc3],[0],[zc3]]),t)\n",
    "vc4 = diff(Matrix([[xc4],[0],[zc4]]),t)\n",
    "vc5 = diff(Matrix([[xc5],[0],[zc5]]),t)"
   ]
  },
  {
   "cell_type": "markdown",
   "id": "52b03163",
   "metadata": {},
   "source": [
    "## Kinetic Energy K"
   ]
  },
  {
   "cell_type": "code",
   "execution_count": 6,
   "id": "dacd5605",
   "metadata": {},
   "outputs": [],
   "source": [
    "# Translational kinetic energy\n",
    "K_stand_shank = m1*vc1.T.dot(vc1)/2\n",
    "K_stand_thigh = m2*vc2.T.dot(vc2)/2\n",
    "K_body        = m3*vc3.T.dot(vc3)/2\n",
    "K_swing_thigh = m4*vc4.T.dot(vc4)/2\n",
    "K_swing_shank = m5*vc5.T.dot(vc5)/2\n",
    "\n",
    "# Rotational kinetic energy\n",
    "K_rotation = I1*th1_d1**2/2 + I2*th2_d1**2/2 + I3*th3_d1**2/2 + I4*th4_d1**2/2 + I5*th5_d1**2/2\n",
    "\n",
    "# Total kinetic energy\n",
    "K_total = K_stand_shank+K_stand_thigh+K_body+K_swing_thigh+K_swing_shank+K_rotation"
   ]
  },
  {
   "cell_type": "markdown",
   "id": "2c97e2b4",
   "metadata": {},
   "source": [
    "## Potential Energy U"
   ]
  },
  {
   "cell_type": "code",
   "execution_count": 7,
   "id": "9e4b4702",
   "metadata": {},
   "outputs": [],
   "source": [
    "U_stand_shank = m1*g*zc1\n",
    "U_stand_thigh = m2*g*zc2\n",
    "U_body        = m3*g*zc3\n",
    "U_swing_thigh = m4*g*zc4\n",
    "U_swing_shank = m5*g*zc5\n",
    "\n",
    "U_total = U_stand_shank+U_stand_thigh+U_body+U_swing_thigh+U_swing_shank"
   ]
  },
  {
   "cell_type": "markdown",
   "id": "56b08e43",
   "metadata": {},
   "source": [
    "## Lagrangian"
   ]
  },
  {
   "cell_type": "code",
   "execution_count": 8,
   "id": "3ab3193e",
   "metadata": {},
   "outputs": [],
   "source": [
    "system_L = K_total - U_total"
   ]
  },
  {
   "cell_type": "markdown",
   "id": "0bd17c15",
   "metadata": {},
   "source": [
    "## Calculate EoM"
   ]
  },
  {
   "cell_type": "code",
   "execution_count": 9,
   "id": "63c44888",
   "metadata": {},
   "outputs": [],
   "source": [
    "from sympy.physics.mechanics import LagrangesMethod, Lagrangian\n",
    "\n",
    "system_LM = LagrangesMethod(system_L, [th1_d0, th2_d0, th3_d0, th4_d0, th5_d0])\n",
    "system_EoM = system_LM.form_lagranges_equations()"
   ]
  },
  {
   "cell_type": "markdown",
   "id": "7d4cad0f",
   "metadata": {},
   "source": [
    "### Check equations\n",
    "\n",
    "首先檢查mass matrix, 論文中的mass matrix依序為\n",
    "\n",
    "<img src=\"figures/Ajayi_MM_11to15.png\" alt=\"Drawing\" style=\"height: 120px;\"/>"
   ]
  },
  {
   "cell_type": "code",
   "execution_count": 10,
   "id": "260fda2f",
   "metadata": {},
   "outputs": [],
   "source": [
    "system_MM = simplify(system_LM.mass_matrix)"
   ]
  },
  {
   "cell_type": "code",
   "execution_count": 11,
   "id": "42f545bf",
   "metadata": {},
   "outputs": [
    {
     "data": {
      "text/latex": [
       "$\\displaystyle I_{1} + l_{1}^{2} m_{2} + l_{1}^{2} m_{3} + l_{1}^{2} m_{4} + l_{1}^{2} m_{5} + lc_{1}^{2} m_{1}$"
      ],
      "text/plain": [
       "I_1 + l_1**2*m_2 + l_1**2*m_3 + l_1**2*m_4 + l_1**2*m_5 + lc_1**2*m_1"
      ]
     },
     "execution_count": 11,
     "metadata": {},
     "output_type": "execute_result"
    }
   ],
   "source": [
    "system_MM[0,0]"
   ]
  },
  {
   "cell_type": "code",
   "execution_count": 12,
   "id": "84f5d413",
   "metadata": {},
   "outputs": [
    {
     "data": {
      "text/latex": [
       "$\\displaystyle l_{1} \\left(l_{2} m_{3} + l_{2} m_{4} + l_{2} m_{5} + lc_{2} m_{2}\\right) \\cos{\\left(\\theta_{1}{\\left(t \\right)} - \\theta_{2}{\\left(t \\right)} \\right)}$"
      ],
      "text/plain": [
       "l_1*(l_2*m_3 + l_2*m_4 + l_2*m_5 + lc_2*m_2)*cos(theta1(t) - theta2(t))"
      ]
     },
     "execution_count": 12,
     "metadata": {},
     "output_type": "execute_result"
    }
   ],
   "source": [
    "system_MM[0,1]"
   ]
  },
  {
   "cell_type": "code",
   "execution_count": 13,
   "id": "af3e9fec",
   "metadata": {},
   "outputs": [
    {
     "data": {
      "text/latex": [
       "$\\displaystyle l_{1} lc_{3} m_{3} \\cos{\\left(\\theta_{1}{\\left(t \\right)} - \\theta_{3}{\\left(t \\right)} \\right)}$"
      ],
      "text/plain": [
       "l_1*lc_3*m_3*cos(theta1(t) - theta3(t))"
      ]
     },
     "execution_count": 13,
     "metadata": {},
     "output_type": "execute_result"
    }
   ],
   "source": [
    "system_MM[0,2]"
   ]
  },
  {
   "cell_type": "code",
   "execution_count": 14,
   "id": "d4d88837",
   "metadata": {},
   "outputs": [
    {
     "data": {
      "text/latex": [
       "$\\displaystyle l_{1} \\left(l_{4} m_{5} + m_{4} \\left(l_{4} - lc_{4}\\right)\\right) \\cos{\\left(\\theta_{1}{\\left(t \\right)} + \\theta_{4}{\\left(t \\right)} \\right)}$"
      ],
      "text/plain": [
       "l_1*(l_4*m_5 + m_4*(l_4 - lc_4))*cos(theta1(t) + theta4(t))"
      ]
     },
     "execution_count": 14,
     "metadata": {},
     "output_type": "execute_result"
    }
   ],
   "source": [
    "system_MM[0,3]"
   ]
  },
  {
   "cell_type": "code",
   "execution_count": 15,
   "id": "e834cd63",
   "metadata": {},
   "outputs": [
    {
     "data": {
      "text/latex": [
       "$\\displaystyle l_{1} m_{5} \\left(l_{5} - lc_{5}\\right) \\cos{\\left(\\theta_{1}{\\left(t \\right)} + \\theta_{5}{\\left(t \\right)} \\right)}$"
      ],
      "text/plain": [
       "l_1*m_5*(l_5 - lc_5)*cos(theta1(t) + theta5(t))"
      ]
     },
     "execution_count": 15,
     "metadata": {},
     "output_type": "execute_result"
    }
   ],
   "source": [
    "system_MM[0,4]"
   ]
  },
  {
   "cell_type": "markdown",
   "id": "e614bf31",
   "metadata": {},
   "source": [
    "<img src=\"figures/Ajayi_MM_21to25.png\" alt=\"Drawing\" style=\"height: 120px;\"/>"
   ]
  },
  {
   "cell_type": "code",
   "execution_count": 16,
   "id": "e25290f5",
   "metadata": {},
   "outputs": [
    {
     "data": {
      "text/latex": [
       "$\\displaystyle l_{1} \\left(l_{2} m_{3} + l_{2} m_{4} + l_{2} m_{5} + lc_{2} m_{2}\\right) \\cos{\\left(\\theta_{1}{\\left(t \\right)} - \\theta_{2}{\\left(t \\right)} \\right)}$"
      ],
      "text/plain": [
       "l_1*(l_2*m_3 + l_2*m_4 + l_2*m_5 + lc_2*m_2)*cos(theta1(t) - theta2(t))"
      ]
     },
     "execution_count": 16,
     "metadata": {},
     "output_type": "execute_result"
    }
   ],
   "source": [
    "system_MM[1,0]"
   ]
  },
  {
   "cell_type": "code",
   "execution_count": 17,
   "id": "dbcc6783",
   "metadata": {},
   "outputs": [
    {
     "data": {
      "text/latex": [
       "$\\displaystyle I_{2} + l_{2}^{2} m_{3} + l_{2}^{2} m_{4} + l_{2}^{2} m_{5} + lc_{2}^{2} m_{2}$"
      ],
      "text/plain": [
       "I_2 + l_2**2*m_3 + l_2**2*m_4 + l_2**2*m_5 + lc_2**2*m_2"
      ]
     },
     "execution_count": 17,
     "metadata": {},
     "output_type": "execute_result"
    }
   ],
   "source": [
    "system_MM[1,1]"
   ]
  },
  {
   "cell_type": "code",
   "execution_count": 18,
   "id": "ae168ca9",
   "metadata": {},
   "outputs": [
    {
     "data": {
      "text/latex": [
       "$\\displaystyle l_{2} lc_{3} m_{3} \\cos{\\left(\\theta_{2}{\\left(t \\right)} - \\theta_{3}{\\left(t \\right)} \\right)}$"
      ],
      "text/plain": [
       "l_2*lc_3*m_3*cos(theta2(t) - theta3(t))"
      ]
     },
     "execution_count": 18,
     "metadata": {},
     "output_type": "execute_result"
    }
   ],
   "source": [
    "system_MM[1,2]"
   ]
  },
  {
   "cell_type": "code",
   "execution_count": 19,
   "id": "b589b1db",
   "metadata": {},
   "outputs": [
    {
     "data": {
      "text/latex": [
       "$\\displaystyle l_{2} \\left(l_{4} m_{5} + m_{4} \\left(l_{4} - lc_{4}\\right)\\right) \\cos{\\left(\\theta_{2}{\\left(t \\right)} + \\theta_{4}{\\left(t \\right)} \\right)}$"
      ],
      "text/plain": [
       "l_2*(l_4*m_5 + m_4*(l_4 - lc_4))*cos(theta2(t) + theta4(t))"
      ]
     },
     "execution_count": 19,
     "metadata": {},
     "output_type": "execute_result"
    }
   ],
   "source": [
    "system_MM[1,3]"
   ]
  },
  {
   "cell_type": "code",
   "execution_count": 20,
   "id": "2b0c1cac",
   "metadata": {},
   "outputs": [
    {
     "data": {
      "text/latex": [
       "$\\displaystyle l_{2} m_{5} \\left(l_{5} - lc_{5}\\right) \\cos{\\left(\\theta_{2}{\\left(t \\right)} + \\theta_{5}{\\left(t \\right)} \\right)}$"
      ],
      "text/plain": [
       "l_2*m_5*(l_5 - lc_5)*cos(theta2(t) + theta5(t))"
      ]
     },
     "execution_count": 20,
     "metadata": {},
     "output_type": "execute_result"
    }
   ],
   "source": [
    "system_MM[1,4]"
   ]
  },
  {
   "cell_type": "markdown",
   "id": "1696578c",
   "metadata": {},
   "source": [
    "<img src=\"figures/Ajayi_MM_31to35.png\" alt=\"Drawing\" style=\"height: 120px;\"/>"
   ]
  },
  {
   "cell_type": "code",
   "execution_count": 48,
   "id": "d95933f4",
   "metadata": {},
   "outputs": [
    {
     "data": {
      "text/latex": [
       "$\\displaystyle l_{1} lc_{3} m_{3} \\cos{\\left(\\theta_{1}{\\left(t \\right)} - \\theta_{3}{\\left(t \\right)} \\right)}$"
      ],
      "text/plain": [
       "l_1*lc_3*m_3*cos(theta1(t) - theta3(t))"
      ]
     },
     "execution_count": 48,
     "metadata": {},
     "output_type": "execute_result"
    }
   ],
   "source": [
    "system_MM[2,0]"
   ]
  },
  {
   "cell_type": "code",
   "execution_count": 49,
   "id": "d4329496",
   "metadata": {},
   "outputs": [
    {
     "data": {
      "text/latex": [
       "$\\displaystyle l_{2} lc_{3} m_{3} \\cos{\\left(\\theta_{2}{\\left(t \\right)} - \\theta_{3}{\\left(t \\right)} \\right)}$"
      ],
      "text/plain": [
       "l_2*lc_3*m_3*cos(theta2(t) - theta3(t))"
      ]
     },
     "execution_count": 49,
     "metadata": {},
     "output_type": "execute_result"
    }
   ],
   "source": [
    "system_MM[2,1]"
   ]
  },
  {
   "cell_type": "code",
   "execution_count": 50,
   "id": "87b72248",
   "metadata": {},
   "outputs": [
    {
     "data": {
      "text/latex": [
       "$\\displaystyle I_{3} + lc_{3}^{2} m_{3}$"
      ],
      "text/plain": [
       "I_3 + lc_3**2*m_3"
      ]
     },
     "execution_count": 50,
     "metadata": {},
     "output_type": "execute_result"
    }
   ],
   "source": [
    "system_MM[2,2]"
   ]
  },
  {
   "cell_type": "code",
   "execution_count": 51,
   "id": "0b8a1ed2",
   "metadata": {},
   "outputs": [
    {
     "data": {
      "text/latex": [
       "$\\displaystyle 0$"
      ],
      "text/plain": [
       "0"
      ]
     },
     "execution_count": 51,
     "metadata": {},
     "output_type": "execute_result"
    }
   ],
   "source": [
    "system_MM[2,3]"
   ]
  },
  {
   "cell_type": "code",
   "execution_count": 52,
   "id": "9c5d798a",
   "metadata": {},
   "outputs": [
    {
     "data": {
      "text/latex": [
       "$\\displaystyle 0$"
      ],
      "text/plain": [
       "0"
      ]
     },
     "execution_count": 52,
     "metadata": {},
     "output_type": "execute_result"
    }
   ],
   "source": [
    "system_MM[2,4]"
   ]
  },
  {
   "cell_type": "markdown",
   "id": "2d42e4fd",
   "metadata": {},
   "source": [
    "<img src=\"figures/Ajayi_MM_41to45.png\" alt=\"Drawing\" style=\"height: 120px;\"/>"
   ]
  },
  {
   "cell_type": "code",
   "execution_count": 53,
   "id": "3927d1b5",
   "metadata": {},
   "outputs": [
    {
     "data": {
      "text/latex": [
       "$\\displaystyle l_{1} \\left(l_{4} m_{5} + m_{4} \\left(l_{4} - lc_{4}\\right)\\right) \\cos{\\left(\\theta_{1}{\\left(t \\right)} + \\theta_{4}{\\left(t \\right)} \\right)}$"
      ],
      "text/plain": [
       "l_1*(l_4*m_5 + m_4*(l_4 - lc_4))*cos(theta1(t) + theta4(t))"
      ]
     },
     "execution_count": 53,
     "metadata": {},
     "output_type": "execute_result"
    }
   ],
   "source": [
    "system_MM[3,0]"
   ]
  },
  {
   "cell_type": "code",
   "execution_count": 54,
   "id": "1af21caa",
   "metadata": {},
   "outputs": [
    {
     "data": {
      "text/latex": [
       "$\\displaystyle l_{2} \\left(l_{4} m_{5} + m_{4} \\left(l_{4} - lc_{4}\\right)\\right) \\cos{\\left(\\theta_{2}{\\left(t \\right)} + \\theta_{4}{\\left(t \\right)} \\right)}$"
      ],
      "text/plain": [
       "l_2*(l_4*m_5 + m_4*(l_4 - lc_4))*cos(theta2(t) + theta4(t))"
      ]
     },
     "execution_count": 54,
     "metadata": {},
     "output_type": "execute_result"
    }
   ],
   "source": [
    "system_MM[3,1]"
   ]
  },
  {
   "cell_type": "code",
   "execution_count": 55,
   "id": "3178037e",
   "metadata": {},
   "outputs": [
    {
     "data": {
      "text/latex": [
       "$\\displaystyle 0$"
      ],
      "text/plain": [
       "0"
      ]
     },
     "execution_count": 55,
     "metadata": {},
     "output_type": "execute_result"
    }
   ],
   "source": [
    "system_MM[3,2]"
   ]
  },
  {
   "cell_type": "code",
   "execution_count": 56,
   "id": "1495be60",
   "metadata": {},
   "outputs": [
    {
     "data": {
      "text/latex": [
       "$\\displaystyle I_{4} + l_{4}^{2} m_{5} + m_{4} \\left(l_{4} - lc_{4}\\right)^{2}$"
      ],
      "text/plain": [
       "I_4 + l_4**2*m_5 + m_4*(l_4 - lc_4)**2"
      ]
     },
     "execution_count": 56,
     "metadata": {},
     "output_type": "execute_result"
    }
   ],
   "source": [
    "system_MM[3,3]"
   ]
  },
  {
   "cell_type": "code",
   "execution_count": 57,
   "id": "492ac26f",
   "metadata": {},
   "outputs": [
    {
     "data": {
      "text/latex": [
       "$\\displaystyle l_{4} m_{5} \\left(l_{5} - lc_{5}\\right) \\cos{\\left(\\theta_{4}{\\left(t \\right)} - \\theta_{5}{\\left(t \\right)} \\right)}$"
      ],
      "text/plain": [
       "l_4*m_5*(l_5 - lc_5)*cos(theta4(t) - theta5(t))"
      ]
     },
     "execution_count": 57,
     "metadata": {},
     "output_type": "execute_result"
    }
   ],
   "source": [
    "system_MM[3,4]"
   ]
  },
  {
   "cell_type": "markdown",
   "id": "f9b90248",
   "metadata": {},
   "source": [
    "<img src=\"figures/Ajayi_MM_51to55.png\" alt=\"Drawing\" style=\"height: 120px;\"/>"
   ]
  },
  {
   "cell_type": "code",
   "execution_count": 58,
   "id": "495309a9",
   "metadata": {},
   "outputs": [
    {
     "data": {
      "text/latex": [
       "$\\displaystyle l_{1} m_{5} \\left(l_{5} - lc_{5}\\right) \\cos{\\left(\\theta_{1}{\\left(t \\right)} + \\theta_{5}{\\left(t \\right)} \\right)}$"
      ],
      "text/plain": [
       "l_1*m_5*(l_5 - lc_5)*cos(theta1(t) + theta5(t))"
      ]
     },
     "execution_count": 58,
     "metadata": {},
     "output_type": "execute_result"
    }
   ],
   "source": [
    "system_MM[4,0]"
   ]
  },
  {
   "cell_type": "code",
   "execution_count": 59,
   "id": "35c18bdd",
   "metadata": {},
   "outputs": [
    {
     "data": {
      "text/latex": [
       "$\\displaystyle l_{2} m_{5} \\left(l_{5} - lc_{5}\\right) \\cos{\\left(\\theta_{2}{\\left(t \\right)} + \\theta_{5}{\\left(t \\right)} \\right)}$"
      ],
      "text/plain": [
       "l_2*m_5*(l_5 - lc_5)*cos(theta2(t) + theta5(t))"
      ]
     },
     "execution_count": 59,
     "metadata": {},
     "output_type": "execute_result"
    }
   ],
   "source": [
    "system_MM[4,1]"
   ]
  },
  {
   "cell_type": "code",
   "execution_count": 60,
   "id": "a04c20d0",
   "metadata": {},
   "outputs": [
    {
     "data": {
      "text/latex": [
       "$\\displaystyle 0$"
      ],
      "text/plain": [
       "0"
      ]
     },
     "execution_count": 60,
     "metadata": {},
     "output_type": "execute_result"
    }
   ],
   "source": [
    "system_MM[4,2]"
   ]
  },
  {
   "cell_type": "code",
   "execution_count": 61,
   "id": "b57d5301",
   "metadata": {},
   "outputs": [
    {
     "data": {
      "text/latex": [
       "$\\displaystyle l_{4} m_{5} \\left(l_{5} - lc_{5}\\right) \\cos{\\left(\\theta_{4}{\\left(t \\right)} - \\theta_{5}{\\left(t \\right)} \\right)}$"
      ],
      "text/plain": [
       "l_4*m_5*(l_5 - lc_5)*cos(theta4(t) - theta5(t))"
      ]
     },
     "execution_count": 61,
     "metadata": {},
     "output_type": "execute_result"
    }
   ],
   "source": [
    "system_MM[4,3]"
   ]
  },
  {
   "cell_type": "code",
   "execution_count": 62,
   "id": "bfd0d129",
   "metadata": {},
   "outputs": [
    {
     "data": {
      "text/latex": [
       "$\\displaystyle I_{5} + m_{5} \\left(l_{5} - lc_{5}\\right)^{2}$"
      ],
      "text/plain": [
       "I_5 + m_5*(l_5 - lc_5)**2"
      ]
     },
     "execution_count": 62,
     "metadata": {},
     "output_type": "execute_result"
    }
   ],
   "source": [
    "system_MM[4,4]"
   ]
  },
  {
   "cell_type": "markdown",
   "id": "3e3d5144",
   "metadata": {},
   "source": [
    "### Force Matrix 計算"
   ]
  },
  {
   "cell_type": "code",
   "execution_count": 21,
   "id": "4f10c9c3",
   "metadata": {},
   "outputs": [],
   "source": [
    "system_LM_forcing = -system_LM.forcing\n",
    "system_ForceMatrix = expand(system_LM_forcing - diff(system_LM_forcing, g)*g)"
   ]
  },
  {
   "cell_type": "markdown",
   "id": "6f064090",
   "metadata": {},
   "source": [
    "在使用global angle $\\theta$ 定義的情況下，可能是因為角度沒有耦聯(couple)，force matrix的項次都\"係數*一次微分項^2\"，因此使用兩次偏微分提出需要的項次"
   ]
  },
  {
   "cell_type": "markdown",
   "id": "cd0757ca",
   "metadata": {},
   "source": [
    "<img src=\"figures/Ajayi_C11to15.png\" alt=\"Drawing\" style=\"height: 120px;\"/>"
   ]
  },
  {
   "cell_type": "code",
   "execution_count": 22,
   "id": "b7d00e41",
   "metadata": {},
   "outputs": [
    {
     "data": {
      "text/latex": [
       "$\\displaystyle 0$"
      ],
      "text/plain": [
       "0"
      ]
     },
     "execution_count": 22,
     "metadata": {},
     "output_type": "execute_result"
    }
   ],
   "source": [
    "C11 = simplify(diff(system_ForceMatrix[0], th1_d1, 2)/2)*th1_d1; C11"
   ]
  },
  {
   "cell_type": "code",
   "execution_count": 23,
   "id": "92902ee3",
   "metadata": {},
   "outputs": [
    {
     "data": {
      "text/latex": [
       "$\\displaystyle l_{1} \\left(l_{2} m_{3} + l_{2} m_{4} + l_{2} m_{5} + lc_{2} m_{2}\\right) \\sin{\\left(\\theta_{1}{\\left(t \\right)} - \\theta_{2}{\\left(t \\right)} \\right)} \\frac{d}{d t} \\theta_{2}{\\left(t \\right)}$"
      ],
      "text/plain": [
       "l_1*(l_2*m_3 + l_2*m_4 + l_2*m_5 + lc_2*m_2)*sin(theta1(t) - theta2(t))*Derivative(theta2(t), t)"
      ]
     },
     "execution_count": 23,
     "metadata": {},
     "output_type": "execute_result"
    }
   ],
   "source": [
    "C12 = simplify(diff(system_ForceMatrix[0], th2_d1, 2)/2)*th2_d1; C12"
   ]
  },
  {
   "cell_type": "code",
   "execution_count": 24,
   "id": "f901526b",
   "metadata": {},
   "outputs": [
    {
     "data": {
      "text/latex": [
       "$\\displaystyle l_{1} lc_{3} m_{3} \\sin{\\left(\\theta_{1}{\\left(t \\right)} - \\theta_{3}{\\left(t \\right)} \\right)} \\frac{d}{d t} \\theta_{3}{\\left(t \\right)}$"
      ],
      "text/plain": [
       "l_1*lc_3*m_3*sin(theta1(t) - theta3(t))*Derivative(theta3(t), t)"
      ]
     },
     "execution_count": 24,
     "metadata": {},
     "output_type": "execute_result"
    }
   ],
   "source": [
    "C13 = simplify(diff(system_ForceMatrix[0], th3_d1, 2)/2)*th3_d1; C13"
   ]
  },
  {
   "cell_type": "code",
   "execution_count": 25,
   "id": "764d15fd",
   "metadata": {},
   "outputs": [
    {
     "data": {
      "text/latex": [
       "$\\displaystyle l_{1} \\left(- l_{4} m_{4} - l_{4} m_{5} + lc_{4} m_{4}\\right) \\sin{\\left(\\theta_{1}{\\left(t \\right)} + \\theta_{4}{\\left(t \\right)} \\right)} \\frac{d}{d t} \\theta_{4}{\\left(t \\right)}$"
      ],
      "text/plain": [
       "l_1*(-l_4*m_4 - l_4*m_5 + lc_4*m_4)*sin(theta1(t) + theta4(t))*Derivative(theta4(t), t)"
      ]
     },
     "execution_count": 25,
     "metadata": {},
     "output_type": "execute_result"
    }
   ],
   "source": [
    "C14 = simplify(diff(system_ForceMatrix[0], th4_d1, 2)/2)*th4_d1; C14"
   ]
  },
  {
   "cell_type": "code",
   "execution_count": 26,
   "id": "512520af",
   "metadata": {},
   "outputs": [
    {
     "data": {
      "text/latex": [
       "$\\displaystyle l_{1} m_{5} \\left(- l_{5} + lc_{5}\\right) \\sin{\\left(\\theta_{1}{\\left(t \\right)} + \\theta_{5}{\\left(t \\right)} \\right)} \\frac{d}{d t} \\theta_{5}{\\left(t \\right)}$"
      ],
      "text/plain": [
       "l_1*m_5*(-l_5 + lc_5)*sin(theta1(t) + theta5(t))*Derivative(theta5(t), t)"
      ]
     },
     "execution_count": 26,
     "metadata": {},
     "output_type": "execute_result"
    }
   ],
   "source": [
    "C15 = simplify(diff(system_ForceMatrix[0], th5_d1, 2)/2)*th5_d1; C15"
   ]
  },
  {
   "cell_type": "markdown",
   "id": "17e324c8",
   "metadata": {},
   "source": [
    "<img src=\"figures/Ajayi_C21to25.png\" alt=\"Drawing\" style=\"height: 120px;\"/>"
   ]
  },
  {
   "cell_type": "code",
   "execution_count": 28,
   "id": "0753695c",
   "metadata": {},
   "outputs": [
    {
     "data": {
      "text/latex": [
       "$\\displaystyle - l_{1} \\left(l_{2} m_{3} + l_{2} m_{4} + l_{2} m_{5} + lc_{2} m_{2}\\right) \\sin{\\left(\\theta_{1}{\\left(t \\right)} - \\theta_{2}{\\left(t \\right)} \\right)} \\frac{d}{d t} \\theta_{1}{\\left(t \\right)}$"
      ],
      "text/plain": [
       "-l_1*(l_2*m_3 + l_2*m_4 + l_2*m_5 + lc_2*m_2)*sin(theta1(t) - theta2(t))*Derivative(theta1(t), t)"
      ]
     },
     "execution_count": 28,
     "metadata": {},
     "output_type": "execute_result"
    }
   ],
   "source": [
    "C21 = simplify(diff(system_ForceMatrix[1], th1_d1, 2)/2)*th1_d1; C21"
   ]
  },
  {
   "cell_type": "code",
   "execution_count": 29,
   "id": "f4f52a5c",
   "metadata": {},
   "outputs": [
    {
     "data": {
      "text/latex": [
       "$\\displaystyle 0$"
      ],
      "text/plain": [
       "0"
      ]
     },
     "execution_count": 29,
     "metadata": {},
     "output_type": "execute_result"
    }
   ],
   "source": [
    "C22 = simplify(diff(system_ForceMatrix[1], th2_d1, 2)/2)*th2_d1; C22"
   ]
  },
  {
   "cell_type": "code",
   "execution_count": 30,
   "id": "b06f2997",
   "metadata": {},
   "outputs": [
    {
     "data": {
      "text/latex": [
       "$\\displaystyle l_{2} lc_{3} m_{3} \\sin{\\left(\\theta_{2}{\\left(t \\right)} - \\theta_{3}{\\left(t \\right)} \\right)} \\frac{d}{d t} \\theta_{3}{\\left(t \\right)}$"
      ],
      "text/plain": [
       "l_2*lc_3*m_3*sin(theta2(t) - theta3(t))*Derivative(theta3(t), t)"
      ]
     },
     "execution_count": 30,
     "metadata": {},
     "output_type": "execute_result"
    }
   ],
   "source": [
    "C23 = simplify(diff(system_ForceMatrix[1], th3_d1, 2)/2)*th3_d1; C23"
   ]
  },
  {
   "cell_type": "code",
   "execution_count": 31,
   "id": "bdeea905",
   "metadata": {},
   "outputs": [
    {
     "data": {
      "text/latex": [
       "$\\displaystyle l_{2} \\left(- l_{4} m_{4} - l_{4} m_{5} + lc_{4} m_{4}\\right) \\sin{\\left(\\theta_{2}{\\left(t \\right)} + \\theta_{4}{\\left(t \\right)} \\right)} \\frac{d}{d t} \\theta_{4}{\\left(t \\right)}$"
      ],
      "text/plain": [
       "l_2*(-l_4*m_4 - l_4*m_5 + lc_4*m_4)*sin(theta2(t) + theta4(t))*Derivative(theta4(t), t)"
      ]
     },
     "execution_count": 31,
     "metadata": {},
     "output_type": "execute_result"
    }
   ],
   "source": [
    "C24 = simplify(diff(system_ForceMatrix[1], th4_d1, 2)/2)*th4_d1; C24"
   ]
  },
  {
   "cell_type": "code",
   "execution_count": 32,
   "id": "827e9b10",
   "metadata": {},
   "outputs": [
    {
     "data": {
      "text/latex": [
       "$\\displaystyle l_{2} m_{5} \\left(- l_{5} + lc_{5}\\right) \\sin{\\left(\\theta_{2}{\\left(t \\right)} + \\theta_{5}{\\left(t \\right)} \\right)} \\frac{d}{d t} \\theta_{5}{\\left(t \\right)}$"
      ],
      "text/plain": [
       "l_2*m_5*(-l_5 + lc_5)*sin(theta2(t) + theta5(t))*Derivative(theta5(t), t)"
      ]
     },
     "execution_count": 32,
     "metadata": {},
     "output_type": "execute_result"
    }
   ],
   "source": [
    "C25 = simplify(diff(system_ForceMatrix[1], th5_d1, 2)/2)*th5_d1; C25"
   ]
  },
  {
   "cell_type": "markdown",
   "id": "4b43d1a7",
   "metadata": {},
   "source": [
    "<img src=\"figures/Ajayi_C31to35.png\" alt=\"Drawing\" style=\"height: 120px;\"/>"
   ]
  },
  {
   "cell_type": "code",
   "execution_count": 33,
   "id": "dab7b3cb",
   "metadata": {},
   "outputs": [
    {
     "data": {
      "text/latex": [
       "$\\displaystyle - l_{1} lc_{3} m_{3} \\sin{\\left(\\theta_{1}{\\left(t \\right)} - \\theta_{3}{\\left(t \\right)} \\right)} \\frac{d}{d t} \\theta_{1}{\\left(t \\right)}$"
      ],
      "text/plain": [
       "-l_1*lc_3*m_3*sin(theta1(t) - theta3(t))*Derivative(theta1(t), t)"
      ]
     },
     "execution_count": 33,
     "metadata": {},
     "output_type": "execute_result"
    }
   ],
   "source": [
    "C31 = simplify(diff(system_ForceMatrix[2], th1_d1, 2)/2)*th1_d1; C31"
   ]
  },
  {
   "cell_type": "code",
   "execution_count": 34,
   "id": "6e729e12",
   "metadata": {},
   "outputs": [
    {
     "data": {
      "text/latex": [
       "$\\displaystyle - l_{2} lc_{3} m_{3} \\sin{\\left(\\theta_{2}{\\left(t \\right)} - \\theta_{3}{\\left(t \\right)} \\right)} \\frac{d}{d t} \\theta_{2}{\\left(t \\right)}$"
      ],
      "text/plain": [
       "-l_2*lc_3*m_3*sin(theta2(t) - theta3(t))*Derivative(theta2(t), t)"
      ]
     },
     "execution_count": 34,
     "metadata": {},
     "output_type": "execute_result"
    }
   ],
   "source": [
    "C32 = simplify(diff(system_ForceMatrix[2], th2_d1, 2)/2)*th2_d1; C32"
   ]
  },
  {
   "cell_type": "code",
   "execution_count": 35,
   "id": "d36b8e77",
   "metadata": {},
   "outputs": [
    {
     "data": {
      "text/latex": [
       "$\\displaystyle 0$"
      ],
      "text/plain": [
       "0"
      ]
     },
     "execution_count": 35,
     "metadata": {},
     "output_type": "execute_result"
    }
   ],
   "source": [
    "C33 = simplify(diff(system_ForceMatrix[2], th3_d1, 2)/2)*th3_d1; C33"
   ]
  },
  {
   "cell_type": "code",
   "execution_count": 36,
   "id": "168d6511",
   "metadata": {},
   "outputs": [
    {
     "data": {
      "text/latex": [
       "$\\displaystyle 0$"
      ],
      "text/plain": [
       "0"
      ]
     },
     "execution_count": 36,
     "metadata": {},
     "output_type": "execute_result"
    }
   ],
   "source": [
    "C34 = simplify(diff(system_ForceMatrix[2], th4_d1, 2)/2)*th4_d1; C34"
   ]
  },
  {
   "cell_type": "code",
   "execution_count": 37,
   "id": "395801f9",
   "metadata": {},
   "outputs": [
    {
     "data": {
      "text/latex": [
       "$\\displaystyle 0$"
      ],
      "text/plain": [
       "0"
      ]
     },
     "execution_count": 37,
     "metadata": {},
     "output_type": "execute_result"
    }
   ],
   "source": [
    "C35 = simplify(diff(system_ForceMatrix[2], th5_d1, 2)/2)*th5_d1; C35"
   ]
  },
  {
   "cell_type": "markdown",
   "id": "8ff57cc8",
   "metadata": {},
   "source": [
    "<img src=\"figures/Ajayi_C41to45.png\" alt=\"Drawing\" style=\"height: 120px;\"/>"
   ]
  },
  {
   "cell_type": "code",
   "execution_count": 38,
   "id": "2d5642c6",
   "metadata": {},
   "outputs": [
    {
     "data": {
      "text/latex": [
       "$\\displaystyle l_{1} \\left(- l_{4} m_{4} - l_{4} m_{5} + lc_{4} m_{4}\\right) \\sin{\\left(\\theta_{1}{\\left(t \\right)} + \\theta_{4}{\\left(t \\right)} \\right)} \\frac{d}{d t} \\theta_{1}{\\left(t \\right)}$"
      ],
      "text/plain": [
       "l_1*(-l_4*m_4 - l_4*m_5 + lc_4*m_4)*sin(theta1(t) + theta4(t))*Derivative(theta1(t), t)"
      ]
     },
     "execution_count": 38,
     "metadata": {},
     "output_type": "execute_result"
    }
   ],
   "source": [
    "C41 = simplify(diff(system_ForceMatrix[3], th1_d1, 2)/2)*th1_d1; C41"
   ]
  },
  {
   "cell_type": "code",
   "execution_count": 39,
   "id": "eff8619c",
   "metadata": {},
   "outputs": [
    {
     "data": {
      "text/latex": [
       "$\\displaystyle l_{2} \\left(- l_{4} m_{4} - l_{4} m_{5} + lc_{4} m_{4}\\right) \\sin{\\left(\\theta_{2}{\\left(t \\right)} + \\theta_{4}{\\left(t \\right)} \\right)} \\frac{d}{d t} \\theta_{2}{\\left(t \\right)}$"
      ],
      "text/plain": [
       "l_2*(-l_4*m_4 - l_4*m_5 + lc_4*m_4)*sin(theta2(t) + theta4(t))*Derivative(theta2(t), t)"
      ]
     },
     "execution_count": 39,
     "metadata": {},
     "output_type": "execute_result"
    }
   ],
   "source": [
    "C42 = simplify(diff(system_ForceMatrix[3], th2_d1, 2)/2)*th2_d1; C42"
   ]
  },
  {
   "cell_type": "code",
   "execution_count": 40,
   "id": "e0041b71",
   "metadata": {},
   "outputs": [
    {
     "data": {
      "text/latex": [
       "$\\displaystyle 0$"
      ],
      "text/plain": [
       "0"
      ]
     },
     "execution_count": 40,
     "metadata": {},
     "output_type": "execute_result"
    }
   ],
   "source": [
    "C43 = simplify(diff(system_ForceMatrix[3], th3_d1, 2)/2)*th3_d1; C43"
   ]
  },
  {
   "cell_type": "code",
   "execution_count": 41,
   "id": "34764cdf",
   "metadata": {},
   "outputs": [
    {
     "data": {
      "text/latex": [
       "$\\displaystyle 0$"
      ],
      "text/plain": [
       "0"
      ]
     },
     "execution_count": 41,
     "metadata": {},
     "output_type": "execute_result"
    }
   ],
   "source": [
    "C44 = simplify(diff(system_ForceMatrix[3], th4_d1, 2)/2)*th4_d1; C44"
   ]
  },
  {
   "cell_type": "code",
   "execution_count": 42,
   "id": "cdc513de",
   "metadata": {},
   "outputs": [
    {
     "data": {
      "text/latex": [
       "$\\displaystyle l_{4} m_{5} \\left(l_{5} - lc_{5}\\right) \\sin{\\left(\\theta_{4}{\\left(t \\right)} - \\theta_{5}{\\left(t \\right)} \\right)} \\frac{d}{d t} \\theta_{5}{\\left(t \\right)}$"
      ],
      "text/plain": [
       "l_4*m_5*(l_5 - lc_5)*sin(theta4(t) - theta5(t))*Derivative(theta5(t), t)"
      ]
     },
     "execution_count": 42,
     "metadata": {},
     "output_type": "execute_result"
    }
   ],
   "source": [
    "C45 = simplify(diff(system_ForceMatrix[3], th5_d1, 2)/2)*th5_d1; C45"
   ]
  },
  {
   "cell_type": "markdown",
   "id": "6094513c",
   "metadata": {},
   "source": [
    "<img src=\"figures/Ajayi_C51to55.png\" alt=\"Drawing\" style=\"height: 120px;\"/>"
   ]
  },
  {
   "cell_type": "code",
   "execution_count": 43,
   "id": "63b13e57",
   "metadata": {},
   "outputs": [
    {
     "data": {
      "text/latex": [
       "$\\displaystyle l_{1} m_{5} \\left(- l_{5} + lc_{5}\\right) \\sin{\\left(\\theta_{1}{\\left(t \\right)} + \\theta_{5}{\\left(t \\right)} \\right)} \\frac{d}{d t} \\theta_{1}{\\left(t \\right)}$"
      ],
      "text/plain": [
       "l_1*m_5*(-l_5 + lc_5)*sin(theta1(t) + theta5(t))*Derivative(theta1(t), t)"
      ]
     },
     "execution_count": 43,
     "metadata": {},
     "output_type": "execute_result"
    }
   ],
   "source": [
    "C51 = simplify(diff(system_ForceMatrix[4], th1_d1, 2)/2)*th1_d1; C51"
   ]
  },
  {
   "cell_type": "code",
   "execution_count": 44,
   "id": "35dc05b9",
   "metadata": {},
   "outputs": [
    {
     "data": {
      "text/latex": [
       "$\\displaystyle l_{2} m_{5} \\left(- l_{5} + lc_{5}\\right) \\sin{\\left(\\theta_{2}{\\left(t \\right)} + \\theta_{5}{\\left(t \\right)} \\right)} \\frac{d}{d t} \\theta_{2}{\\left(t \\right)}$"
      ],
      "text/plain": [
       "l_2*m_5*(-l_5 + lc_5)*sin(theta2(t) + theta5(t))*Derivative(theta2(t), t)"
      ]
     },
     "execution_count": 44,
     "metadata": {},
     "output_type": "execute_result"
    }
   ],
   "source": [
    "C52 = simplify(diff(system_ForceMatrix[4], th2_d1, 2)/2)*th2_d1; C52"
   ]
  },
  {
   "cell_type": "code",
   "execution_count": 45,
   "id": "bb266373",
   "metadata": {},
   "outputs": [
    {
     "data": {
      "text/latex": [
       "$\\displaystyle 0$"
      ],
      "text/plain": [
       "0"
      ]
     },
     "execution_count": 45,
     "metadata": {},
     "output_type": "execute_result"
    }
   ],
   "source": [
    "C53 = simplify(diff(system_ForceMatrix[4], th3_d1, 2)/2)*th3_d1; C53"
   ]
  },
  {
   "cell_type": "code",
   "execution_count": 46,
   "id": "71069cd5",
   "metadata": {},
   "outputs": [
    {
     "data": {
      "text/latex": [
       "$\\displaystyle l_{4} m_{5} \\left(- l_{5} + lc_{5}\\right) \\sin{\\left(\\theta_{4}{\\left(t \\right)} - \\theta_{5}{\\left(t \\right)} \\right)} \\frac{d}{d t} \\theta_{4}{\\left(t \\right)}$"
      ],
      "text/plain": [
       "l_4*m_5*(-l_5 + lc_5)*sin(theta4(t) - theta5(t))*Derivative(theta4(t), t)"
      ]
     },
     "execution_count": 46,
     "metadata": {},
     "output_type": "execute_result"
    }
   ],
   "source": [
    "C54 = simplify(diff(system_ForceMatrix[4], th4_d1, 2)/2)*th4_d1; C54"
   ]
  },
  {
   "cell_type": "code",
   "execution_count": 47,
   "id": "575e6272",
   "metadata": {},
   "outputs": [
    {
     "data": {
      "text/latex": [
       "$\\displaystyle 0$"
      ],
      "text/plain": [
       "0"
      ]
     },
     "execution_count": 47,
     "metadata": {},
     "output_type": "execute_result"
    }
   ],
   "source": [
    "C55 = simplify(diff(system_ForceMatrix[4], th5_d1, 2)/2)*th5_d1; C55"
   ]
  },
  {
   "cell_type": "markdown",
   "id": "1b8d64a3",
   "metadata": {},
   "source": [
    "### Gravity Matrix 計算"
   ]
  },
  {
   "cell_type": "code",
   "execution_count": 27,
   "id": "9a3bae00",
   "metadata": {},
   "outputs": [
    {
     "data": {
      "text/latex": [
       "$\\displaystyle \\left[\\begin{matrix}- g \\left(l_{1} m_{2} + l_{1} m_{3} + l_{1} m_{4} + l_{1} m_{5} + lc_{1} m_{1}\\right) \\sin{\\left(\\theta_{1}{\\left(t \\right)} \\right)}\\\\- g \\left(l_{2} m_{3} + l_{2} m_{4} + l_{2} m_{5} + lc_{2} m_{2}\\right) \\sin{\\left(\\theta_{2}{\\left(t \\right)} \\right)}\\\\- g lc_{3} m_{3} \\sin{\\left(\\theta_{3}{\\left(t \\right)} \\right)}\\\\g \\left(l_{4} m_{5} + m_{4} \\left(l_{4} - lc_{4}\\right)\\right) \\sin{\\left(\\theta_{4}{\\left(t \\right)} \\right)}\\\\g m_{5} \\left(l_{5} - lc_{5}\\right) \\sin{\\left(\\theta_{5}{\\left(t \\right)} \\right)}\\end{matrix}\\right]$"
      ],
      "text/plain": [
       "Matrix([\n",
       "[-g*(l_1*m_2 + l_1*m_3 + l_1*m_4 + l_1*m_5 + lc_1*m_1)*sin(theta1(t))],\n",
       "[          -g*(l_2*m_3 + l_2*m_4 + l_2*m_5 + lc_2*m_2)*sin(theta2(t))],\n",
       "[                                          -g*lc_3*m_3*sin(theta3(t))],\n",
       "[                       g*(l_4*m_5 + m_4*(l_4 - lc_4))*sin(theta4(t))],\n",
       "[                                   g*m_5*(l_5 - lc_5)*sin(theta5(t))]])"
      ]
     },
     "execution_count": 27,
     "metadata": {},
     "output_type": "execute_result"
    }
   ],
   "source": [
    "system_GravityMatrix = simplify(diff(system_LM_forcing, g)*g)\n",
    "system_GravityMatrix"
   ]
  },
  {
   "cell_type": "markdown",
   "id": "d5ae77a3",
   "metadata": {},
   "source": [
    "#### 計算結果與Ajayi論文中一致"
   ]
  }
 ],
 "metadata": {
  "kernelspec": {
   "display_name": "Python 3",
   "language": "python",
   "name": "python3"
  },
  "language_info": {
   "codemirror_mode": {
    "name": "ipython",
    "version": 3
   },
   "file_extension": ".py",
   "mimetype": "text/x-python",
   "name": "python",
   "nbconvert_exporter": "python",
   "pygments_lexer": "ipython3",
   "version": "3.7.3"
  }
 },
 "nbformat": 4,
 "nbformat_minor": 5
}
