{
 "cells": [
  {
   "cell_type": "markdown",
   "id": "40944de1",
   "metadata": {},
   "source": [
    "# Five Linked Model EoM\n",
    "\n",
    "<img src=\"figures/Ajayi_Model_new.png\" alt=\"Drawing\" style=\"width: 400px;\"/>\n",
    "\n",
    "參考文章為:Modelling and control of actuated lower limb exoskeletons : a mathematical application using central pattern generators and nonlinear feedback control techniques"
   ]
  },
  {
   "cell_type": "code",
   "execution_count": 1,
   "id": "7b02180c",
   "metadata": {},
   "outputs": [],
   "source": [
    "# 定義需要用到的函式\n",
    "from sympy import symbols, Matrix, cos, sin, simplify, diff, expand\n",
    "from sympy.physics.mechanics import dynamicsymbols"
   ]
  },
  {
   "cell_type": "code",
   "execution_count": 2,
   "id": "9277a874",
   "metadata": {},
   "outputs": [],
   "source": [
    "# th1 = theta1\n",
    "# _d0 = 0次微分, _d1 = 1次微分, _d2 = 2次微分\n",
    "th1_d0, th2_d0, th3_d0, th4_d0, th5_d0 = dynamicsymbols('theta1 theta2 theta3 theta4 theta5')\n",
    "th1_d1, th2_d1, th3_d1, th4_d1, th5_d1 = dynamicsymbols('theta1 theta2 theta3 theta4 theta5',1)\n",
    "th1_d2, th2_d2, th3_d2, th4_d2, th5_d2 = dynamicsymbols('theta1 theta2 theta3 theta4 theta5',2)"
   ]
  },
  {
   "cell_type": "markdown",
   "id": "786e98e2",
   "metadata": {},
   "source": [
    "五軸系統可視為五連桿之倒單擺系統，其中各連桿對應人體關節的意義為\n",
    "* 連桿1為觸地腳小腿\n",
    "* 連桿2為觸地腳大腿\n",
    "* 連桿3為上半身軀幹\n",
    "* 連桿4為擺盪腳大腿\n",
    "* 連桿5為擺盪腳小腿\n",
    "\n",
    "其後以連桿編號定義scalar參數\n",
    "* 連桿1質量:$m_1$, 連桿2質量:$m_2$, 連桿3質量$m_3$, 連桿4質量:$m_4$, 連桿5質量:$m_5$\n",
    "* 連桿1轉動貫量:$I_1$, 連桿2轉動貫量:$I_2$, 連桿3轉動貫量$I_3$, 連桿4轉動貫量:$I_4$, 連桿5轉動貫量:$I_5$\n",
    "* 連桿1長度:$l_1$, 連桿2長度:$l_2$, 連桿3長度:$l_3$, 連桿4長度:$l_4$, 連桿5長度:$l_5$\n",
    "* 觸地點至連桿1質心長度:$l_{c1}$ \n",
    "* 連桿1 & 2接點至連桿2質心長度:$l_{c2}$\n",
    "* 連桿2 & 3接點至連桿3質心長度:$l_{c3}$\n",
    "* 連桿2 & 4接點至連桿4質心長度:$l_{c4}$\n",
    "* 連桿4 & 5接點至連桿5質心長度:$l_{c5}$\n",
    "\n",
    "定義$\\theta$角度、角速度、角加速度\n",
    "* 連桿$i$與$z$軸之夾角為$\\theta_i$\n",
    "* 連桿$i$之角速度為$\\dot{\\theta}_i$\n",
    "* 連桿$i$之角加速度為$\\ddot{\\theta}_i$"
   ]
  },
  {
   "cell_type": "code",
   "execution_count": 3,
   "id": "2ca13e20",
   "metadata": {},
   "outputs": [],
   "source": [
    "# define scalars\n",
    "t, g = symbols('t g') # time, gravity\n",
    "m1, m2, m3, m4, m5 = symbols('m_1 m_2 m_3 m_4 m_5')\n",
    "l1, l2, l3, l4, l5 = symbols('l_1 l_2 l_3 l_4 l_5')\n",
    "lc1, lc2, lc3, lc4, lc5 = symbols('lc_1 lc_2 lc_3 lc_4 lc_5') \n",
    "I1, I2, I3, I4, I5 = symbols('I_1  I_2  I_3  I_4  I_5')"
   ]
  },
  {
   "cell_type": "markdown",
   "id": "765a7151",
   "metadata": {},
   "source": [
    "座標定義: 向右為+x, 向上為+z, 入射紙面為+y\n",
    "$$\\hat{z} \\times \\hat{x} = \\hat{y}$$"
   ]
  },
  {
   "cell_type": "markdown",
   "id": "a78c2ee1",
   "metadata": {},
   "source": [
    "<img src=\"figures/Ajayi_Model_new.png\" alt=\"Drawing\" style=\"width: 400px;\"/>"
   ]
  },
  {
   "cell_type": "markdown",
   "id": "6b131907",
   "metadata": {},
   "source": [
    "定義連桿1~5的質心位移向量$\\vec{r}_i$\n",
    "\n",
    "$$\n",
    "\\begin{align}\n",
    "&\\vec{r}_1 = \n",
    "\\begin{bmatrix}\n",
    "l_{c1} \\sin(\\theta_1)  \\\\\n",
    "0 \\\\\n",
    "l_{c1} \\cos(\\theta_1) \n",
    "\\end{bmatrix} \\\\[0.5em]\n",
    "&\\vec{r}_2 = \n",
    "\\begin{bmatrix}\n",
    "l_{1} \\sin(\\theta_1) + l_{c2} \\sin(\\theta_2) \\\\\n",
    "0 \\\\\n",
    "l_{1} \\cos(\\theta_1) + l_{c2} \\cos(\\theta_2) \n",
    "\\end{bmatrix} \\\\[0.5em]\n",
    "&\\vec{r}_3 = \n",
    "\\begin{bmatrix}\n",
    "l_{1} \\sin(\\theta_1) + l_{2} \\sin(\\theta_2) + l_{c3} \\sin(\\theta_3) \\\\\n",
    "0 \\\\\n",
    "l_{1} \\cos(\\theta_1) + l_{2} \\cos(\\theta_2) + l_{c3} \\sin(\\theta_3)\n",
    "\\end{bmatrix} \\\\[0.5em]\n",
    "&\\vec{r}_4 = \n",
    "\\begin{bmatrix}\n",
    "l_{1} \\sin(\\theta_1) + l_{2} \\sin(\\theta_2) + (l_4 - l_{c4}) \\sin(\\theta_4) \\\\\n",
    "0 \\\\\n",
    "l_{1} \\cos(\\theta_1) + l_{2} \\cos(\\theta_2) - (l_4 - l_{c4}) \\cos(\\theta_4)\n",
    "\\end{bmatrix} \\\\[0.5em]\n",
    "&\\vec{r}_5 = \n",
    "\\begin{bmatrix}\n",
    "l_{1} \\sin(\\theta_1) + l_{2} \\sin(\\theta_2) + l_4 \\sin(\\theta_4) + (l_5 - l_{c5}) \\sin(\\theta_4)\\\\\n",
    "0 \\\\\n",
    "l_{1} \\cos(\\theta_1) + l_{2} \\cos(\\theta_2) - l_4 \\cos(\\theta_4) - (l_5 - l_{c5}) \\cos(\\theta_4)\n",
    "\\end{bmatrix}\n",
    "\\end{align}\n",
    "$$"
   ]
  },
  {
   "cell_type": "code",
   "execution_count": 4,
   "id": "d40f44f6",
   "metadata": {},
   "outputs": [],
   "source": [
    "xc1 = lc1*sin(th1_d0)\n",
    "zc1 = lc1*cos(th1_d0)\n",
    "\n",
    "xc2 = l1*sin(th1_d0) + lc2*sin(th2_d0)\n",
    "zc2 = l1*cos(th1_d0) + lc2*cos(th2_d0)\n",
    "\n",
    "xc3 = l1*sin(th1_d0) + l2*sin(th2_d0) + lc3*sin(th3_d0)\n",
    "zc3 = l1*cos(th1_d0) + l2*cos(th2_d0) + lc3*cos(th3_d0)\n",
    "\n",
    "xc4 = l1*sin(th1_d0) + l2*sin(th2_d0) + (l4-lc4)*sin(th4_d0)\n",
    "zc4 = l1*cos(th1_d0) + l2*cos(th2_d0) - (l4-lc4)*cos(th4_d0)\n",
    "\n",
    "xc5 = l1*sin(th1_d0) + l2*sin(th2_d0) + l4*sin(th4_d0) + (l5-lc5)*sin(th5_d0)\n",
    "zc5 = l1*cos(th1_d0) + l2*cos(th2_d0) - l4*cos(th4_d0) - (l5-lc5)*cos(th5_d0)"
   ]
  },
  {
   "cell_type": "markdown",
   "id": "ae390159",
   "metadata": {},
   "source": [
    "$$\\begin{align*}\n",
    "&\\vec{v}_1 = \n",
    "\\begin{bmatrix}\n",
    "l_{c1} \\dot{\\theta}_1 \\cos(\\theta_1)  \\\\\n",
    "0 \\\\\n",
    "-l_{c1} \\dot{\\theta}_1 \\sin(\\theta_1) \n",
    "\\end{bmatrix} \\\\[0.5em]\n",
    "&\\vec{v}_2 = \n",
    "\\begin{bmatrix}\n",
    "l_{1} \\dot{\\theta}_1 \\cos(\\theta_1) + l_{c2} \\dot{\\theta}_2 \\cos(\\theta_2) \\\\\n",
    "0 \\\\\n",
    "-l_{1} \\dot{\\theta}_1 \\sin(\\theta_1) - l_{c2} \\dot{\\theta}_2 \\sin(\\theta_2) \n",
    "\\end{bmatrix} \\\\[0.5em]\n",
    "&\\vec{v}_3 = \n",
    "\\begin{bmatrix}\n",
    "l_{1} \\dot{\\theta}_1 \\cos(\\theta_1) + l_{2} \\dot{\\theta}_2 \\cos(\\theta_2) + l_{c3} \\dot{\\theta}_3 \\cos(\\theta_3) \\\\\n",
    "0 \\\\\n",
    "-l_{1} \\dot{\\theta}_1 \\sin(\\theta_1) - l_{2} \\dot{\\theta}_2 \\sin(\\theta_2) - l_{c3} \\dot{\\theta}_3 \\sin(\\theta_3)\n",
    "\\end{bmatrix} \\\\[0.5em]\n",
    "&\\vec{v}_4 = \n",
    "\\begin{bmatrix}\n",
    "l_{1} \\dot{\\theta}_1 \\cos(\\theta_1) + l_{2} \\dot{\\theta}_2 \\cos(\\theta_2) + (l_4 - l_{c4}) \\dot{\\theta}_4 \\cos(\\theta_4) \\\\\n",
    "0 \\\\\n",
    "-l_{1} \\dot{\\theta}_1 \\sin(\\theta_1) - l_{2} \\dot{\\theta}_2 \\sin(\\theta_2) + (l_4 - l_{c4}) \\dot{\\theta}_4 \\sin(\\theta_4)\n",
    "\\end{bmatrix} \\\\[0.5em]\n",
    "&\\vec{v}_5 = \n",
    "\\begin{bmatrix}\n",
    "l_{1} \\dot{\\theta}_1 \\cos(\\theta_1) + l_{2} \\dot{\\theta}_2 \\cos(\\theta_2) + l_4 \\dot{\\theta}_4 \\cos(\\theta_4) + (l_5 - l_{c5}) \\dot{\\theta}_5 \\cos(\\theta_5)\\\\\n",
    "0 \\\\\n",
    "-l_{1} \\dot{\\theta}_1 \\sin(\\theta_1) - l_{2} \\dot{\\theta}_2 \\sin(\\theta_2) + l_4 \\dot{\\theta}_4 \\sin(\\theta_4) - (l_5 - l_{c5}) \\dot{\\theta}_5 \\sin(\\theta_5)\n",
    "\\end{bmatrix}\n",
    "\\end{align*}\n",
    "$$"
   ]
  },
  {
   "cell_type": "code",
   "execution_count": 5,
   "id": "8ad5beef",
   "metadata": {},
   "outputs": [],
   "source": [
    "vc1 = diff(Matrix([[xc1],[0],[zc1]]),t)\n",
    "vc2 = diff(Matrix([[xc2],[0],[zc2]]),t)\n",
    "vc3 = diff(Matrix([[xc3],[0],[zc3]]),t)\n",
    "vc4 = diff(Matrix([[xc4],[0],[zc4]]),t)\n",
    "vc5 = diff(Matrix([[xc5],[0],[zc5]]),t)"
   ]
  },
  {
   "cell_type": "code",
   "execution_count": 6,
   "id": "e306a649",
   "metadata": {},
   "outputs": [
    {
     "data": {
      "text/latex": [
       "$\\displaystyle \\left[\\begin{matrix}lc_{1} \\cos{\\left(\\theta_{1}{\\left(t \\right)} \\right)} \\frac{d}{d t} \\theta_{1}{\\left(t \\right)}\\\\0\\\\- lc_{1} \\sin{\\left(\\theta_{1}{\\left(t \\right)} \\right)} \\frac{d}{d t} \\theta_{1}{\\left(t \\right)}\\end{matrix}\\right]$"
      ],
      "text/plain": [
       "Matrix([\n",
       "[ lc_1*cos(theta1(t))*Derivative(theta1(t), t)],\n",
       "[                                            0],\n",
       "[-lc_1*sin(theta1(t))*Derivative(theta1(t), t)]])"
      ]
     },
     "execution_count": 6,
     "metadata": {},
     "output_type": "execute_result"
    }
   ],
   "source": [
    "vc1"
   ]
  },
  {
   "cell_type": "code",
   "execution_count": 7,
   "id": "06d73f84",
   "metadata": {},
   "outputs": [
    {
     "data": {
      "text/latex": [
       "$\\displaystyle \\left[\\begin{matrix}l_{1} \\cos{\\left(\\theta_{1}{\\left(t \\right)} \\right)} \\frac{d}{d t} \\theta_{1}{\\left(t \\right)} + lc_{2} \\cos{\\left(\\theta_{2}{\\left(t \\right)} \\right)} \\frac{d}{d t} \\theta_{2}{\\left(t \\right)}\\\\0\\\\- l_{1} \\sin{\\left(\\theta_{1}{\\left(t \\right)} \\right)} \\frac{d}{d t} \\theta_{1}{\\left(t \\right)} - lc_{2} \\sin{\\left(\\theta_{2}{\\left(t \\right)} \\right)} \\frac{d}{d t} \\theta_{2}{\\left(t \\right)}\\end{matrix}\\right]$"
      ],
      "text/plain": [
       "Matrix([\n",
       "[ l_1*cos(theta1(t))*Derivative(theta1(t), t) + lc_2*cos(theta2(t))*Derivative(theta2(t), t)],\n",
       "[                                                                                          0],\n",
       "[-l_1*sin(theta1(t))*Derivative(theta1(t), t) - lc_2*sin(theta2(t))*Derivative(theta2(t), t)]])"
      ]
     },
     "execution_count": 7,
     "metadata": {},
     "output_type": "execute_result"
    }
   ],
   "source": [
    "vc2"
   ]
  },
  {
   "cell_type": "markdown",
   "id": "52b03163",
   "metadata": {},
   "source": [
    "## Kinetic Energy K"
   ]
  },
  {
   "cell_type": "code",
   "execution_count": 8,
   "id": "dacd5605",
   "metadata": {},
   "outputs": [],
   "source": [
    "# Translational kinetic energy\n",
    "K_stand_shank = m1*vc1.T.dot(vc1)/2\n",
    "K_stand_thigh = m2*vc2.T.dot(vc2)/2\n",
    "K_body        = m3*vc3.T.dot(vc3)/2\n",
    "K_swing_thigh = m4*vc4.T.dot(vc4)/2\n",
    "K_swing_shank = m5*vc5.T.dot(vc5)/2\n",
    "\n",
    "# Rotational kinetic energy\n",
    "K_rotation = I1*th1_d1**2/2 + I2*th2_d1**2/2 + I3*th3_d1**2/2 + I4*th4_d1**2/2 + I5*th5_d1**2/2\n",
    "\n",
    "# Total kinetic energy\n",
    "K_total = K_stand_shank+K_stand_thigh+K_body+K_swing_thigh+K_swing_shank+K_rotation"
   ]
  },
  {
   "cell_type": "code",
   "execution_count": 77,
   "id": "792ac5f1",
   "metadata": {},
   "outputs": [
    {
     "data": {
      "text/latex": [
       "$\\displaystyle \\frac{m_{5} \\left(\\left(l_{1} \\sin{\\left(\\theta_{1}{\\left(t \\right)} \\right)} \\frac{d}{d t} \\theta_{1}{\\left(t \\right)} + l_{2} \\sin{\\left(\\theta_{2}{\\left(t \\right)} \\right)} \\frac{d}{d t} \\theta_{2}{\\left(t \\right)} - l_{4} \\sin{\\left(\\theta_{4}{\\left(t \\right)} \\right)} \\frac{d}{d t} \\theta_{4}{\\left(t \\right)} - \\left(l_{5} - lc_{5}\\right) \\sin{\\left(\\theta_{5}{\\left(t \\right)} \\right)} \\frac{d}{d t} \\theta_{5}{\\left(t \\right)}\\right)^{2} + \\left(l_{1} \\cos{\\left(\\theta_{1}{\\left(t \\right)} \\right)} \\frac{d}{d t} \\theta_{1}{\\left(t \\right)} + l_{2} \\cos{\\left(\\theta_{2}{\\left(t \\right)} \\right)} \\frac{d}{d t} \\theta_{2}{\\left(t \\right)} + l_{4} \\cos{\\left(\\theta_{4}{\\left(t \\right)} \\right)} \\frac{d}{d t} \\theta_{4}{\\left(t \\right)} + \\left(l_{5} - lc_{5}\\right) \\cos{\\left(\\theta_{5}{\\left(t \\right)} \\right)} \\frac{d}{d t} \\theta_{5}{\\left(t \\right)}\\right)^{2}\\right)}{2}$"
      ],
      "text/plain": [
       "m_5*((l_1*sin(theta1(t))*Derivative(theta1(t), t) + l_2*sin(theta2(t))*Derivative(theta2(t), t) - l_4*sin(theta4(t))*Derivative(theta4(t), t) - (l_5 - lc_5)*sin(theta5(t))*Derivative(theta5(t), t))**2 + (l_1*cos(theta1(t))*Derivative(theta1(t), t) + l_2*cos(theta2(t))*Derivative(theta2(t), t) + l_4*cos(theta4(t))*Derivative(theta4(t), t) + (l_5 - lc_5)*cos(theta5(t))*Derivative(theta5(t), t))**2)/2"
      ]
     },
     "execution_count": 77,
     "metadata": {},
     "output_type": "execute_result"
    }
   ],
   "source": [
    "simplify(K_swing_shank)"
   ]
  },
  {
   "cell_type": "code",
   "execution_count": 10,
   "id": "6c5ded26",
   "metadata": {},
   "outputs": [
    {
     "data": {
      "text/latex": [
       "$\\displaystyle \\frac{I_{1} \\left(\\frac{d}{d t} \\theta_{1}{\\left(t \\right)}\\right)^{2}}{2} + \\frac{I_{2} \\left(\\frac{d}{d t} \\theta_{2}{\\left(t \\right)}\\right)^{2}}{2} + \\frac{I_{3} \\left(\\frac{d}{d t} \\theta_{3}{\\left(t \\right)}\\right)^{2}}{2} + \\frac{I_{4} \\left(\\frac{d}{d t} \\theta_{4}{\\left(t \\right)}\\right)^{2}}{2} + \\frac{I_{5} \\left(\\frac{d}{d t} \\theta_{5}{\\left(t \\right)}\\right)^{2}}{2}$"
      ],
      "text/plain": [
       "I_1*Derivative(theta1(t), t)**2/2 + I_2*Derivative(theta2(t), t)**2/2 + I_3*Derivative(theta3(t), t)**2/2 + I_4*Derivative(theta4(t), t)**2/2 + I_5*Derivative(theta5(t), t)**2/2"
      ]
     },
     "execution_count": 10,
     "metadata": {},
     "output_type": "execute_result"
    }
   ],
   "source": [
    "K_rotation"
   ]
  },
  {
   "cell_type": "markdown",
   "id": "2c97e2b4",
   "metadata": {},
   "source": [
    "## Potential Energy U"
   ]
  },
  {
   "cell_type": "code",
   "execution_count": 12,
   "id": "9e4b4702",
   "metadata": {},
   "outputs": [],
   "source": [
    "U_stand_shank = m1*g*zc1\n",
    "U_stand_thigh = m2*g*zc2\n",
    "U_body        = m3*g*zc3\n",
    "U_swing_thigh = m4*g*zc4\n",
    "U_swing_shank = m5*g*zc5\n",
    "\n",
    "U_total = U_stand_shank+U_stand_thigh+U_body+U_swing_thigh+U_swing_shank"
   ]
  },
  {
   "cell_type": "code",
   "execution_count": 78,
   "id": "262a3d78",
   "metadata": {},
   "outputs": [
    {
     "data": {
      "text/latex": [
       "$\\displaystyle g lc_{1} m_{1} \\cos{\\left(\\theta_{1}{\\left(t \\right)} \\right)}$"
      ],
      "text/plain": [
       "g*lc_1*m_1*cos(theta1(t))"
      ]
     },
     "execution_count": 78,
     "metadata": {},
     "output_type": "execute_result"
    }
   ],
   "source": [
    "U_stand_shank"
   ]
  },
  {
   "cell_type": "markdown",
   "id": "56b08e43",
   "metadata": {},
   "source": [
    "## Lagrangian"
   ]
  },
  {
   "cell_type": "code",
   "execution_count": 13,
   "id": "3ab3193e",
   "metadata": {},
   "outputs": [],
   "source": [
    "system_L = K_total - U_total"
   ]
  },
  {
   "cell_type": "markdown",
   "id": "0bd17c15",
   "metadata": {},
   "source": [
    "## Calculate EoM"
   ]
  },
  {
   "cell_type": "code",
   "execution_count": 14,
   "id": "63c44888",
   "metadata": {},
   "outputs": [],
   "source": [
    "from sympy.physics.mechanics import LagrangesMethod, Lagrangian\n",
    "\n",
    "system_LM = LagrangesMethod(system_L, [th1_d0, th2_d0, th3_d0, th4_d0, th5_d0])\n",
    "system_EoM = system_LM.form_lagranges_equations()"
   ]
  },
  {
   "cell_type": "markdown",
   "id": "6f2a9ddd",
   "metadata": {},
   "source": [
    "$$\\frac{d}{dt} \\frac{\\partial L}{\\partial \\dot{\\theta}_i} - \\frac{\\partial L}{\\partial \\theta_i}=0,~~i=1,2,3,4,5$$"
   ]
  },
  {
   "cell_type": "code",
   "execution_count": 15,
   "id": "d23ab7d5",
   "metadata": {},
   "outputs": [
    {
     "data": {
      "text/latex": [
       "$\\displaystyle I_{1} \\frac{d^{2}}{d t^{2}} \\theta_{1}{\\left(t \\right)} - g l_{1} m_{2} \\sin{\\left(\\theta_{1}{\\left(t \\right)} \\right)} - g l_{1} m_{3} \\sin{\\left(\\theta_{1}{\\left(t \\right)} \\right)} - g l_{1} m_{4} \\sin{\\left(\\theta_{1}{\\left(t \\right)} \\right)} - g l_{1} m_{5} \\sin{\\left(\\theta_{1}{\\left(t \\right)} \\right)} - g lc_{1} m_{1} \\sin{\\left(\\theta_{1}{\\left(t \\right)} \\right)} + l_{1}^{2} m_{2} \\frac{d^{2}}{d t^{2}} \\theta_{1}{\\left(t \\right)} + l_{1}^{2} m_{3} \\frac{d^{2}}{d t^{2}} \\theta_{1}{\\left(t \\right)} + l_{1}^{2} m_{4} \\frac{d^{2}}{d t^{2}} \\theta_{1}{\\left(t \\right)} + l_{1}^{2} m_{5} \\frac{d^{2}}{d t^{2}} \\theta_{1}{\\left(t \\right)} + l_{1} l_{2} m_{3} \\sin{\\left(\\theta_{1}{\\left(t \\right)} - \\theta_{2}{\\left(t \\right)} \\right)} \\left(\\frac{d}{d t} \\theta_{2}{\\left(t \\right)}\\right)^{2} + l_{1} l_{2} m_{3} \\cos{\\left(\\theta_{1}{\\left(t \\right)} - \\theta_{2}{\\left(t \\right)} \\right)} \\frac{d^{2}}{d t^{2}} \\theta_{2}{\\left(t \\right)} + l_{1} l_{2} m_{4} \\sin{\\left(\\theta_{1}{\\left(t \\right)} - \\theta_{2}{\\left(t \\right)} \\right)} \\left(\\frac{d}{d t} \\theta_{2}{\\left(t \\right)}\\right)^{2} + l_{1} l_{2} m_{4} \\cos{\\left(\\theta_{1}{\\left(t \\right)} - \\theta_{2}{\\left(t \\right)} \\right)} \\frac{d^{2}}{d t^{2}} \\theta_{2}{\\left(t \\right)} + l_{1} l_{2} m_{5} \\sin{\\left(\\theta_{1}{\\left(t \\right)} - \\theta_{2}{\\left(t \\right)} \\right)} \\left(\\frac{d}{d t} \\theta_{2}{\\left(t \\right)}\\right)^{2} + l_{1} l_{2} m_{5} \\cos{\\left(\\theta_{1}{\\left(t \\right)} - \\theta_{2}{\\left(t \\right)} \\right)} \\frac{d^{2}}{d t^{2}} \\theta_{2}{\\left(t \\right)} - l_{1} l_{4} m_{4} \\sin{\\left(\\theta_{1}{\\left(t \\right)} + \\theta_{4}{\\left(t \\right)} \\right)} \\left(\\frac{d}{d t} \\theta_{4}{\\left(t \\right)}\\right)^{2} + l_{1} l_{4} m_{4} \\cos{\\left(\\theta_{1}{\\left(t \\right)} + \\theta_{4}{\\left(t \\right)} \\right)} \\frac{d^{2}}{d t^{2}} \\theta_{4}{\\left(t \\right)} - l_{1} l_{4} m_{5} \\sin{\\left(\\theta_{1}{\\left(t \\right)} + \\theta_{4}{\\left(t \\right)} \\right)} \\left(\\frac{d}{d t} \\theta_{4}{\\left(t \\right)}\\right)^{2} + l_{1} l_{4} m_{5} \\cos{\\left(\\theta_{1}{\\left(t \\right)} + \\theta_{4}{\\left(t \\right)} \\right)} \\frac{d^{2}}{d t^{2}} \\theta_{4}{\\left(t \\right)} - l_{1} l_{5} m_{5} \\sin{\\left(\\theta_{1}{\\left(t \\right)} + \\theta_{5}{\\left(t \\right)} \\right)} \\left(\\frac{d}{d t} \\theta_{5}{\\left(t \\right)}\\right)^{2} + l_{1} l_{5} m_{5} \\cos{\\left(\\theta_{1}{\\left(t \\right)} + \\theta_{5}{\\left(t \\right)} \\right)} \\frac{d^{2}}{d t^{2}} \\theta_{5}{\\left(t \\right)} + l_{1} lc_{2} m_{2} \\sin{\\left(\\theta_{1}{\\left(t \\right)} - \\theta_{2}{\\left(t \\right)} \\right)} \\left(\\frac{d}{d t} \\theta_{2}{\\left(t \\right)}\\right)^{2} + l_{1} lc_{2} m_{2} \\cos{\\left(\\theta_{1}{\\left(t \\right)} - \\theta_{2}{\\left(t \\right)} \\right)} \\frac{d^{2}}{d t^{2}} \\theta_{2}{\\left(t \\right)} + l_{1} lc_{3} m_{3} \\sin{\\left(\\theta_{1}{\\left(t \\right)} - \\theta_{3}{\\left(t \\right)} \\right)} \\left(\\frac{d}{d t} \\theta_{3}{\\left(t \\right)}\\right)^{2} + l_{1} lc_{3} m_{3} \\cos{\\left(\\theta_{1}{\\left(t \\right)} - \\theta_{3}{\\left(t \\right)} \\right)} \\frac{d^{2}}{d t^{2}} \\theta_{3}{\\left(t \\right)} + l_{1} lc_{4} m_{4} \\sin{\\left(\\theta_{1}{\\left(t \\right)} + \\theta_{4}{\\left(t \\right)} \\right)} \\left(\\frac{d}{d t} \\theta_{4}{\\left(t \\right)}\\right)^{2} - l_{1} lc_{4} m_{4} \\cos{\\left(\\theta_{1}{\\left(t \\right)} + \\theta_{4}{\\left(t \\right)} \\right)} \\frac{d^{2}}{d t^{2}} \\theta_{4}{\\left(t \\right)} + l_{1} lc_{5} m_{5} \\sin{\\left(\\theta_{1}{\\left(t \\right)} + \\theta_{5}{\\left(t \\right)} \\right)} \\left(\\frac{d}{d t} \\theta_{5}{\\left(t \\right)}\\right)^{2} - l_{1} lc_{5} m_{5} \\cos{\\left(\\theta_{1}{\\left(t \\right)} + \\theta_{5}{\\left(t \\right)} \\right)} \\frac{d^{2}}{d t^{2}} \\theta_{5}{\\left(t \\right)} + lc_{1}^{2} m_{1} \\frac{d^{2}}{d t^{2}} \\theta_{1}{\\left(t \\right)}$"
      ],
      "text/plain": [
       "I_1*Derivative(theta1(t), (t, 2)) - g*l_1*m_2*sin(theta1(t)) - g*l_1*m_3*sin(theta1(t)) - g*l_1*m_4*sin(theta1(t)) - g*l_1*m_5*sin(theta1(t)) - g*lc_1*m_1*sin(theta1(t)) + l_1**2*m_2*Derivative(theta1(t), (t, 2)) + l_1**2*m_3*Derivative(theta1(t), (t, 2)) + l_1**2*m_4*Derivative(theta1(t), (t, 2)) + l_1**2*m_5*Derivative(theta1(t), (t, 2)) + l_1*l_2*m_3*sin(theta1(t) - theta2(t))*Derivative(theta2(t), t)**2 + l_1*l_2*m_3*cos(theta1(t) - theta2(t))*Derivative(theta2(t), (t, 2)) + l_1*l_2*m_4*sin(theta1(t) - theta2(t))*Derivative(theta2(t), t)**2 + l_1*l_2*m_4*cos(theta1(t) - theta2(t))*Derivative(theta2(t), (t, 2)) + l_1*l_2*m_5*sin(theta1(t) - theta2(t))*Derivative(theta2(t), t)**2 + l_1*l_2*m_5*cos(theta1(t) - theta2(t))*Derivative(theta2(t), (t, 2)) - l_1*l_4*m_4*sin(theta1(t) + theta4(t))*Derivative(theta4(t), t)**2 + l_1*l_4*m_4*cos(theta1(t) + theta4(t))*Derivative(theta4(t), (t, 2)) - l_1*l_4*m_5*sin(theta1(t) + theta4(t))*Derivative(theta4(t), t)**2 + l_1*l_4*m_5*cos(theta1(t) + theta4(t))*Derivative(theta4(t), (t, 2)) - l_1*l_5*m_5*sin(theta1(t) + theta5(t))*Derivative(theta5(t), t)**2 + l_1*l_5*m_5*cos(theta1(t) + theta5(t))*Derivative(theta5(t), (t, 2)) + l_1*lc_2*m_2*sin(theta1(t) - theta2(t))*Derivative(theta2(t), t)**2 + l_1*lc_2*m_2*cos(theta1(t) - theta2(t))*Derivative(theta2(t), (t, 2)) + l_1*lc_3*m_3*sin(theta1(t) - theta3(t))*Derivative(theta3(t), t)**2 + l_1*lc_3*m_3*cos(theta1(t) - theta3(t))*Derivative(theta3(t), (t, 2)) + l_1*lc_4*m_4*sin(theta1(t) + theta4(t))*Derivative(theta4(t), t)**2 - l_1*lc_4*m_4*cos(theta1(t) + theta4(t))*Derivative(theta4(t), (t, 2)) + l_1*lc_5*m_5*sin(theta1(t) + theta5(t))*Derivative(theta5(t), t)**2 - l_1*lc_5*m_5*cos(theta1(t) + theta5(t))*Derivative(theta5(t), (t, 2)) + lc_1**2*m_1*Derivative(theta1(t), (t, 2))"
      ]
     },
     "execution_count": 15,
     "metadata": {},
     "output_type": "execute_result"
    }
   ],
   "source": [
    "simplify(system_EoM[0])"
   ]
  },
  {
   "cell_type": "markdown",
   "id": "ce520fcb",
   "metadata": {},
   "source": [
    "$$\\frac{d}{dt} \\frac{\\partial L}{\\partial \\dot{\\theta}_2} - \\frac{\\partial L}{\\partial \\theta_2}=0$$"
   ]
  },
  {
   "cell_type": "code",
   "execution_count": 16,
   "id": "6dabcee6",
   "metadata": {},
   "outputs": [
    {
     "data": {
      "text/latex": [
       "$\\displaystyle I_{2} \\frac{d^{2}}{d t^{2}} \\theta_{2}{\\left(t \\right)} - g l_{2} m_{3} \\sin{\\left(\\theta_{2}{\\left(t \\right)} \\right)} - g l_{2} m_{4} \\sin{\\left(\\theta_{2}{\\left(t \\right)} \\right)} - g l_{2} m_{5} \\sin{\\left(\\theta_{2}{\\left(t \\right)} \\right)} - g lc_{2} m_{2} \\sin{\\left(\\theta_{2}{\\left(t \\right)} \\right)} - l_{1} l_{2} m_{3} \\sin{\\left(\\theta_{1}{\\left(t \\right)} - \\theta_{2}{\\left(t \\right)} \\right)} \\left(\\frac{d}{d t} \\theta_{1}{\\left(t \\right)}\\right)^{2} + l_{1} l_{2} m_{3} \\cos{\\left(\\theta_{1}{\\left(t \\right)} - \\theta_{2}{\\left(t \\right)} \\right)} \\frac{d^{2}}{d t^{2}} \\theta_{1}{\\left(t \\right)} - l_{1} l_{2} m_{4} \\sin{\\left(\\theta_{1}{\\left(t \\right)} - \\theta_{2}{\\left(t \\right)} \\right)} \\left(\\frac{d}{d t} \\theta_{1}{\\left(t \\right)}\\right)^{2} + l_{1} l_{2} m_{4} \\cos{\\left(\\theta_{1}{\\left(t \\right)} - \\theta_{2}{\\left(t \\right)} \\right)} \\frac{d^{2}}{d t^{2}} \\theta_{1}{\\left(t \\right)} - l_{1} l_{2} m_{5} \\sin{\\left(\\theta_{1}{\\left(t \\right)} - \\theta_{2}{\\left(t \\right)} \\right)} \\left(\\frac{d}{d t} \\theta_{1}{\\left(t \\right)}\\right)^{2} + l_{1} l_{2} m_{5} \\cos{\\left(\\theta_{1}{\\left(t \\right)} - \\theta_{2}{\\left(t \\right)} \\right)} \\frac{d^{2}}{d t^{2}} \\theta_{1}{\\left(t \\right)} - l_{1} lc_{2} m_{2} \\sin{\\left(\\theta_{1}{\\left(t \\right)} - \\theta_{2}{\\left(t \\right)} \\right)} \\left(\\frac{d}{d t} \\theta_{1}{\\left(t \\right)}\\right)^{2} + l_{1} lc_{2} m_{2} \\cos{\\left(\\theta_{1}{\\left(t \\right)} - \\theta_{2}{\\left(t \\right)} \\right)} \\frac{d^{2}}{d t^{2}} \\theta_{1}{\\left(t \\right)} + l_{2}^{2} m_{3} \\frac{d^{2}}{d t^{2}} \\theta_{2}{\\left(t \\right)} + l_{2}^{2} m_{4} \\frac{d^{2}}{d t^{2}} \\theta_{2}{\\left(t \\right)} + l_{2}^{2} m_{5} \\frac{d^{2}}{d t^{2}} \\theta_{2}{\\left(t \\right)} - l_{2} l_{4} m_{4} \\sin{\\left(\\theta_{2}{\\left(t \\right)} + \\theta_{4}{\\left(t \\right)} \\right)} \\left(\\frac{d}{d t} \\theta_{4}{\\left(t \\right)}\\right)^{2} + l_{2} l_{4} m_{4} \\cos{\\left(\\theta_{2}{\\left(t \\right)} + \\theta_{4}{\\left(t \\right)} \\right)} \\frac{d^{2}}{d t^{2}} \\theta_{4}{\\left(t \\right)} - l_{2} l_{4} m_{5} \\sin{\\left(\\theta_{2}{\\left(t \\right)} + \\theta_{4}{\\left(t \\right)} \\right)} \\left(\\frac{d}{d t} \\theta_{4}{\\left(t \\right)}\\right)^{2} + l_{2} l_{4} m_{5} \\cos{\\left(\\theta_{2}{\\left(t \\right)} + \\theta_{4}{\\left(t \\right)} \\right)} \\frac{d^{2}}{d t^{2}} \\theta_{4}{\\left(t \\right)} - l_{2} l_{5} m_{5} \\sin{\\left(\\theta_{2}{\\left(t \\right)} + \\theta_{5}{\\left(t \\right)} \\right)} \\left(\\frac{d}{d t} \\theta_{5}{\\left(t \\right)}\\right)^{2} + l_{2} l_{5} m_{5} \\cos{\\left(\\theta_{2}{\\left(t \\right)} + \\theta_{5}{\\left(t \\right)} \\right)} \\frac{d^{2}}{d t^{2}} \\theta_{5}{\\left(t \\right)} + l_{2} lc_{3} m_{3} \\sin{\\left(\\theta_{2}{\\left(t \\right)} - \\theta_{3}{\\left(t \\right)} \\right)} \\left(\\frac{d}{d t} \\theta_{3}{\\left(t \\right)}\\right)^{2} + l_{2} lc_{3} m_{3} \\cos{\\left(\\theta_{2}{\\left(t \\right)} - \\theta_{3}{\\left(t \\right)} \\right)} \\frac{d^{2}}{d t^{2}} \\theta_{3}{\\left(t \\right)} + l_{2} lc_{4} m_{4} \\sin{\\left(\\theta_{2}{\\left(t \\right)} + \\theta_{4}{\\left(t \\right)} \\right)} \\left(\\frac{d}{d t} \\theta_{4}{\\left(t \\right)}\\right)^{2} - l_{2} lc_{4} m_{4} \\cos{\\left(\\theta_{2}{\\left(t \\right)} + \\theta_{4}{\\left(t \\right)} \\right)} \\frac{d^{2}}{d t^{2}} \\theta_{4}{\\left(t \\right)} + l_{2} lc_{5} m_{5} \\sin{\\left(\\theta_{2}{\\left(t \\right)} + \\theta_{5}{\\left(t \\right)} \\right)} \\left(\\frac{d}{d t} \\theta_{5}{\\left(t \\right)}\\right)^{2} - l_{2} lc_{5} m_{5} \\cos{\\left(\\theta_{2}{\\left(t \\right)} + \\theta_{5}{\\left(t \\right)} \\right)} \\frac{d^{2}}{d t^{2}} \\theta_{5}{\\left(t \\right)} + lc_{2}^{2} m_{2} \\frac{d^{2}}{d t^{2}} \\theta_{2}{\\left(t \\right)}$"
      ],
      "text/plain": [
       "I_2*Derivative(theta2(t), (t, 2)) - g*l_2*m_3*sin(theta2(t)) - g*l_2*m_4*sin(theta2(t)) - g*l_2*m_5*sin(theta2(t)) - g*lc_2*m_2*sin(theta2(t)) - l_1*l_2*m_3*sin(theta1(t) - theta2(t))*Derivative(theta1(t), t)**2 + l_1*l_2*m_3*cos(theta1(t) - theta2(t))*Derivative(theta1(t), (t, 2)) - l_1*l_2*m_4*sin(theta1(t) - theta2(t))*Derivative(theta1(t), t)**2 + l_1*l_2*m_4*cos(theta1(t) - theta2(t))*Derivative(theta1(t), (t, 2)) - l_1*l_2*m_5*sin(theta1(t) - theta2(t))*Derivative(theta1(t), t)**2 + l_1*l_2*m_5*cos(theta1(t) - theta2(t))*Derivative(theta1(t), (t, 2)) - l_1*lc_2*m_2*sin(theta1(t) - theta2(t))*Derivative(theta1(t), t)**2 + l_1*lc_2*m_2*cos(theta1(t) - theta2(t))*Derivative(theta1(t), (t, 2)) + l_2**2*m_3*Derivative(theta2(t), (t, 2)) + l_2**2*m_4*Derivative(theta2(t), (t, 2)) + l_2**2*m_5*Derivative(theta2(t), (t, 2)) - l_2*l_4*m_4*sin(theta2(t) + theta4(t))*Derivative(theta4(t), t)**2 + l_2*l_4*m_4*cos(theta2(t) + theta4(t))*Derivative(theta4(t), (t, 2)) - l_2*l_4*m_5*sin(theta2(t) + theta4(t))*Derivative(theta4(t), t)**2 + l_2*l_4*m_5*cos(theta2(t) + theta4(t))*Derivative(theta4(t), (t, 2)) - l_2*l_5*m_5*sin(theta2(t) + theta5(t))*Derivative(theta5(t), t)**2 + l_2*l_5*m_5*cos(theta2(t) + theta5(t))*Derivative(theta5(t), (t, 2)) + l_2*lc_3*m_3*sin(theta2(t) - theta3(t))*Derivative(theta3(t), t)**2 + l_2*lc_3*m_3*cos(theta2(t) - theta3(t))*Derivative(theta3(t), (t, 2)) + l_2*lc_4*m_4*sin(theta2(t) + theta4(t))*Derivative(theta4(t), t)**2 - l_2*lc_4*m_4*cos(theta2(t) + theta4(t))*Derivative(theta4(t), (t, 2)) + l_2*lc_5*m_5*sin(theta2(t) + theta5(t))*Derivative(theta5(t), t)**2 - l_2*lc_5*m_5*cos(theta2(t) + theta5(t))*Derivative(theta5(t), (t, 2)) + lc_2**2*m_2*Derivative(theta2(t), (t, 2))"
      ]
     },
     "execution_count": 16,
     "metadata": {},
     "output_type": "execute_result"
    }
   ],
   "source": [
    "simplify(system_EoM[1])"
   ]
  },
  {
   "cell_type": "markdown",
   "id": "bd5adcba",
   "metadata": {},
   "source": [
    "$$\\frac{d}{dt} \\frac{\\partial L}{\\partial \\dot{\\theta}_3} - \\frac{\\partial L}{\\partial \\theta_3}=0$$"
   ]
  },
  {
   "cell_type": "code",
   "execution_count": 17,
   "id": "e19a1c57",
   "metadata": {},
   "outputs": [
    {
     "data": {
      "text/latex": [
       "$\\displaystyle I_{3} \\frac{d^{2}}{d t^{2}} \\theta_{3}{\\left(t \\right)} - g lc_{3} m_{3} \\sin{\\left(\\theta_{3}{\\left(t \\right)} \\right)} - l_{1} lc_{3} m_{3} \\sin{\\left(\\theta_{1}{\\left(t \\right)} - \\theta_{3}{\\left(t \\right)} \\right)} \\left(\\frac{d}{d t} \\theta_{1}{\\left(t \\right)}\\right)^{2} + l_{1} lc_{3} m_{3} \\cos{\\left(\\theta_{1}{\\left(t \\right)} - \\theta_{3}{\\left(t \\right)} \\right)} \\frac{d^{2}}{d t^{2}} \\theta_{1}{\\left(t \\right)} - l_{2} lc_{3} m_{3} \\sin{\\left(\\theta_{2}{\\left(t \\right)} - \\theta_{3}{\\left(t \\right)} \\right)} \\left(\\frac{d}{d t} \\theta_{2}{\\left(t \\right)}\\right)^{2} + l_{2} lc_{3} m_{3} \\cos{\\left(\\theta_{2}{\\left(t \\right)} - \\theta_{3}{\\left(t \\right)} \\right)} \\frac{d^{2}}{d t^{2}} \\theta_{2}{\\left(t \\right)} + lc_{3}^{2} m_{3} \\frac{d^{2}}{d t^{2}} \\theta_{3}{\\left(t \\right)}$"
      ],
      "text/plain": [
       "I_3*Derivative(theta3(t), (t, 2)) - g*lc_3*m_3*sin(theta3(t)) - l_1*lc_3*m_3*sin(theta1(t) - theta3(t))*Derivative(theta1(t), t)**2 + l_1*lc_3*m_3*cos(theta1(t) - theta3(t))*Derivative(theta1(t), (t, 2)) - l_2*lc_3*m_3*sin(theta2(t) - theta3(t))*Derivative(theta2(t), t)**2 + l_2*lc_3*m_3*cos(theta2(t) - theta3(t))*Derivative(theta2(t), (t, 2)) + lc_3**2*m_3*Derivative(theta3(t), (t, 2))"
      ]
     },
     "execution_count": 17,
     "metadata": {},
     "output_type": "execute_result"
    }
   ],
   "source": [
    "simplify(system_EoM[2])"
   ]
  },
  {
   "cell_type": "markdown",
   "id": "20b63ff5",
   "metadata": {},
   "source": [
    "$$\\frac{d}{dt} \\frac{\\partial L}{\\partial \\dot{\\theta}_4} - \\frac{\\partial L}{\\partial \\theta_4}=0$$"
   ]
  },
  {
   "cell_type": "code",
   "execution_count": 18,
   "id": "06048f47",
   "metadata": {},
   "outputs": [
    {
     "data": {
      "text/latex": [
       "$\\displaystyle I_{4} \\frac{d^{2}}{d t^{2}} \\theta_{4}{\\left(t \\right)} + g l_{4} m_{4} \\sin{\\left(\\theta_{4}{\\left(t \\right)} \\right)} + g l_{4} m_{5} \\sin{\\left(\\theta_{4}{\\left(t \\right)} \\right)} - g lc_{4} m_{4} \\sin{\\left(\\theta_{4}{\\left(t \\right)} \\right)} - l_{1} l_{4} m_{4} \\sin{\\left(\\theta_{1}{\\left(t \\right)} + \\theta_{4}{\\left(t \\right)} \\right)} \\left(\\frac{d}{d t} \\theta_{1}{\\left(t \\right)}\\right)^{2} + l_{1} l_{4} m_{4} \\cos{\\left(\\theta_{1}{\\left(t \\right)} + \\theta_{4}{\\left(t \\right)} \\right)} \\frac{d^{2}}{d t^{2}} \\theta_{1}{\\left(t \\right)} - l_{1} l_{4} m_{5} \\sin{\\left(\\theta_{1}{\\left(t \\right)} + \\theta_{4}{\\left(t \\right)} \\right)} \\left(\\frac{d}{d t} \\theta_{1}{\\left(t \\right)}\\right)^{2} + l_{1} l_{4} m_{5} \\cos{\\left(\\theta_{1}{\\left(t \\right)} + \\theta_{4}{\\left(t \\right)} \\right)} \\frac{d^{2}}{d t^{2}} \\theta_{1}{\\left(t \\right)} + l_{1} lc_{4} m_{4} \\sin{\\left(\\theta_{1}{\\left(t \\right)} + \\theta_{4}{\\left(t \\right)} \\right)} \\left(\\frac{d}{d t} \\theta_{1}{\\left(t \\right)}\\right)^{2} - l_{1} lc_{4} m_{4} \\cos{\\left(\\theta_{1}{\\left(t \\right)} + \\theta_{4}{\\left(t \\right)} \\right)} \\frac{d^{2}}{d t^{2}} \\theta_{1}{\\left(t \\right)} - l_{2} l_{4} m_{4} \\sin{\\left(\\theta_{2}{\\left(t \\right)} + \\theta_{4}{\\left(t \\right)} \\right)} \\left(\\frac{d}{d t} \\theta_{2}{\\left(t \\right)}\\right)^{2} + l_{2} l_{4} m_{4} \\cos{\\left(\\theta_{2}{\\left(t \\right)} + \\theta_{4}{\\left(t \\right)} \\right)} \\frac{d^{2}}{d t^{2}} \\theta_{2}{\\left(t \\right)} - l_{2} l_{4} m_{5} \\sin{\\left(\\theta_{2}{\\left(t \\right)} + \\theta_{4}{\\left(t \\right)} \\right)} \\left(\\frac{d}{d t} \\theta_{2}{\\left(t \\right)}\\right)^{2} + l_{2} l_{4} m_{5} \\cos{\\left(\\theta_{2}{\\left(t \\right)} + \\theta_{4}{\\left(t \\right)} \\right)} \\frac{d^{2}}{d t^{2}} \\theta_{2}{\\left(t \\right)} + l_{2} lc_{4} m_{4} \\sin{\\left(\\theta_{2}{\\left(t \\right)} + \\theta_{4}{\\left(t \\right)} \\right)} \\left(\\frac{d}{d t} \\theta_{2}{\\left(t \\right)}\\right)^{2} - l_{2} lc_{4} m_{4} \\cos{\\left(\\theta_{2}{\\left(t \\right)} + \\theta_{4}{\\left(t \\right)} \\right)} \\frac{d^{2}}{d t^{2}} \\theta_{2}{\\left(t \\right)} + l_{4}^{2} m_{4} \\frac{d^{2}}{d t^{2}} \\theta_{4}{\\left(t \\right)} + l_{4}^{2} m_{5} \\frac{d^{2}}{d t^{2}} \\theta_{4}{\\left(t \\right)} + l_{4} l_{5} m_{5} \\sin{\\left(\\theta_{4}{\\left(t \\right)} - \\theta_{5}{\\left(t \\right)} \\right)} \\left(\\frac{d}{d t} \\theta_{5}{\\left(t \\right)}\\right)^{2} + l_{4} l_{5} m_{5} \\cos{\\left(\\theta_{4}{\\left(t \\right)} - \\theta_{5}{\\left(t \\right)} \\right)} \\frac{d^{2}}{d t^{2}} \\theta_{5}{\\left(t \\right)} - 2 l_{4} lc_{4} m_{4} \\frac{d^{2}}{d t^{2}} \\theta_{4}{\\left(t \\right)} - l_{4} lc_{5} m_{5} \\sin{\\left(\\theta_{4}{\\left(t \\right)} - \\theta_{5}{\\left(t \\right)} \\right)} \\left(\\frac{d}{d t} \\theta_{5}{\\left(t \\right)}\\right)^{2} - l_{4} lc_{5} m_{5} \\cos{\\left(\\theta_{4}{\\left(t \\right)} - \\theta_{5}{\\left(t \\right)} \\right)} \\frac{d^{2}}{d t^{2}} \\theta_{5}{\\left(t \\right)} + lc_{4}^{2} m_{4} \\frac{d^{2}}{d t^{2}} \\theta_{4}{\\left(t \\right)}$"
      ],
      "text/plain": [
       "I_4*Derivative(theta4(t), (t, 2)) + g*l_4*m_4*sin(theta4(t)) + g*l_4*m_5*sin(theta4(t)) - g*lc_4*m_4*sin(theta4(t)) - l_1*l_4*m_4*sin(theta1(t) + theta4(t))*Derivative(theta1(t), t)**2 + l_1*l_4*m_4*cos(theta1(t) + theta4(t))*Derivative(theta1(t), (t, 2)) - l_1*l_4*m_5*sin(theta1(t) + theta4(t))*Derivative(theta1(t), t)**2 + l_1*l_4*m_5*cos(theta1(t) + theta4(t))*Derivative(theta1(t), (t, 2)) + l_1*lc_4*m_4*sin(theta1(t) + theta4(t))*Derivative(theta1(t), t)**2 - l_1*lc_4*m_4*cos(theta1(t) + theta4(t))*Derivative(theta1(t), (t, 2)) - l_2*l_4*m_4*sin(theta2(t) + theta4(t))*Derivative(theta2(t), t)**2 + l_2*l_4*m_4*cos(theta2(t) + theta4(t))*Derivative(theta2(t), (t, 2)) - l_2*l_4*m_5*sin(theta2(t) + theta4(t))*Derivative(theta2(t), t)**2 + l_2*l_4*m_5*cos(theta2(t) + theta4(t))*Derivative(theta2(t), (t, 2)) + l_2*lc_4*m_4*sin(theta2(t) + theta4(t))*Derivative(theta2(t), t)**2 - l_2*lc_4*m_4*cos(theta2(t) + theta4(t))*Derivative(theta2(t), (t, 2)) + l_4**2*m_4*Derivative(theta4(t), (t, 2)) + l_4**2*m_5*Derivative(theta4(t), (t, 2)) + l_4*l_5*m_5*sin(theta4(t) - theta5(t))*Derivative(theta5(t), t)**2 + l_4*l_5*m_5*cos(theta4(t) - theta5(t))*Derivative(theta5(t), (t, 2)) - 2*l_4*lc_4*m_4*Derivative(theta4(t), (t, 2)) - l_4*lc_5*m_5*sin(theta4(t) - theta5(t))*Derivative(theta5(t), t)**2 - l_4*lc_5*m_5*cos(theta4(t) - theta5(t))*Derivative(theta5(t), (t, 2)) + lc_4**2*m_4*Derivative(theta4(t), (t, 2))"
      ]
     },
     "execution_count": 18,
     "metadata": {},
     "output_type": "execute_result"
    }
   ],
   "source": [
    "simplify(system_EoM[3])"
   ]
  },
  {
   "cell_type": "markdown",
   "id": "77e12540",
   "metadata": {},
   "source": [
    "$$\\frac{d}{dt} \\frac{\\partial L}{\\partial \\dot{\\theta}_5} - \\frac{\\partial L}{\\partial \\theta_5}=0$$"
   ]
  },
  {
   "cell_type": "code",
   "execution_count": 19,
   "id": "268a9c9f",
   "metadata": {},
   "outputs": [
    {
     "data": {
      "text/latex": [
       "$\\displaystyle I_{5} \\frac{d^{2}}{d t^{2}} \\theta_{5}{\\left(t \\right)} + g m_{5} \\left(l_{5} - lc_{5}\\right) \\sin{\\left(\\theta_{5}{\\left(t \\right)} \\right)} + m_{5} \\left(l_{5} - lc_{5}\\right) \\left(l_{1} \\sin{\\left(\\theta_{1}{\\left(t \\right)} + \\theta_{5}{\\left(t \\right)} \\right)} \\frac{d}{d t} \\theta_{1}{\\left(t \\right)} + l_{2} \\sin{\\left(\\theta_{2}{\\left(t \\right)} + \\theta_{5}{\\left(t \\right)} \\right)} \\frac{d}{d t} \\theta_{2}{\\left(t \\right)} - l_{4} \\sin{\\left(\\theta_{4}{\\left(t \\right)} - \\theta_{5}{\\left(t \\right)} \\right)} \\frac{d}{d t} \\theta_{4}{\\left(t \\right)}\\right) \\frac{d}{d t} \\theta_{5}{\\left(t \\right)} - m_{5} \\left(l_{5} - lc_{5}\\right) \\left(l_{1} \\sin{\\left(\\theta_{1}{\\left(t \\right)} + \\theta_{5}{\\left(t \\right)} \\right)} \\left(\\frac{d}{d t} \\theta_{1}{\\left(t \\right)}\\right)^{2} + l_{1} \\sin{\\left(\\theta_{1}{\\left(t \\right)} + \\theta_{5}{\\left(t \\right)} \\right)} \\frac{d}{d t} \\theta_{1}{\\left(t \\right)} \\frac{d}{d t} \\theta_{5}{\\left(t \\right)} - l_{1} \\cos{\\left(\\theta_{1}{\\left(t \\right)} + \\theta_{5}{\\left(t \\right)} \\right)} \\frac{d^{2}}{d t^{2}} \\theta_{1}{\\left(t \\right)} + l_{2} \\sin{\\left(\\theta_{2}{\\left(t \\right)} + \\theta_{5}{\\left(t \\right)} \\right)} \\left(\\frac{d}{d t} \\theta_{2}{\\left(t \\right)}\\right)^{2} + l_{2} \\sin{\\left(\\theta_{2}{\\left(t \\right)} + \\theta_{5}{\\left(t \\right)} \\right)} \\frac{d}{d t} \\theta_{2}{\\left(t \\right)} \\frac{d}{d t} \\theta_{5}{\\left(t \\right)} - l_{2} \\cos{\\left(\\theta_{2}{\\left(t \\right)} + \\theta_{5}{\\left(t \\right)} \\right)} \\frac{d^{2}}{d t^{2}} \\theta_{2}{\\left(t \\right)} + l_{4} \\sin{\\left(\\theta_{4}{\\left(t \\right)} - \\theta_{5}{\\left(t \\right)} \\right)} \\left(\\frac{d}{d t} \\theta_{4}{\\left(t \\right)}\\right)^{2} - l_{4} \\sin{\\left(\\theta_{4}{\\left(t \\right)} - \\theta_{5}{\\left(t \\right)} \\right)} \\frac{d}{d t} \\theta_{4}{\\left(t \\right)} \\frac{d}{d t} \\theta_{5}{\\left(t \\right)} - l_{4} \\cos{\\left(\\theta_{4}{\\left(t \\right)} - \\theta_{5}{\\left(t \\right)} \\right)} \\frac{d^{2}}{d t^{2}} \\theta_{4}{\\left(t \\right)} - l_{5} \\frac{d^{2}}{d t^{2}} \\theta_{5}{\\left(t \\right)} + lc_{5} \\frac{d^{2}}{d t^{2}} \\theta_{5}{\\left(t \\right)}\\right)$"
      ],
      "text/plain": [
       "I_5*Derivative(theta5(t), (t, 2)) + g*m_5*(l_5 - lc_5)*sin(theta5(t)) + m_5*(l_5 - lc_5)*(l_1*sin(theta1(t) + theta5(t))*Derivative(theta1(t), t) + l_2*sin(theta2(t) + theta5(t))*Derivative(theta2(t), t) - l_4*sin(theta4(t) - theta5(t))*Derivative(theta4(t), t))*Derivative(theta5(t), t) - m_5*(l_5 - lc_5)*(l_1*sin(theta1(t) + theta5(t))*Derivative(theta1(t), t)**2 + l_1*sin(theta1(t) + theta5(t))*Derivative(theta1(t), t)*Derivative(theta5(t), t) - l_1*cos(theta1(t) + theta5(t))*Derivative(theta1(t), (t, 2)) + l_2*sin(theta2(t) + theta5(t))*Derivative(theta2(t), t)**2 + l_2*sin(theta2(t) + theta5(t))*Derivative(theta2(t), t)*Derivative(theta5(t), t) - l_2*cos(theta2(t) + theta5(t))*Derivative(theta2(t), (t, 2)) + l_4*sin(theta4(t) - theta5(t))*Derivative(theta4(t), t)**2 - l_4*sin(theta4(t) - theta5(t))*Derivative(theta4(t), t)*Derivative(theta5(t), t) - l_4*cos(theta4(t) - theta5(t))*Derivative(theta4(t), (t, 2)) - l_5*Derivative(theta5(t), (t, 2)) + lc_5*Derivative(theta5(t), (t, 2)))"
      ]
     },
     "execution_count": 19,
     "metadata": {},
     "output_type": "execute_result"
    }
   ],
   "source": [
    "simplify(system_EoM[4])"
   ]
  },
  {
   "cell_type": "markdown",
   "id": "ea7f448f",
   "metadata": {},
   "source": [
    "## Rearrange EoM\n",
    "\n",
    "$$M(q)\\ddot{q} + C(q, \\dot{q})\\dot{q} + G(q) = 0$$"
   ]
  },
  {
   "cell_type": "markdown",
   "id": "7d4cad0f",
   "metadata": {},
   "source": [
    "### Check equations\n",
    "\n",
    "首先檢查mass matrix, 論文中的mass matrix依序為\n",
    "\n",
    "<img src=\"figures/Ajayi_MM_11to15.png\" alt=\"Drawing\" style=\"height: 200px;\"/>"
   ]
  },
  {
   "cell_type": "code",
   "execution_count": 20,
   "id": "260fda2f",
   "metadata": {},
   "outputs": [],
   "source": [
    "system_MM = simplify(system_LM.mass_matrix)"
   ]
  },
  {
   "cell_type": "code",
   "execution_count": 21,
   "id": "42f545bf",
   "metadata": {},
   "outputs": [
    {
     "data": {
      "text/latex": [
       "$\\displaystyle I_{1} + l_{1}^{2} m_{2} + l_{1}^{2} m_{3} + l_{1}^{2} m_{4} + l_{1}^{2} m_{5} + lc_{1}^{2} m_{1}$"
      ],
      "text/plain": [
       "I_1 + l_1**2*m_2 + l_1**2*m_3 + l_1**2*m_4 + l_1**2*m_5 + lc_1**2*m_1"
      ]
     },
     "execution_count": 21,
     "metadata": {},
     "output_type": "execute_result"
    }
   ],
   "source": [
    "system_MM[0,0]"
   ]
  },
  {
   "cell_type": "code",
   "execution_count": 22,
   "id": "84f5d413",
   "metadata": {},
   "outputs": [
    {
     "data": {
      "text/latex": [
       "$\\displaystyle l_{1} \\left(l_{2} m_{3} + l_{2} m_{4} + l_{2} m_{5} + lc_{2} m_{2}\\right) \\cos{\\left(\\theta_{1}{\\left(t \\right)} - \\theta_{2}{\\left(t \\right)} \\right)}$"
      ],
      "text/plain": [
       "l_1*(l_2*m_3 + l_2*m_4 + l_2*m_5 + lc_2*m_2)*cos(theta1(t) - theta2(t))"
      ]
     },
     "execution_count": 22,
     "metadata": {},
     "output_type": "execute_result"
    }
   ],
   "source": [
    "system_MM[0,1]"
   ]
  },
  {
   "cell_type": "code",
   "execution_count": 23,
   "id": "af3e9fec",
   "metadata": {},
   "outputs": [
    {
     "data": {
      "text/latex": [
       "$\\displaystyle l_{1} lc_{3} m_{3} \\cos{\\left(\\theta_{1}{\\left(t \\right)} - \\theta_{3}{\\left(t \\right)} \\right)}$"
      ],
      "text/plain": [
       "l_1*lc_3*m_3*cos(theta1(t) - theta3(t))"
      ]
     },
     "execution_count": 23,
     "metadata": {},
     "output_type": "execute_result"
    }
   ],
   "source": [
    "system_MM[0,2]"
   ]
  },
  {
   "cell_type": "code",
   "execution_count": 24,
   "id": "d4d88837",
   "metadata": {},
   "outputs": [
    {
     "data": {
      "text/latex": [
       "$\\displaystyle l_{1} \\left(l_{4} m_{5} + m_{4} \\left(l_{4} - lc_{4}\\right)\\right) \\cos{\\left(\\theta_{1}{\\left(t \\right)} + \\theta_{4}{\\left(t \\right)} \\right)}$"
      ],
      "text/plain": [
       "l_1*(l_4*m_5 + m_4*(l_4 - lc_4))*cos(theta1(t) + theta4(t))"
      ]
     },
     "execution_count": 24,
     "metadata": {},
     "output_type": "execute_result"
    }
   ],
   "source": [
    "system_MM[0,3]"
   ]
  },
  {
   "cell_type": "code",
   "execution_count": 25,
   "id": "e834cd63",
   "metadata": {},
   "outputs": [
    {
     "data": {
      "text/latex": [
       "$\\displaystyle l_{1} m_{5} \\left(l_{5} - lc_{5}\\right) \\cos{\\left(\\theta_{1}{\\left(t \\right)} + \\theta_{5}{\\left(t \\right)} \\right)}$"
      ],
      "text/plain": [
       "l_1*m_5*(l_5 - lc_5)*cos(theta1(t) + theta5(t))"
      ]
     },
     "execution_count": 25,
     "metadata": {},
     "output_type": "execute_result"
    }
   ],
   "source": [
    "system_MM[0,4]"
   ]
  },
  {
   "cell_type": "markdown",
   "id": "e614bf31",
   "metadata": {},
   "source": [
    "<img src=\"figures/Ajayi_MM_21to25.png\" alt=\"Drawing\" style=\"height: 200px;\"/>"
   ]
  },
  {
   "cell_type": "code",
   "execution_count": 26,
   "id": "e25290f5",
   "metadata": {},
   "outputs": [
    {
     "data": {
      "text/latex": [
       "$\\displaystyle l_{1} \\left(l_{2} m_{3} + l_{2} m_{4} + l_{2} m_{5} + lc_{2} m_{2}\\right) \\cos{\\left(\\theta_{1}{\\left(t \\right)} - \\theta_{2}{\\left(t \\right)} \\right)}$"
      ],
      "text/plain": [
       "l_1*(l_2*m_3 + l_2*m_4 + l_2*m_5 + lc_2*m_2)*cos(theta1(t) - theta2(t))"
      ]
     },
     "execution_count": 26,
     "metadata": {},
     "output_type": "execute_result"
    }
   ],
   "source": [
    "system_MM[1,0]"
   ]
  },
  {
   "cell_type": "code",
   "execution_count": 27,
   "id": "dbcc6783",
   "metadata": {},
   "outputs": [
    {
     "data": {
      "text/latex": [
       "$\\displaystyle I_{2} + l_{2}^{2} m_{3} + l_{2}^{2} m_{4} + l_{2}^{2} m_{5} + lc_{2}^{2} m_{2}$"
      ],
      "text/plain": [
       "I_2 + l_2**2*m_3 + l_2**2*m_4 + l_2**2*m_5 + lc_2**2*m_2"
      ]
     },
     "execution_count": 27,
     "metadata": {},
     "output_type": "execute_result"
    }
   ],
   "source": [
    "system_MM[1,1]"
   ]
  },
  {
   "cell_type": "code",
   "execution_count": 28,
   "id": "ae168ca9",
   "metadata": {},
   "outputs": [
    {
     "data": {
      "text/latex": [
       "$\\displaystyle l_{2} lc_{3} m_{3} \\cos{\\left(\\theta_{2}{\\left(t \\right)} - \\theta_{3}{\\left(t \\right)} \\right)}$"
      ],
      "text/plain": [
       "l_2*lc_3*m_3*cos(theta2(t) - theta3(t))"
      ]
     },
     "execution_count": 28,
     "metadata": {},
     "output_type": "execute_result"
    }
   ],
   "source": [
    "system_MM[1,2]"
   ]
  },
  {
   "cell_type": "code",
   "execution_count": 29,
   "id": "b589b1db",
   "metadata": {},
   "outputs": [
    {
     "data": {
      "text/latex": [
       "$\\displaystyle l_{2} \\left(l_{4} m_{5} + m_{4} \\left(l_{4} - lc_{4}\\right)\\right) \\cos{\\left(\\theta_{2}{\\left(t \\right)} + \\theta_{4}{\\left(t \\right)} \\right)}$"
      ],
      "text/plain": [
       "l_2*(l_4*m_5 + m_4*(l_4 - lc_4))*cos(theta2(t) + theta4(t))"
      ]
     },
     "execution_count": 29,
     "metadata": {},
     "output_type": "execute_result"
    }
   ],
   "source": [
    "system_MM[1,3]"
   ]
  },
  {
   "cell_type": "code",
   "execution_count": 30,
   "id": "2b0c1cac",
   "metadata": {},
   "outputs": [
    {
     "data": {
      "text/latex": [
       "$\\displaystyle l_{2} m_{5} \\left(l_{5} - lc_{5}\\right) \\cos{\\left(\\theta_{2}{\\left(t \\right)} + \\theta_{5}{\\left(t \\right)} \\right)}$"
      ],
      "text/plain": [
       "l_2*m_5*(l_5 - lc_5)*cos(theta2(t) + theta5(t))"
      ]
     },
     "execution_count": 30,
     "metadata": {},
     "output_type": "execute_result"
    }
   ],
   "source": [
    "system_MM[1,4]"
   ]
  },
  {
   "cell_type": "markdown",
   "id": "1e416993",
   "metadata": {},
   "source": [
    "<img src=\"figures/Ajayi_MM_31to35.png\" alt=\"Drawing\" style=\"height: 200px;\"/>"
   ]
  },
  {
   "cell_type": "code",
   "execution_count": 31,
   "id": "377029b2",
   "metadata": {},
   "outputs": [
    {
     "data": {
      "text/latex": [
       "$\\displaystyle l_{1} lc_{3} m_{3} \\cos{\\left(\\theta_{1}{\\left(t \\right)} - \\theta_{3}{\\left(t \\right)} \\right)}$"
      ],
      "text/plain": [
       "l_1*lc_3*m_3*cos(theta1(t) - theta3(t))"
      ]
     },
     "execution_count": 31,
     "metadata": {},
     "output_type": "execute_result"
    }
   ],
   "source": [
    "system_MM[2,0]"
   ]
  },
  {
   "cell_type": "code",
   "execution_count": 32,
   "id": "13b4e8b6",
   "metadata": {},
   "outputs": [
    {
     "data": {
      "text/latex": [
       "$\\displaystyle l_{2} lc_{3} m_{3} \\cos{\\left(\\theta_{2}{\\left(t \\right)} - \\theta_{3}{\\left(t \\right)} \\right)}$"
      ],
      "text/plain": [
       "l_2*lc_3*m_3*cos(theta2(t) - theta3(t))"
      ]
     },
     "execution_count": 32,
     "metadata": {},
     "output_type": "execute_result"
    }
   ],
   "source": [
    "system_MM[2,1]"
   ]
  },
  {
   "cell_type": "code",
   "execution_count": 33,
   "id": "a0041982",
   "metadata": {},
   "outputs": [
    {
     "data": {
      "text/latex": [
       "$\\displaystyle I_{3} + lc_{3}^{2} m_{3}$"
      ],
      "text/plain": [
       "I_3 + lc_3**2*m_3"
      ]
     },
     "execution_count": 33,
     "metadata": {},
     "output_type": "execute_result"
    }
   ],
   "source": [
    "system_MM[2,2]"
   ]
  },
  {
   "cell_type": "code",
   "execution_count": 34,
   "id": "f4b1ce30",
   "metadata": {},
   "outputs": [
    {
     "data": {
      "text/latex": [
       "$\\displaystyle 0$"
      ],
      "text/plain": [
       "0"
      ]
     },
     "execution_count": 34,
     "metadata": {},
     "output_type": "execute_result"
    }
   ],
   "source": [
    "system_MM[2,3]"
   ]
  },
  {
   "cell_type": "code",
   "execution_count": 35,
   "id": "83c0c317",
   "metadata": {},
   "outputs": [
    {
     "data": {
      "text/latex": [
       "$\\displaystyle 0$"
      ],
      "text/plain": [
       "0"
      ]
     },
     "execution_count": 35,
     "metadata": {},
     "output_type": "execute_result"
    }
   ],
   "source": [
    "system_MM[2,4]"
   ]
  },
  {
   "cell_type": "markdown",
   "id": "c9851ff2",
   "metadata": {},
   "source": [
    "<img src=\"figures/Ajayi_MM_41to45.png\" alt=\"Drawing\" style=\"height: 200px;\"/>"
   ]
  },
  {
   "cell_type": "code",
   "execution_count": 36,
   "id": "f34d2ca6",
   "metadata": {},
   "outputs": [
    {
     "data": {
      "text/latex": [
       "$\\displaystyle l_{1} \\left(l_{4} m_{5} + m_{4} \\left(l_{4} - lc_{4}\\right)\\right) \\cos{\\left(\\theta_{1}{\\left(t \\right)} + \\theta_{4}{\\left(t \\right)} \\right)}$"
      ],
      "text/plain": [
       "l_1*(l_4*m_5 + m_4*(l_4 - lc_4))*cos(theta1(t) + theta4(t))"
      ]
     },
     "execution_count": 36,
     "metadata": {},
     "output_type": "execute_result"
    }
   ],
   "source": [
    "system_MM[3,0]"
   ]
  },
  {
   "cell_type": "code",
   "execution_count": 37,
   "id": "06f11db6",
   "metadata": {},
   "outputs": [
    {
     "data": {
      "text/latex": [
       "$\\displaystyle l_{2} \\left(l_{4} m_{5} + m_{4} \\left(l_{4} - lc_{4}\\right)\\right) \\cos{\\left(\\theta_{2}{\\left(t \\right)} + \\theta_{4}{\\left(t \\right)} \\right)}$"
      ],
      "text/plain": [
       "l_2*(l_4*m_5 + m_4*(l_4 - lc_4))*cos(theta2(t) + theta4(t))"
      ]
     },
     "execution_count": 37,
     "metadata": {},
     "output_type": "execute_result"
    }
   ],
   "source": [
    "system_MM[3,1]"
   ]
  },
  {
   "cell_type": "code",
   "execution_count": 38,
   "id": "b7093fa2",
   "metadata": {},
   "outputs": [
    {
     "data": {
      "text/latex": [
       "$\\displaystyle 0$"
      ],
      "text/plain": [
       "0"
      ]
     },
     "execution_count": 38,
     "metadata": {},
     "output_type": "execute_result"
    }
   ],
   "source": [
    "system_MM[3,2]"
   ]
  },
  {
   "cell_type": "code",
   "execution_count": 39,
   "id": "a620b308",
   "metadata": {},
   "outputs": [
    {
     "data": {
      "text/latex": [
       "$\\displaystyle I_{4} + l_{4}^{2} m_{5} + m_{4} \\left(l_{4} - lc_{4}\\right)^{2}$"
      ],
      "text/plain": [
       "I_4 + l_4**2*m_5 + m_4*(l_4 - lc_4)**2"
      ]
     },
     "execution_count": 39,
     "metadata": {},
     "output_type": "execute_result"
    }
   ],
   "source": [
    "system_MM[3,3]"
   ]
  },
  {
   "cell_type": "code",
   "execution_count": 40,
   "id": "e1ea53c6",
   "metadata": {},
   "outputs": [
    {
     "data": {
      "text/latex": [
       "$\\displaystyle l_{4} m_{5} \\left(l_{5} - lc_{5}\\right) \\cos{\\left(\\theta_{4}{\\left(t \\right)} - \\theta_{5}{\\left(t \\right)} \\right)}$"
      ],
      "text/plain": [
       "l_4*m_5*(l_5 - lc_5)*cos(theta4(t) - theta5(t))"
      ]
     },
     "execution_count": 40,
     "metadata": {},
     "output_type": "execute_result"
    }
   ],
   "source": [
    "system_MM[3,4]"
   ]
  },
  {
   "cell_type": "markdown",
   "id": "b785d36e",
   "metadata": {},
   "source": [
    "<img src=\"figures/Ajayi_MM_51to55.png\" alt=\"Drawing\" style=\"height: 200px;\"/>"
   ]
  },
  {
   "cell_type": "code",
   "execution_count": 41,
   "id": "57f96cd1",
   "metadata": {},
   "outputs": [
    {
     "data": {
      "text/latex": [
       "$\\displaystyle l_{1} m_{5} \\left(l_{5} - lc_{5}\\right) \\cos{\\left(\\theta_{1}{\\left(t \\right)} + \\theta_{5}{\\left(t \\right)} \\right)}$"
      ],
      "text/plain": [
       "l_1*m_5*(l_5 - lc_5)*cos(theta1(t) + theta5(t))"
      ]
     },
     "execution_count": 41,
     "metadata": {},
     "output_type": "execute_result"
    }
   ],
   "source": [
    "system_MM[4,0]"
   ]
  },
  {
   "cell_type": "code",
   "execution_count": 42,
   "id": "683827d2",
   "metadata": {},
   "outputs": [
    {
     "data": {
      "text/latex": [
       "$\\displaystyle l_{2} m_{5} \\left(l_{5} - lc_{5}\\right) \\cos{\\left(\\theta_{2}{\\left(t \\right)} + \\theta_{5}{\\left(t \\right)} \\right)}$"
      ],
      "text/plain": [
       "l_2*m_5*(l_5 - lc_5)*cos(theta2(t) + theta5(t))"
      ]
     },
     "execution_count": 42,
     "metadata": {},
     "output_type": "execute_result"
    }
   ],
   "source": [
    "system_MM[4,1]"
   ]
  },
  {
   "cell_type": "code",
   "execution_count": 43,
   "id": "9d4bb518",
   "metadata": {},
   "outputs": [
    {
     "data": {
      "text/latex": [
       "$\\displaystyle 0$"
      ],
      "text/plain": [
       "0"
      ]
     },
     "execution_count": 43,
     "metadata": {},
     "output_type": "execute_result"
    }
   ],
   "source": [
    "system_MM[4,2]"
   ]
  },
  {
   "cell_type": "code",
   "execution_count": 44,
   "id": "10e90c41",
   "metadata": {},
   "outputs": [
    {
     "data": {
      "text/latex": [
       "$\\displaystyle l_{4} m_{5} \\left(l_{5} - lc_{5}\\right) \\cos{\\left(\\theta_{4}{\\left(t \\right)} - \\theta_{5}{\\left(t \\right)} \\right)}$"
      ],
      "text/plain": [
       "l_4*m_5*(l_5 - lc_5)*cos(theta4(t) - theta5(t))"
      ]
     },
     "execution_count": 44,
     "metadata": {},
     "output_type": "execute_result"
    }
   ],
   "source": [
    "system_MM[4,3]"
   ]
  },
  {
   "cell_type": "code",
   "execution_count": 45,
   "id": "ab447543",
   "metadata": {},
   "outputs": [
    {
     "data": {
      "text/latex": [
       "$\\displaystyle I_{5} + m_{5} \\left(l_{5} - lc_{5}\\right)^{2}$"
      ],
      "text/plain": [
       "I_5 + m_5*(l_5 - lc_5)**2"
      ]
     },
     "execution_count": 45,
     "metadata": {},
     "output_type": "execute_result"
    }
   ],
   "source": [
    "system_MM[4,4]"
   ]
  },
  {
   "cell_type": "markdown",
   "id": "3e3d5144",
   "metadata": {},
   "source": [
    "### Force Matrix 計算"
   ]
  },
  {
   "cell_type": "code",
   "execution_count": 46,
   "id": "4f10c9c3",
   "metadata": {},
   "outputs": [],
   "source": [
    "system_LM_forcing = -system_LM.forcing\n",
    "system_ForceMatrix = expand(system_LM_forcing - diff(system_LM_forcing, g)*g)"
   ]
  },
  {
   "cell_type": "markdown",
   "id": "10683de4",
   "metadata": {},
   "source": [
    "在使用global angle $\\theta$ 定義的情況下，可能是因為角度沒有耦聯(couple)，force matrix的項次都\"係數*一次微分項^2\"，因此使用兩次偏微分提出需要的項次"
   ]
  },
  {
   "cell_type": "markdown",
   "id": "50c162c6",
   "metadata": {},
   "source": [
    "<img src=\"figures/Ajayi_C11to15.png\" alt=\"Drawing\" style=\"height: 200px;\"/>"
   ]
  },
  {
   "cell_type": "code",
   "execution_count": 47,
   "id": "49a0e635",
   "metadata": {},
   "outputs": [
    {
     "data": {
      "text/latex": [
       "$\\displaystyle 0$"
      ],
      "text/plain": [
       "0"
      ]
     },
     "execution_count": 47,
     "metadata": {},
     "output_type": "execute_result"
    }
   ],
   "source": [
    "C11 = simplify(diff(system_ForceMatrix[0], th1_d1, 2)/2)*th1_d1; C11"
   ]
  },
  {
   "cell_type": "code",
   "execution_count": 48,
   "id": "cfa0fdf4",
   "metadata": {},
   "outputs": [
    {
     "data": {
      "text/latex": [
       "$\\displaystyle l_{1} \\left(l_{2} m_{3} + l_{2} m_{4} + l_{2} m_{5} + lc_{2} m_{2}\\right) \\sin{\\left(\\theta_{1}{\\left(t \\right)} - \\theta_{2}{\\left(t \\right)} \\right)} \\frac{d}{d t} \\theta_{2}{\\left(t \\right)}$"
      ],
      "text/plain": [
       "l_1*(l_2*m_3 + l_2*m_4 + l_2*m_5 + lc_2*m_2)*sin(theta1(t) - theta2(t))*Derivative(theta2(t), t)"
      ]
     },
     "execution_count": 48,
     "metadata": {},
     "output_type": "execute_result"
    }
   ],
   "source": [
    "C12 = simplify(diff(system_ForceMatrix[0], th2_d1, 2)/2)*th2_d1; C12"
   ]
  },
  {
   "cell_type": "code",
   "execution_count": 49,
   "id": "8b1c01e2",
   "metadata": {},
   "outputs": [
    {
     "data": {
      "text/latex": [
       "$\\displaystyle l_{1} lc_{3} m_{3} \\sin{\\left(\\theta_{1}{\\left(t \\right)} - \\theta_{3}{\\left(t \\right)} \\right)} \\frac{d}{d t} \\theta_{3}{\\left(t \\right)}$"
      ],
      "text/plain": [
       "l_1*lc_3*m_3*sin(theta1(t) - theta3(t))*Derivative(theta3(t), t)"
      ]
     },
     "execution_count": 49,
     "metadata": {},
     "output_type": "execute_result"
    }
   ],
   "source": [
    "C13 = simplify(diff(system_ForceMatrix[0], th3_d1, 2)/2)*th3_d1; C13"
   ]
  },
  {
   "cell_type": "code",
   "execution_count": 50,
   "id": "d2950e54",
   "metadata": {},
   "outputs": [
    {
     "data": {
      "text/latex": [
       "$\\displaystyle l_{1} \\left(- l_{4} m_{4} - l_{4} m_{5} + lc_{4} m_{4}\\right) \\sin{\\left(\\theta_{1}{\\left(t \\right)} + \\theta_{4}{\\left(t \\right)} \\right)} \\frac{d}{d t} \\theta_{4}{\\left(t \\right)}$"
      ],
      "text/plain": [
       "l_1*(-l_4*m_4 - l_4*m_5 + lc_4*m_4)*sin(theta1(t) + theta4(t))*Derivative(theta4(t), t)"
      ]
     },
     "execution_count": 50,
     "metadata": {},
     "output_type": "execute_result"
    }
   ],
   "source": [
    "C14 = simplify(diff(system_ForceMatrix[0], th4_d1, 2)/2)*th4_d1; C14"
   ]
  },
  {
   "cell_type": "code",
   "execution_count": 51,
   "id": "8e314667",
   "metadata": {},
   "outputs": [
    {
     "data": {
      "text/latex": [
       "$\\displaystyle l_{1} m_{5} \\left(- l_{5} + lc_{5}\\right) \\sin{\\left(\\theta_{1}{\\left(t \\right)} + \\theta_{5}{\\left(t \\right)} \\right)} \\frac{d}{d t} \\theta_{5}{\\left(t \\right)}$"
      ],
      "text/plain": [
       "l_1*m_5*(-l_5 + lc_5)*sin(theta1(t) + theta5(t))*Derivative(theta5(t), t)"
      ]
     },
     "execution_count": 51,
     "metadata": {},
     "output_type": "execute_result"
    }
   ],
   "source": [
    "C15 = simplify(diff(system_ForceMatrix[0], th5_d1, 2)/2)*th5_d1; C15"
   ]
  },
  {
   "cell_type": "markdown",
   "id": "7e08cf31",
   "metadata": {},
   "source": [
    "<img src=\"figures/Ajayi_C21to25.png\" alt=\"Drawing\" style=\"height: 200px;\"/>"
   ]
  },
  {
   "cell_type": "code",
   "execution_count": 52,
   "id": "92058e42",
   "metadata": {},
   "outputs": [
    {
     "data": {
      "text/latex": [
       "$\\displaystyle - l_{1} \\left(l_{2} m_{3} + l_{2} m_{4} + l_{2} m_{5} + lc_{2} m_{2}\\right) \\sin{\\left(\\theta_{1}{\\left(t \\right)} - \\theta_{2}{\\left(t \\right)} \\right)} \\frac{d}{d t} \\theta_{1}{\\left(t \\right)}$"
      ],
      "text/plain": [
       "-l_1*(l_2*m_3 + l_2*m_4 + l_2*m_5 + lc_2*m_2)*sin(theta1(t) - theta2(t))*Derivative(theta1(t), t)"
      ]
     },
     "execution_count": 52,
     "metadata": {},
     "output_type": "execute_result"
    }
   ],
   "source": [
    "C21 = simplify(diff(system_ForceMatrix[1], th1_d1, 2)/2)*th1_d1; C21"
   ]
  },
  {
   "cell_type": "code",
   "execution_count": 53,
   "id": "da2af101",
   "metadata": {},
   "outputs": [
    {
     "data": {
      "text/latex": [
       "$\\displaystyle 0$"
      ],
      "text/plain": [
       "0"
      ]
     },
     "execution_count": 53,
     "metadata": {},
     "output_type": "execute_result"
    }
   ],
   "source": [
    "C22 = simplify(diff(system_ForceMatrix[1], th2_d1, 2)/2)*th2_d1; C22"
   ]
  },
  {
   "cell_type": "code",
   "execution_count": 54,
   "id": "ab8cc0d2",
   "metadata": {},
   "outputs": [
    {
     "data": {
      "text/latex": [
       "$\\displaystyle l_{2} lc_{3} m_{3} \\sin{\\left(\\theta_{2}{\\left(t \\right)} - \\theta_{3}{\\left(t \\right)} \\right)} \\frac{d}{d t} \\theta_{3}{\\left(t \\right)}$"
      ],
      "text/plain": [
       "l_2*lc_3*m_3*sin(theta2(t) - theta3(t))*Derivative(theta3(t), t)"
      ]
     },
     "execution_count": 54,
     "metadata": {},
     "output_type": "execute_result"
    }
   ],
   "source": [
    "C23 = simplify(diff(system_ForceMatrix[1], th3_d1, 2)/2)*th3_d1; C23"
   ]
  },
  {
   "cell_type": "code",
   "execution_count": 55,
   "id": "a58cfc09",
   "metadata": {},
   "outputs": [
    {
     "data": {
      "text/latex": [
       "$\\displaystyle l_{2} \\left(- l_{4} m_{4} - l_{4} m_{5} + lc_{4} m_{4}\\right) \\sin{\\left(\\theta_{2}{\\left(t \\right)} + \\theta_{4}{\\left(t \\right)} \\right)} \\frac{d}{d t} \\theta_{4}{\\left(t \\right)}$"
      ],
      "text/plain": [
       "l_2*(-l_4*m_4 - l_4*m_5 + lc_4*m_4)*sin(theta2(t) + theta4(t))*Derivative(theta4(t), t)"
      ]
     },
     "execution_count": 55,
     "metadata": {},
     "output_type": "execute_result"
    }
   ],
   "source": [
    "C24 = simplify(diff(system_ForceMatrix[1], th4_d1, 2)/2)*th4_d1; C24"
   ]
  },
  {
   "cell_type": "code",
   "execution_count": 56,
   "id": "3007a493",
   "metadata": {},
   "outputs": [
    {
     "data": {
      "text/latex": [
       "$\\displaystyle l_{2} m_{5} \\left(- l_{5} + lc_{5}\\right) \\sin{\\left(\\theta_{2}{\\left(t \\right)} + \\theta_{5}{\\left(t \\right)} \\right)} \\frac{d}{d t} \\theta_{5}{\\left(t \\right)}$"
      ],
      "text/plain": [
       "l_2*m_5*(-l_5 + lc_5)*sin(theta2(t) + theta5(t))*Derivative(theta5(t), t)"
      ]
     },
     "execution_count": 56,
     "metadata": {},
     "output_type": "execute_result"
    }
   ],
   "source": [
    "C25 = simplify(diff(system_ForceMatrix[1], th5_d1, 2)/2)*th5_d1; C25"
   ]
  },
  {
   "cell_type": "markdown",
   "id": "faf500fa",
   "metadata": {},
   "source": [
    "<img src=\"figures/Ajayi_C31to35.png\" alt=\"Drawing\" style=\"height: 200px;\"/>"
   ]
  },
  {
   "cell_type": "code",
   "execution_count": 57,
   "id": "ee712eef",
   "metadata": {},
   "outputs": [
    {
     "data": {
      "text/latex": [
       "$\\displaystyle - l_{1} lc_{3} m_{3} \\sin{\\left(\\theta_{1}{\\left(t \\right)} - \\theta_{3}{\\left(t \\right)} \\right)} \\frac{d}{d t} \\theta_{1}{\\left(t \\right)}$"
      ],
      "text/plain": [
       "-l_1*lc_3*m_3*sin(theta1(t) - theta3(t))*Derivative(theta1(t), t)"
      ]
     },
     "execution_count": 57,
     "metadata": {},
     "output_type": "execute_result"
    }
   ],
   "source": [
    "C31 = simplify(diff(system_ForceMatrix[2], th1_d1, 2)/2)*th1_d1; C31"
   ]
  },
  {
   "cell_type": "code",
   "execution_count": 58,
   "id": "144e9964",
   "metadata": {},
   "outputs": [
    {
     "data": {
      "text/latex": [
       "$\\displaystyle - l_{2} lc_{3} m_{3} \\sin{\\left(\\theta_{2}{\\left(t \\right)} - \\theta_{3}{\\left(t \\right)} \\right)} \\frac{d}{d t} \\theta_{2}{\\left(t \\right)}$"
      ],
      "text/plain": [
       "-l_2*lc_3*m_3*sin(theta2(t) - theta3(t))*Derivative(theta2(t), t)"
      ]
     },
     "execution_count": 58,
     "metadata": {},
     "output_type": "execute_result"
    }
   ],
   "source": [
    "C32 = simplify(diff(system_ForceMatrix[2], th2_d1, 2)/2)*th2_d1; C32"
   ]
  },
  {
   "cell_type": "code",
   "execution_count": 59,
   "id": "0a8135f8",
   "metadata": {},
   "outputs": [
    {
     "data": {
      "text/latex": [
       "$\\displaystyle 0$"
      ],
      "text/plain": [
       "0"
      ]
     },
     "execution_count": 59,
     "metadata": {},
     "output_type": "execute_result"
    }
   ],
   "source": [
    "C33 = simplify(diff(system_ForceMatrix[2], th3_d1, 2)/2)*th3_d1; C33"
   ]
  },
  {
   "cell_type": "code",
   "execution_count": 60,
   "id": "c831fbfd",
   "metadata": {},
   "outputs": [
    {
     "data": {
      "text/latex": [
       "$\\displaystyle 0$"
      ],
      "text/plain": [
       "0"
      ]
     },
     "execution_count": 60,
     "metadata": {},
     "output_type": "execute_result"
    }
   ],
   "source": [
    "C34 = simplify(diff(system_ForceMatrix[2], th4_d1, 2)/2)*th4_d1; C34"
   ]
  },
  {
   "cell_type": "code",
   "execution_count": 61,
   "id": "acf23674",
   "metadata": {},
   "outputs": [
    {
     "data": {
      "text/latex": [
       "$\\displaystyle 0$"
      ],
      "text/plain": [
       "0"
      ]
     },
     "execution_count": 61,
     "metadata": {},
     "output_type": "execute_result"
    }
   ],
   "source": [
    "C35 = simplify(diff(system_ForceMatrix[2], th5_d1, 2)/2)*th5_d1; C35"
   ]
  },
  {
   "cell_type": "markdown",
   "id": "16e733a0",
   "metadata": {},
   "source": [
    "<img src=\"figures/Ajayi_C41to45.png\" alt=\"Drawing\" style=\"height: 200px;\"/>"
   ]
  },
  {
   "cell_type": "code",
   "execution_count": 62,
   "id": "4a78c4ce",
   "metadata": {},
   "outputs": [
    {
     "data": {
      "text/latex": [
       "$\\displaystyle l_{1} \\left(- l_{4} m_{4} - l_{4} m_{5} + lc_{4} m_{4}\\right) \\sin{\\left(\\theta_{1}{\\left(t \\right)} + \\theta_{4}{\\left(t \\right)} \\right)} \\frac{d}{d t} \\theta_{1}{\\left(t \\right)}$"
      ],
      "text/plain": [
       "l_1*(-l_4*m_4 - l_4*m_5 + lc_4*m_4)*sin(theta1(t) + theta4(t))*Derivative(theta1(t), t)"
      ]
     },
     "execution_count": 62,
     "metadata": {},
     "output_type": "execute_result"
    }
   ],
   "source": [
    "C41 = simplify(diff(system_ForceMatrix[3], th1_d1, 2)/2)*th1_d1; C41"
   ]
  },
  {
   "cell_type": "code",
   "execution_count": 63,
   "id": "ad26472c",
   "metadata": {},
   "outputs": [
    {
     "data": {
      "text/latex": [
       "$\\displaystyle l_{2} \\left(- l_{4} m_{4} - l_{4} m_{5} + lc_{4} m_{4}\\right) \\sin{\\left(\\theta_{2}{\\left(t \\right)} + \\theta_{4}{\\left(t \\right)} \\right)} \\frac{d}{d t} \\theta_{2}{\\left(t \\right)}$"
      ],
      "text/plain": [
       "l_2*(-l_4*m_4 - l_4*m_5 + lc_4*m_4)*sin(theta2(t) + theta4(t))*Derivative(theta2(t), t)"
      ]
     },
     "execution_count": 63,
     "metadata": {},
     "output_type": "execute_result"
    }
   ],
   "source": [
    "C42 = simplify(diff(system_ForceMatrix[3], th2_d1, 2)/2)*th2_d1; C42"
   ]
  },
  {
   "cell_type": "code",
   "execution_count": 64,
   "id": "449a86ea",
   "metadata": {},
   "outputs": [
    {
     "data": {
      "text/latex": [
       "$\\displaystyle 0$"
      ],
      "text/plain": [
       "0"
      ]
     },
     "execution_count": 64,
     "metadata": {},
     "output_type": "execute_result"
    }
   ],
   "source": [
    "C43 = simplify(diff(system_ForceMatrix[3], th3_d1, 2)/2)*th3_d1; C43"
   ]
  },
  {
   "cell_type": "code",
   "execution_count": 65,
   "id": "5a0236d2",
   "metadata": {},
   "outputs": [
    {
     "data": {
      "text/latex": [
       "$\\displaystyle 0$"
      ],
      "text/plain": [
       "0"
      ]
     },
     "execution_count": 65,
     "metadata": {},
     "output_type": "execute_result"
    }
   ],
   "source": [
    "C44 = simplify(diff(system_ForceMatrix[3], th4_d1, 2)/2)*th4_d1; C44"
   ]
  },
  {
   "cell_type": "code",
   "execution_count": 66,
   "id": "88f19c80",
   "metadata": {},
   "outputs": [
    {
     "data": {
      "text/latex": [
       "$\\displaystyle l_{4} m_{5} \\left(l_{5} - lc_{5}\\right) \\sin{\\left(\\theta_{4}{\\left(t \\right)} - \\theta_{5}{\\left(t \\right)} \\right)} \\frac{d}{d t} \\theta_{5}{\\left(t \\right)}$"
      ],
      "text/plain": [
       "l_4*m_5*(l_5 - lc_5)*sin(theta4(t) - theta5(t))*Derivative(theta5(t), t)"
      ]
     },
     "execution_count": 66,
     "metadata": {},
     "output_type": "execute_result"
    }
   ],
   "source": [
    "C45 = simplify(diff(system_ForceMatrix[3], th5_d1, 2)/2)*th5_d1; C45"
   ]
  },
  {
   "cell_type": "markdown",
   "id": "1be6f18c",
   "metadata": {},
   "source": [
    "<img src=\"figures/Ajayi_C51to55.png\" alt=\"Drawing\" style=\"height: 200px;\"/>"
   ]
  },
  {
   "cell_type": "code",
   "execution_count": 67,
   "id": "f77c98df",
   "metadata": {},
   "outputs": [
    {
     "data": {
      "text/latex": [
       "$\\displaystyle l_{1} m_{5} \\left(- l_{5} + lc_{5}\\right) \\sin{\\left(\\theta_{1}{\\left(t \\right)} + \\theta_{5}{\\left(t \\right)} \\right)} \\frac{d}{d t} \\theta_{1}{\\left(t \\right)}$"
      ],
      "text/plain": [
       "l_1*m_5*(-l_5 + lc_5)*sin(theta1(t) + theta5(t))*Derivative(theta1(t), t)"
      ]
     },
     "execution_count": 67,
     "metadata": {},
     "output_type": "execute_result"
    }
   ],
   "source": [
    "C51 = simplify(diff(system_ForceMatrix[4], th1_d1, 2)/2)*th1_d1; C51"
   ]
  },
  {
   "cell_type": "code",
   "execution_count": 68,
   "id": "41181010",
   "metadata": {},
   "outputs": [
    {
     "data": {
      "text/latex": [
       "$\\displaystyle l_{2} m_{5} \\left(- l_{5} + lc_{5}\\right) \\sin{\\left(\\theta_{2}{\\left(t \\right)} + \\theta_{5}{\\left(t \\right)} \\right)} \\frac{d}{d t} \\theta_{2}{\\left(t \\right)}$"
      ],
      "text/plain": [
       "l_2*m_5*(-l_5 + lc_5)*sin(theta2(t) + theta5(t))*Derivative(theta2(t), t)"
      ]
     },
     "execution_count": 68,
     "metadata": {},
     "output_type": "execute_result"
    }
   ],
   "source": [
    "C52 = simplify(diff(system_ForceMatrix[4], th2_d1, 2)/2)*th2_d1; C52"
   ]
  },
  {
   "cell_type": "code",
   "execution_count": 69,
   "id": "c4933bf2",
   "metadata": {},
   "outputs": [
    {
     "data": {
      "text/latex": [
       "$\\displaystyle 0$"
      ],
      "text/plain": [
       "0"
      ]
     },
     "execution_count": 69,
     "metadata": {},
     "output_type": "execute_result"
    }
   ],
   "source": [
    "C53 = simplify(diff(system_ForceMatrix[4], th3_d1, 2)/2)*th3_d1; C53"
   ]
  },
  {
   "cell_type": "code",
   "execution_count": 70,
   "id": "fa1a03fc",
   "metadata": {},
   "outputs": [
    {
     "data": {
      "text/latex": [
       "$\\displaystyle l_{4} m_{5} \\left(- l_{5} + lc_{5}\\right) \\sin{\\left(\\theta_{4}{\\left(t \\right)} - \\theta_{5}{\\left(t \\right)} \\right)} \\frac{d}{d t} \\theta_{4}{\\left(t \\right)}$"
      ],
      "text/plain": [
       "l_4*m_5*(-l_5 + lc_5)*sin(theta4(t) - theta5(t))*Derivative(theta4(t), t)"
      ]
     },
     "execution_count": 70,
     "metadata": {},
     "output_type": "execute_result"
    }
   ],
   "source": [
    "C54 = simplify(diff(system_ForceMatrix[4], th4_d1, 2)/2)*th4_d1; C54"
   ]
  },
  {
   "cell_type": "code",
   "execution_count": 71,
   "id": "9d5c8cc7",
   "metadata": {},
   "outputs": [
    {
     "data": {
      "text/latex": [
       "$\\displaystyle 0$"
      ],
      "text/plain": [
       "0"
      ]
     },
     "execution_count": 71,
     "metadata": {},
     "output_type": "execute_result"
    }
   ],
   "source": [
    "C55 = simplify(diff(system_ForceMatrix[4], th5_d1, 2)/2)*th5_d1; C55"
   ]
  },
  {
   "cell_type": "markdown",
   "id": "772840ad",
   "metadata": {},
   "source": [
    "### Gravity Matrix 計算"
   ]
  },
  {
   "cell_type": "code",
   "execution_count": 72,
   "id": "9a3bae00",
   "metadata": {},
   "outputs": [
    {
     "data": {
      "text/latex": [
       "$\\displaystyle \\left[\\begin{matrix}- g \\left(l_{1} m_{2} + l_{1} m_{3} + l_{1} m_{4} + l_{1} m_{5} + lc_{1} m_{1}\\right) \\sin{\\left(\\theta_{1}{\\left(t \\right)} \\right)}\\\\- g \\left(l_{2} m_{3} + l_{2} m_{4} + l_{2} m_{5} + lc_{2} m_{2}\\right) \\sin{\\left(\\theta_{2}{\\left(t \\right)} \\right)}\\\\- g lc_{3} m_{3} \\sin{\\left(\\theta_{3}{\\left(t \\right)} \\right)}\\\\g \\left(l_{4} m_{5} + m_{4} \\left(l_{4} - lc_{4}\\right)\\right) \\sin{\\left(\\theta_{4}{\\left(t \\right)} \\right)}\\\\g m_{5} \\left(l_{5} - lc_{5}\\right) \\sin{\\left(\\theta_{5}{\\left(t \\right)} \\right)}\\end{matrix}\\right]$"
      ],
      "text/plain": [
       "Matrix([\n",
       "[-g*(l_1*m_2 + l_1*m_3 + l_1*m_4 + l_1*m_5 + lc_1*m_1)*sin(theta1(t))],\n",
       "[          -g*(l_2*m_3 + l_2*m_4 + l_2*m_5 + lc_2*m_2)*sin(theta2(t))],\n",
       "[                                          -g*lc_3*m_3*sin(theta3(t))],\n",
       "[                       g*(l_4*m_5 + m_4*(l_4 - lc_4))*sin(theta4(t))],\n",
       "[                                   g*m_5*(l_5 - lc_5)*sin(theta5(t))]])"
      ]
     },
     "execution_count": 72,
     "metadata": {},
     "output_type": "execute_result"
    }
   ],
   "source": [
    "system_GravityMatrix = simplify(diff(system_LM_forcing, g)*g)\n",
    "system_GravityMatrix"
   ]
  },
  {
   "cell_type": "markdown",
   "id": "9b2d22a6",
   "metadata": {},
   "source": [
    "#### 計算結果與Ajayi論文中一致"
   ]
  },
  {
   "cell_type": "markdown",
   "id": "6b053ac2",
   "metadata": {},
   "source": []
  }
 ],
 "metadata": {
  "kernelspec": {
   "display_name": "Python 3",
   "language": "python",
   "name": "python3"
  },
  "language_info": {
   "codemirror_mode": {
    "name": "ipython",
    "version": 3
   },
   "file_extension": ".py",
   "mimetype": "text/x-python",
   "name": "python",
   "nbconvert_exporter": "python",
   "pygments_lexer": "ipython3",
   "version": "3.8.8"
  }
 },
 "nbformat": 4,
 "nbformat_minor": 5
}
