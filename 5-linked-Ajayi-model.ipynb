{
 "cells": [
  {
   "cell_type": "markdown",
   "id": "6344b6be",
   "metadata": {},
   "source": [
    "<img src=\"figures/Ajayi_Model.png\" alt=\"Drawing\" style=\"width: 400px;\"/>"
   ]
  },
  {
   "cell_type": "markdown",
   "id": "7542d3c8",
   "metadata": {},
   "source": [
    "參考文章為:Modelling and control of actuated lower limb exoskeletons : a mathematical application using central pattern generators and nonlinear feedback control techniques"
   ]
  },
  {
   "cell_type": "code",
   "execution_count": 1,
   "id": "bc366eae",
   "metadata": {},
   "outputs": [],
   "source": [
    "# 定義需要用到的函式\n",
    "from sympy import symbols, Matrix, cos, sin, simplify, diff\n",
    "from sympy.physics.mechanics import dynamicsymbols"
   ]
  },
  {
   "cell_type": "code",
   "execution_count": 4,
   "id": "aad02842",
   "metadata": {},
   "outputs": [],
   "source": [
    "# th1 = theta1\n",
    "# _d0 = 0次微分, _d1 = 1次微分, _d2 = 2次微分\n",
    "th1_d0, th2_d0, th3_d0, th4_d0, th5_d0 = dynamicsymbols('theta1 theta2 theta3 theta4 theta5')\n",
    "th1_d1, th2_d1, th3_d1, th4_d1, th5_d1 = dynamicsymbols('theta1 theta2 theta3 theta4 theta5',1)\n",
    "th1_d2, th2_d2, th3_d2, th4_d2, th5_d2 = dynamicsymbols('theta1 theta2 theta3 theta4 theta5',2)"
   ]
  },
  {
   "cell_type": "code",
   "execution_count": 13,
   "id": "222cd6d9",
   "metadata": {},
   "outputs": [],
   "source": [
    "# define scalars\n",
    "t, g = symbols('t g') # time, gravity\n",
    "ms, mt, mb = symbols('m_s  m_t  m_b') # mass of shank, thigh, body\n",
    "Ls, Lt, Lb = symbols('L_s  L_t  L_b') # length of shank, thigh, body\n",
    "Is, It, Ib = symbols('I_s  I_t  I_b') # moment of inertia of shank, thigh, body\n",
    "LGs, LGt, LGb = symbols('LG_s  LG_t  LG_b') # length of c.g. of shank, thigh, body"
   ]
  },
  {
   "cell_type": "code",
   "execution_count": 12,
   "id": "6489921d",
   "metadata": {},
   "outputs": [
    {
     "data": {
      "text/latex": [
       "$\\displaystyle I_{s}$"
      ],
      "text/plain": [
       "I_s"
      ]
     },
     "execution_count": 12,
     "metadata": {},
     "output_type": "execute_result"
    }
   ],
   "source": [
    "Is"
   ]
  },
  {
   "cell_type": "markdown",
   "id": "f9e8106f",
   "metadata": {},
   "source": []
  },
  {
   "cell_type": "markdown",
   "id": "4bbab782",
   "metadata": {},
   "source": []
  }
 ],
 "metadata": {
  "kernelspec": {
   "display_name": "Python 3",
   "language": "python",
   "name": "python3"
  },
  "language_info": {
   "codemirror_mode": {
    "name": "ipython",
    "version": 3
   },
   "file_extension": ".py",
   "mimetype": "text/x-python",
   "name": "python",
   "nbconvert_exporter": "python",
   "pygments_lexer": "ipython3",
   "version": "3.7.3"
  }
 },
 "nbformat": 4,
 "nbformat_minor": 5
}
