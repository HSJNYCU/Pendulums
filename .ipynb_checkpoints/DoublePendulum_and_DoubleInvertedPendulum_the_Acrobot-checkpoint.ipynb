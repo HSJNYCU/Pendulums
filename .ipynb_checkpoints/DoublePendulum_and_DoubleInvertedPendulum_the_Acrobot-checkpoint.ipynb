{
 "cells": [
  {
   "cell_type": "markdown",
   "id": "d5e0d527",
   "metadata": {},
   "source": [
    "# Double Pendulums\n",
    "## Introduction\n",
    "This document include double-pendulum and double-inverted-pendulum with both point mass and physical pendulum. The physical double-inverted pendulum also refer to the well-known example \"Acrobot\" calculated by Spong."
   ]
  },
  {
   "cell_type": "code",
   "execution_count": null,
   "id": "1200c985",
   "metadata": {},
   "outputs": [],
   "source": []
  },
  {
   "cell_type": "code",
   "execution_count": null,
   "id": "8d4551d7",
   "metadata": {},
   "outputs": [],
   "source": []
  },
  {
   "cell_type": "code",
   "execution_count": null,
   "id": "6ed64a38",
   "metadata": {},
   "outputs": [],
   "source": []
  },
  {
   "cell_type": "markdown",
   "id": "ed251553",
   "metadata": {},
   "source": [
    "## Acrobot - The physical double inverted pendulum\n",
    "![Acrobot.png](figures/Acrobot_Double_Inverted_Pendulum.png)"
   ]
  },
  {
   "cell_type": "markdown",
   "id": "ee9a5620",
   "metadata": {},
   "source": [
    "The equations of motion is given by\n",
    "$$\\begin{bmatrix} \n",
    "m_1 l_{c1}^2 + m_2(l_1^2 + l_{c2}^2 + 2 l_1 l_{c2} C_{q2}) + I_1 + I_2  \n",
    "&& \n",
    "m_2( l_{c2}^2 + l_1 l_{c2} C_{q2} + I_2)\n",
    "\\\\\n",
    "m_2( l_{c2}^2 + l_1 l_{c2} C_{q2} + I_2)\n",
    "&&\n",
    "123\n",
    "\\end{bmatrix}$$"
   ]
  },
  {
   "cell_type": "code",
   "execution_count": null,
   "id": "35d232e8",
   "metadata": {},
   "outputs": [],
   "source": []
  },
  {
   "cell_type": "code",
   "execution_count": null,
   "id": "47aa6283",
   "metadata": {},
   "outputs": [],
   "source": []
  },
  {
   "cell_type": "code",
   "execution_count": null,
   "id": "e60afc48",
   "metadata": {},
   "outputs": [],
   "source": []
  }
 ],
 "metadata": {
  "kernelspec": {
   "display_name": "Python 3",
   "language": "python",
   "name": "python3"
  },
  "language_info": {
   "codemirror_mode": {
    "name": "ipython",
    "version": 3
   },
   "file_extension": ".py",
   "mimetype": "text/x-python",
   "name": "python",
   "nbconvert_exporter": "python",
   "pygments_lexer": "ipython3",
   "version": "3.7.3"
  }
 },
 "nbformat": 4,
 "nbformat_minor": 5
}
