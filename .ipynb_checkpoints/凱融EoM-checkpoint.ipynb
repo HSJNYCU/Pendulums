{
 "cells": [
  {
   "attachments": {},
   "cell_type": "markdown",
   "id": "81e33a7f",
   "metadata": {},
   "source": [
    "# 計算凱融的EoM"
   ]
  },
  {
   "cell_type": "code",
   "execution_count": 1,
   "id": "1269631c",
   "metadata": {},
   "outputs": [],
   "source": [
    "from sympy import *\n",
    "from sympy.physics.vector import dynamicsymbols\n",
    "\n",
    "qH, qK = dynamicsymbols('q_H q_K')\n",
    "dqH, dqK = dynamicsymbols('q_H q_K',1)\n",
    "ddqH, ddqK = dynamicsymbols('q_H q_K',2)\n",
    "\n",
    "mT, mS, lT, lTC, lS, lSC, IT, IS, t, g = symbols('m_T  m_S  l_T  l_{TC}  l_S  l_{SC}  I_T  I_S  t  g')"
   ]
  },
  {
   "attachments": {
    "image.png": {
     "image/png": "[encoded data removed]"
    }
   },
   "cell_type": "markdown",
   "id": "06f3567c",
   "metadata": {},
   "source": [
    "![image.png](attachment:image.png)"
   ]
  },
  {
   "cell_type": "markdown",
   "id": "f8515fc1",
   "metadata": {},
   "source": [
    "### 計算位移向量\n",
    "\n",
    "定義基底向量為$\\begin{bmatrix} \\hat{x}  \\\\  \\hat{y}  \\end{bmatrix}$\n",
    "\n",
    "* 質心$m_T$的位移向量$\\mathbf{r}_T = \\begin{bmatrix} l_{TC} \\sin{q_H}  \\\\  -l_{TC} \\cos{q_H}  \\end{bmatrix}$\n",
    "\n",
    "* 質心$m_S$的位移向量$\\mathbf{r}_S = \\begin{bmatrix} \n",
    "l_{T} \\sin{q_H}  + l_{SC} \\sin{q_H - q_K}\n",
    "\\\\    \n",
    "-l_{T} \\cos{q_H}  - l_{SC} \\cos{q_H - q_K}\n",
    "\\end{bmatrix}$"
   ]
  },
  {
   "cell_type": "code",
   "execution_count": 2,
   "id": "b424b0af",
   "metadata": {},
   "outputs": [],
   "source": [
    "rT = Matrix([[lTC*sin(qH)], \n",
    "             [-lTC*cos(qH)]])\n",
    "\n",
    "rS = Matrix([[lT*sin(qH) + lSC*sin(qH - qK)], \n",
    "             [-lT*cos(qH) - lSC*cos(qH - qK)]])"
   ]
  },
  {
   "cell_type": "markdown",
   "id": "db2569d8",
   "metadata": {},
   "source": [
    "### 計算速度向量"
   ]
  },
  {
   "cell_type": "code",
   "execution_count": 3,
   "id": "96850177",
   "metadata": {},
   "outputs": [],
   "source": [
    "vT = diff(rT, t)\n",
    "vS = diff(rS, t)"
   ]
  },
  {
   "cell_type": "markdown",
   "id": "b28c11bc",
   "metadata": {},
   "source": [
    "### 計算角速度"
   ]
  },
  {
   "cell_type": "code",
   "execution_count": 4,
   "id": "110bb528",
   "metadata": {},
   "outputs": [],
   "source": [
    "wT = diff(qH, t)\n",
    "wS = diff(qH-qK, t)"
   ]
  },
  {
   "cell_type": "markdown",
   "id": "d18d19b7",
   "metadata": {},
   "source": [
    "### 計算動能、位能、Lagrangian"
   ]
  },
  {
   "cell_type": "code",
   "execution_count": 5,
   "id": "3df39ff1",
   "metadata": {},
   "outputs": [],
   "source": [
    "Ke = mT*vT.T.dot(vT)/2 + mS*vS.T.dot(vS)/2 + IT*wT**2/2 + IS*wS**2/2\n",
    "Pe = mT*g*rT[1] + mS*g*rS[1]\n",
    "\n",
    "Lang = Ke-Pe"
   ]
  },
  {
   "cell_type": "code",
   "execution_count": 6,
   "id": "0e778bb7",
   "metadata": {},
   "outputs": [],
   "source": [
    "from sympy.physics.mechanics import LagrangesMethod\n",
    "\n",
    "LM = LagrangesMethod(Lang, [qH, qK])"
   ]
  },
  {
   "cell_type": "code",
   "execution_count": 7,
   "id": "142c290b",
   "metadata": {},
   "outputs": [
    {
     "data": {
      "text/latex": [
       "$\\displaystyle \\left[\\begin{matrix}I_{S} \\left(\\frac{d^{2}}{d t^{2}} \\operatorname{q_{H}}{\\left(t \\right)} - \\frac{d^{2}}{d t^{2}} \\operatorname{q_{K}}{\\left(t \\right)}\\right) + I_{T} \\frac{d^{2}}{d t^{2}} \\operatorname{q_{H}}{\\left(t \\right)} + g l_{TC} m_{T} \\sin{\\left(\\operatorname{q_{H}}{\\left(t \\right)} \\right)} + g m_{S} \\left(l_{T} \\sin{\\left(\\operatorname{q_{H}}{\\left(t \\right)} \\right)} + l_{SC} \\sin{\\left(\\operatorname{q_{H}}{\\left(t \\right)} - \\operatorname{q_{K}}{\\left(t \\right)} \\right)}\\right) + l_{TC}^{2} m_{T} \\frac{d^{2}}{d t^{2}} \\operatorname{q_{H}}{\\left(t \\right)} + m_{S} \\left(l_{T}^{2} \\frac{d^{2}}{d t^{2}} \\operatorname{q_{H}}{\\left(t \\right)} - 2 l_{T} l_{SC} \\sin{\\left(\\operatorname{q_{K}}{\\left(t \\right)} \\right)} \\frac{d}{d t} \\operatorname{q_{H}}{\\left(t \\right)} \\frac{d}{d t} \\operatorname{q_{K}}{\\left(t \\right)} + l_{T} l_{SC} \\sin{\\left(\\operatorname{q_{K}}{\\left(t \\right)} \\right)} \\left(\\frac{d}{d t} \\operatorname{q_{K}}{\\left(t \\right)}\\right)^{2} + 2 l_{T} l_{SC} \\cos{\\left(\\operatorname{q_{K}}{\\left(t \\right)} \\right)} \\frac{d^{2}}{d t^{2}} \\operatorname{q_{H}}{\\left(t \\right)} - l_{T} l_{SC} \\cos{\\left(\\operatorname{q_{K}}{\\left(t \\right)} \\right)} \\frac{d^{2}}{d t^{2}} \\operatorname{q_{K}}{\\left(t \\right)} + l_{SC}^{2} \\frac{d^{2}}{d t^{2}} \\operatorname{q_{H}}{\\left(t \\right)} - l_{SC}^{2} \\frac{d^{2}}{d t^{2}} \\operatorname{q_{K}}{\\left(t \\right)}\\right)\\\\- I_{S} \\frac{d^{2}}{d t^{2}} \\operatorname{q_{H}}{\\left(t \\right)} + I_{S} \\frac{d^{2}}{d t^{2}} \\operatorname{q_{K}}{\\left(t \\right)} - g l_{SC} m_{S} \\sin{\\left(\\operatorname{q_{H}}{\\left(t \\right)} - \\operatorname{q_{K}}{\\left(t \\right)} \\right)} + l_{T} l_{SC} m_{S} \\sin{\\left(\\operatorname{q_{K}}{\\left(t \\right)} \\right)} \\left(\\frac{d}{d t} \\operatorname{q_{H}}{\\left(t \\right)}\\right)^{2} - l_{T} l_{SC} m_{S} \\cos{\\left(\\operatorname{q_{K}}{\\left(t \\right)} \\right)} \\frac{d^{2}}{d t^{2}} \\operatorname{q_{H}}{\\left(t \\right)} - l_{SC}^{2} m_{S} \\frac{d^{2}}{d t^{2}} \\operatorname{q_{H}}{\\left(t \\right)} + l_{SC}^{2} m_{S} \\frac{d^{2}}{d t^{2}} \\operatorname{q_{K}}{\\left(t \\right)}\\end{matrix}\\right]$"
      ],
      "text/plain": [
       "Matrix([\n",
       "[I_S*(Derivative(q_H(t), (t, 2)) - Derivative(q_K(t), (t, 2))) + I_T*Derivative(q_H(t), (t, 2)) + g*l_{TC}*m_T*sin(q_H(t)) + g*m_S*(l_T*sin(q_H(t)) + l_{SC}*sin(q_H(t) - q_K(t))) + l_{TC}**2*m_T*Derivative(q_H(t), (t, 2)) + m_S*(l_T**2*Derivative(q_H(t), (t, 2)) - 2*l_T*l_{SC}*sin(q_K(t))*Derivative(q_H(t), t)*Derivative(q_K(t), t) + l_T*l_{SC}*sin(q_K(t))*Derivative(q_K(t), t)**2 + 2*l_T*l_{SC}*cos(q_K(t))*Derivative(q_H(t), (t, 2)) - l_T*l_{SC}*cos(q_K(t))*Derivative(q_K(t), (t, 2)) + l_{SC}**2*Derivative(q_H(t), (t, 2)) - l_{SC}**2*Derivative(q_K(t), (t, 2)))],\n",
       "[                                                                                                                                                                                                                                                                               -I_S*Derivative(q_H(t), (t, 2)) + I_S*Derivative(q_K(t), (t, 2)) - g*l_{SC}*m_S*sin(q_H(t) - q_K(t)) + l_T*l_{SC}*m_S*sin(q_K(t))*Derivative(q_H(t), t)**2 - l_T*l_{SC}*m_S*cos(q_K(t))*Derivative(q_H(t), (t, 2)) - l_{SC}**2*m_S*Derivative(q_H(t), (t, 2)) + l_{SC}**2*m_S*Derivative(q_K(t), (t, 2))]])"
      ]
     },
     "execution_count": 7,
     "metadata": {},
     "output_type": "execute_result"
    }
   ],
   "source": [
    "LM_Lagrange_eq = simplify(LM.form_lagranges_equations())\n",
    "LM_Lagrange_eq"
   ]
  },
  {
   "cell_type": "code",
   "execution_count": 8,
   "id": "e4d3e292",
   "metadata": {},
   "outputs": [
    {
     "data": {
      "text/latex": [
       "$\\displaystyle \\left[\\begin{matrix}I_{S} + I_{T} + l_{TC}^{2} m_{T} + m_{S} \\left(l_{T}^{2} + 2 l_{T} l_{SC} \\cos{\\left(\\operatorname{q_{K}}{\\left(t \\right)} \\right)} + l_{SC}^{2}\\right) & - I_{S} - l_{SC} m_{S} \\left(l_{T} \\cos{\\left(\\operatorname{q_{K}}{\\left(t \\right)} \\right)} + l_{SC}\\right)\\\\- I_{S} - l_{SC} m_{S} \\left(l_{T} \\cos{\\left(\\operatorname{q_{K}}{\\left(t \\right)} \\right)} + l_{SC}\\right) & I_{S} + l_{SC}^{2} m_{S}\\end{matrix}\\right]$"
      ],
      "text/plain": [
       "Matrix([\n",
       "[I_S + I_T + l_{TC}**2*m_T + m_S*(l_T**2 + 2*l_T*l_{SC}*cos(q_K(t)) + l_{SC}**2), -I_S - l_{SC}*m_S*(l_T*cos(q_K(t)) + l_{SC})],\n",
       "[                                   -I_S - l_{SC}*m_S*(l_T*cos(q_K(t)) + l_{SC}),                          I_S + l_{SC}**2*m_S]])"
      ]
     },
     "execution_count": 8,
     "metadata": {},
     "output_type": "execute_result"
    }
   ],
   "source": [
    "LM_MassMatrix = simplify(LM.mass_matrix);\n",
    "LM_MassMatrix"
   ]
  },
  {
   "cell_type": "code",
   "execution_count": 9,
   "id": "44d6b645",
   "metadata": {},
   "outputs": [
    {
     "data": {
      "text/latex": [
       "$\\displaystyle \\left[\\begin{matrix}l_{T} l_{SC} m_{S} \\left(- 2 \\frac{d}{d t} \\operatorname{q_{H}}{\\left(t \\right)} + \\frac{d}{d t} \\operatorname{q_{K}}{\\left(t \\right)}\\right) \\sin{\\left(\\operatorname{q_{K}}{\\left(t \\right)} \\right)} \\frac{d}{d t} \\operatorname{q_{K}}{\\left(t \\right)}\\\\l_{T} l_{SC} m_{S} \\sin{\\left(\\operatorname{q_{K}}{\\left(t \\right)} \\right)} \\left(\\frac{d}{d t} \\operatorname{q_{H}}{\\left(t \\right)}\\right)^{2}\\end{matrix}\\right]$"
      ],
      "text/plain": [
       "Matrix([\n",
       "[l_T*l_{SC}*m_S*(-2*Derivative(q_H(t), t) + Derivative(q_K(t), t))*sin(q_K(t))*Derivative(q_K(t), t)],\n",
       "[                                                l_T*l_{SC}*m_S*sin(q_K(t))*Derivative(q_H(t), t)**2]])"
      ]
     },
     "execution_count": 9,
     "metadata": {},
     "output_type": "execute_result"
    }
   ],
   "source": [
    "LM_TotalForce = -LM.forcing\n",
    "LM_ForceMatrix = simplify(LM_TotalForce - diff(LM_TotalForce, g)*g)\n",
    "LM_ForceMatrix"
   ]
  },
  {
   "cell_type": "code",
   "execution_count": 10,
   "id": "4532f7d2",
   "metadata": {},
   "outputs": [
    {
     "data": {
      "text/latex": [
       "$\\displaystyle \\left[\\begin{matrix}g \\left(l_{TC} m_{T} \\sin{\\left(\\operatorname{q_{H}}{\\left(t \\right)} \\right)} + m_{S} \\left(l_{T} \\sin{\\left(\\operatorname{q_{H}}{\\left(t \\right)} \\right)} + l_{SC} \\sin{\\left(\\operatorname{q_{H}}{\\left(t \\right)} - \\operatorname{q_{K}}{\\left(t \\right)} \\right)}\\right)\\right)\\\\- g l_{SC} m_{S} \\sin{\\left(\\operatorname{q_{H}}{\\left(t \\right)} - \\operatorname{q_{K}}{\\left(t \\right)} \\right)}\\end{matrix}\\right]$"
      ],
      "text/plain": [
       "Matrix([\n",
       "[g*(l_{TC}*m_T*sin(q_H(t)) + m_S*(l_T*sin(q_H(t)) + l_{SC}*sin(q_H(t) - q_K(t))))],\n",
       "[                                              -g*l_{SC}*m_S*sin(q_H(t) - q_K(t))]])"
      ]
     },
     "execution_count": 10,
     "metadata": {},
     "output_type": "execute_result"
    }
   ],
   "source": [
    "LM_GravityMatrix = simplify(diff(LM_TotalForce,g)*g)\n",
    "LM_GravityMatrix"
   ]
  },
  {
   "cell_type": "code",
   "execution_count": null,
   "id": "57c3aa99",
   "metadata": {},
   "outputs": [],
   "source": []
  }
 ],
 "metadata": {
  "kernelspec": {
   "display_name": "Python 3",
   "language": "python",
   "name": "python3"
  },
  "language_info": {
   "codemirror_mode": {
    "name": "ipython",
    "version": 3
   },
   "file_extension": ".py",
   "mimetype": "text/x-python",
   "name": "python",
   "nbconvert_exporter": "python",
   "pygments_lexer": "ipython3",
   "version": "3.8.8"
  }
 },
 "nbformat": 4,
 "nbformat_minor": 5
}
