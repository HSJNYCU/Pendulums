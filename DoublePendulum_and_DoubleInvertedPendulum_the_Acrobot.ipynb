{
 "cells": [
  {
   "cell_type": "markdown",
   "id": "ab479091",
   "metadata": {},
   "source": [
    "# Double Pendulums\n",
    "## Introduction\n",
    "This document include double-pendulum and double-inverted-pendulum with both point mass and physical pendulum. The physical double-inverted pendulum also refer to the well-known example \"Acrobot\" calculated by Spong."
   ]
  },
  {
   "cell_type": "code",
   "execution_count": null,
   "id": "ffd596e6",
   "metadata": {},
   "outputs": [],
   "source": []
  },
  {
   "cell_type": "code",
   "execution_count": null,
   "id": "ed6fd034",
   "metadata": {},
   "outputs": [],
   "source": []
  },
  {
   "cell_type": "code",
   "execution_count": null,
   "id": "8f617561",
   "metadata": {},
   "outputs": [],
   "source": []
  },
  {
   "cell_type": "markdown",
   "id": "1ff37760",
   "metadata": {},
   "source": [
    "## Acrobot - The physical double inverted pendulum\n",
    "![Acrobot.png](figures/Acrobot_Double_Inverted_Pendulum.png)"
   ]
  },
  {
   "cell_type": "markdown",
   "id": "8600ef55",
   "metadata": {},
   "source": [
    "The equations of motion is given by\n",
    "\\begin{align}\n",
    "&\\begin{bmatrix} \n",
    "m_1 l_{c1}^2 + m_2(l_1^2 + l_{c2}^2 + 2 l_1 l_{c2} C_{q2}) + I_1 + I_2  \n",
    "&& \n",
    "m_2( l_{c2}^2 + l_1 l_{c2} C_{q2} + I_2)\n",
    "\\\\\n",
    "m_2( l_{c2}^2 + l_1 l_{c2} C_{q2} + I_2)\n",
    "&&\n",
    "m_2 l_{c2}^2 + I_2\n",
    "\\end{bmatrix}\n",
    "\\begin{bmatrix}\n",
    "\\ddot{q}_1 \\\\\n",
    "\\ddot{q}_2\n",
    "\\end{bmatrix}\n",
    "\\\\\n",
    "+\n",
    "&\\begin{bmatrix}\n",
    "-m_2 l_1 l_{c2} S_{q2} \\dot{q}_2^2 - 2 m_1 l_1 l_{c2} S_{q2} \\dot{q}_1 \\dot{q}_2\n",
    "\\\\\n",
    "m_2 l_1 l_{c2} S_{q2} \\dot{q}_1^2\n",
    "\\end{bmatrix}\n",
    "+\n",
    "\\begin{bmatrix}\n",
    "(m_1 l_{c1} + m_2 l_1)g C_{q1} + m_2 l_{c2} g C_{q1+q2}\n",
    "\\\\\n",
    "m_2 l_{c2}gC_{q1 + q2}\n",
    "\\end{bmatrix}\n",
    "=\n",
    "\\begin{bmatrix}\n",
    "\\tau_1 \n",
    "\\\\\n",
    "\\tau_2\n",
    "\\end{bmatrix}\n",
    "\\end{align}"
   ]
  },
  {
   "cell_type": "code",
   "execution_count": null,
   "id": "90fedd01",
   "metadata": {},
   "outputs": [],
   "source": []
  },
  {
   "cell_type": "code",
   "execution_count": null,
   "id": "05d023da",
   "metadata": {},
   "outputs": [],
   "source": []
  },
  {
   "cell_type": "code",
   "execution_count": null,
   "id": "12b2b169",
   "metadata": {},
   "outputs": [],
   "source": []
  }
 ],
 "metadata": {
  "kernelspec": {
   "display_name": "Python 3",
   "language": "python",
   "name": "python3"
  },
  "language_info": {
   "codemirror_mode": {
    "name": "ipython",
    "version": 3
   },
   "file_extension": ".py",
   "mimetype": "text/x-python",
   "name": "python",
   "nbconvert_exporter": "python",
   "pygments_lexer": "ipython3",
   "version": "3.7.3"
  }
 },
 "nbformat": 4,
 "nbformat_minor": 5
}
