{
 "cells": [
  {
   "cell_type": "markdown",
   "id": "ab479091",
   "metadata": {},
   "source": [
    "# Double Pendulums\n",
    "## Introduction\n",
    "This document include double-pendulum and double-inverted-pendulum with both point mass and physical pendulum. The physical double-inverted pendulum also refer to the well-known example \"Acrobot\" calculated by Spong."
   ]
  },
  {
   "cell_type": "code",
   "execution_count": null,
   "id": "ffd596e6",
   "metadata": {},
   "outputs": [],
   "source": []
  },
  {
   "cell_type": "code",
   "execution_count": null,
   "id": "ed6fd034",
   "metadata": {},
   "outputs": [],
   "source": []
  },
  {
   "cell_type": "code",
   "execution_count": null,
   "id": "8f617561",
   "metadata": {},
   "outputs": [],
   "source": []
  },
  {
   "cell_type": "markdown",
   "id": "1ff37760",
   "metadata": {},
   "source": [
    "## Acrobot - The physical double inverted pendulum\n",
    "![Acrobot.png](figures/Acrobot_Double_Inverted_Pendulum.png)"
   ]
  },
  {
   "cell_type": "markdown",
   "id": "8600ef55",
   "metadata": {},
   "source": [
    "The equations of motion is given by\n",
    "\\begin{align}\n",
    "&\\begin{bmatrix} \n",
    "m_1 l_{c1}^2 + m_2(l_1^2 + l_{c2}^2 + 2 l_1 l_{c2} C_{q2}) + I_1 + I_2  \n",
    "&& \n",
    "m_2( l_{c2}^2 + l_1 l_{c2} C_{q2} + I_2)\n",
    "\\\\\n",
    "m_2( l_{c2}^2 + l_1 l_{c2} C_{q2} + I_2)\n",
    "&&\n",
    "m_2 l_{c2}^2 + I_2\n",
    "\\end{bmatrix}\n",
    "\\begin{bmatrix}\n",
    "\\ddot{q}_1 \\\\\n",
    "\\ddot{q}_2\n",
    "\\end{bmatrix}\n",
    "\\\\\n",
    "+\n",
    "&\\begin{bmatrix}\n",
    "-m_2 l_1 l_{c2} S_{q2} \\dot{q}_2^2 - 2 m_1 l_1 l_{c2} S_{q2} \\dot{q}_1 \\dot{q}_2\n",
    "\\\\\n",
    "m_2 l_1 l_{c2} S_{q2} \\dot{q}_1^2\n",
    "\\end{bmatrix}\n",
    "+\n",
    "\\begin{bmatrix}\n",
    "(m_1 l_{c1} + m_2 l_1)g C_{q1} + m_2 l_{c2} g C_{q1+q2}\n",
    "\\\\\n",
    "m_2 l_{c2}gC_{q1 + q2}\n",
    "\\end{bmatrix}\n",
    "=\n",
    "\\begin{bmatrix}\n",
    "\\tau_1 \n",
    "\\\\\n",
    "\\tau_2\n",
    "\\end{bmatrix}\n",
    "\\end{align}"
   ]
  },
  {
   "cell_type": "code",
   "execution_count": 7,
   "id": "90fedd01",
   "metadata": {},
   "outputs": [],
   "source": [
    "# import libraries\n",
    "from sympy.physics.vector import dynamicsymbols\n",
    "from sympy import symbols\n",
    "from sympy import Matrix, cos, sin, diff"
   ]
  },
  {
   "cell_type": "markdown",
   "id": "48be2f94",
   "metadata": {},
   "source": [
    "### Define Arcobot's Symbols"
   ]
  },
  {
   "cell_type": "code",
   "execution_count": 2,
   "id": "db7ead76",
   "metadata": {},
   "outputs": [],
   "source": [
    "q1, q2 = dynamicsymbols('q_1 q_2')\n",
    "dq1, dq2 = dynamicsymbols('q_1 q_2',1)\n",
    "ddq1, ddq2 = dynamicsymbols('q_1 q_2',2)\n",
    "m1, m2, l1, l2, lc1, lc2, I1, I2, t, g = symbols('m_1 m_2 l_1 l_2 l_{c1} l_{c2} I_1 I_2 t g ')"
   ]
  },
  {
   "cell_type": "markdown",
   "id": "f9a0c292",
   "metadata": {},
   "source": [
    "The displacement vector of Arcobot is given by\n",
    "$$\n",
    "\\vec{r}_1 = \n",
    "\\begin{bmatrix} \n",
    "l_{c1} C_{q1} \\\\\n",
    "l_{c1} S_{q1}\n",
    "\\end{bmatrix}\n",
    "~~~~~~~~~\n",
    "\\vec{r}_2 = \n",
    "\\begin{bmatrix} \n",
    "l_{1} C_{q1} + l_{c2}C_{q1+q2} \\\\\n",
    "l_{1} S_{q1} + l_{c2}S_{q1+q2}\n",
    "\\end{bmatrix}\n",
    "$$\n"
   ]
  },
  {
   "cell_type": "code",
   "execution_count": 3,
   "id": "82450add",
   "metadata": {},
   "outputs": [],
   "source": [
    "r1 = Matrix([[lc1*cos(q1)], \n",
    "             [lc1*sin(q1)]])\n",
    "r2 = Matrix([[l1*cos(q1) + lc2*cos(q1+q2)], \n",
    "             [l1*sin(q1) + lc2*sin(q1+q2)]])"
   ]
  },
  {
   "cell_type": "markdown",
   "id": "91a2ce62",
   "metadata": {},
   "source": [
    "We then difference the displacement vectors $r_1,~r_2$ to obtain velocity velocity vectors $v_1,~v_2$\n",
    "\n",
    "$$\n",
    "\\begin{align}\n",
    "&\\vec{v}_1 = \\frac{d}{dt}\\vec{r}_1 = \n",
    "\\begin{bmatrix}\n",
    "-l_{c1} S_{q1} \\dot{q}_1 \\\\\n",
    "l_{c1} C_{q1} \\dot{q}_1\n",
    "\\end{bmatrix}\n",
    "\\\\\n",
    "&\\vec{v}_2 = \\frac{d}{dt}\\vec{r}_2 = \n",
    "\\begin{bmatrix} \n",
    "-l_{1} S_{q1} \\dot{q}_1 - l_{c2}S_{q1+q2}(\\dot{q}_1 + \\dot{q}_2) \\\\\n",
    " l_{1} C_{q1} \\dot{q}_1 + l_{c2}C_{q1+q2}(\\dot{q}_1 + \\dot{q}_2)\n",
    "\\end{bmatrix}\n",
    "\\end{align}\n",
    "$$"
   ]
  },
  {
   "cell_type": "code",
   "execution_count": 4,
   "id": "798b03fc",
   "metadata": {},
   "outputs": [],
   "source": [
    "v1 = diff(r1, t)\n",
    "v2 = diff(r2, t)"
   ]
  },
  {
   "cell_type": "markdown",
   "id": "e3daa65a",
   "metadata": {},
   "source": [
    "The angular velocity of Acrobot is given by\n",
    "$$\n",
    "\\begin{align}\n",
    "&\\omega_1 = \\dot{q}_1\n",
    "\\\\\n",
    "&\\omega_2 = \\dot{q}_1 + \\dot{q}_2\n",
    "\\end{align}\n",
    "$$"
   ]
  },
  {
   "cell_type": "code",
   "execution_count": 5,
   "id": "687ba37e",
   "metadata": {},
   "outputs": [],
   "source": [
    "w1 = dq1\n",
    "w2 = dq2"
   ]
  },
  {
   "cell_type": "markdown",
   "id": "19ff5eee",
   "metadata": {},
   "source": [
    "Calculate the kinematic energy Ke"
   ]
  },
  {
   "cell_type": "code",
   "execution_count": 15,
   "id": "cc785135",
   "metadata": {},
   "outputs": [],
   "source": [
    "from sympy.physics.vector.functions import dot\n",
    "from sympy import simplify\n",
    "Ke = m1*v1.T.dot(v1)/2 + m2*v2.T.dot(v2)/2 + I1*w1**2/2 + I2*w2**2/2\n",
    "simplify(Ke)"
   ]
  },
  {
   "cell_type": "code",
   "execution_count": null,
   "id": "705d9ac7",
   "metadata": {},
   "outputs": [],
   "source": []
  },
  {
   "cell_type": "code",
   "execution_count": null,
   "id": "62830f39",
   "metadata": {},
   "outputs": [],
   "source": []
  },
  {
   "cell_type": "code",
   "execution_count": null,
   "id": "551d5676",
   "metadata": {},
   "outputs": [],
   "source": []
  },
  {
   "cell_type": "code",
   "execution_count": null,
   "id": "76c19911",
   "metadata": {},
   "outputs": [],
   "source": []
  }
 ],
 "metadata": {
  "kernelspec": {
   "display_name": "Python 3",
   "language": "python",
   "name": "python3"
  },
  "language_info": {
   "codemirror_mode": {
    "name": "ipython",
    "version": 3
   },
   "file_extension": ".py",
   "mimetype": "text/x-python",
   "name": "python",
   "nbconvert_exporter": "python",
   "pygments_lexer": "ipython3",
   "version": "3.7.3"
  }
 },
 "nbformat": 4,
 "nbformat_minor": 5
}
